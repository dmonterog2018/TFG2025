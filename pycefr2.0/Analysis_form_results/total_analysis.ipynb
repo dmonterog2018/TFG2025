{
 "cells": [
  {
   "cell_type": "code",
   "execution_count": 1,
   "metadata": {},
   "outputs": [],
   "source": [
    "import pandas as pd\n",
    "import numpy as np\n",
    "\n",
    "# Variable xlsx file\n",
    "xlsx_file = 'filter/Evaluation_filter2_long.xlsx'\n",
    "\n",
    "# Variable csv file\n",
    "csv_file = 'filter/Evaluation_filter2_long.csv'\n",
    "\n",
    "# Get csv file\n",
    "read_file = pd.read_excel (xlsx_file)\n",
    "read_file.to_csv (csv_file, index = None, header=True)\n",
    "\n",
    "# Read csv file\n",
    "reader = pd.read_csv(csv_file)\n",
    "\n",
    "# Create array to levels\n",
    "levels = [['Class Element', 'Level']]"
   ]
  },
  {
   "cell_type": "code",
   "execution_count": 2,
   "metadata": {},
   "outputs": [
    {
     "name": "stdout",
     "output_type": "stream",
     "text": [
      "\n",
      "The predominant use of Python is: At work\n"
     ]
    }
   ],
   "source": [
    "from collections import Counter\n",
    "\n",
    "# Save the answer using Python\n",
    "res_using = reader.iloc[:, 107].to_list()\n",
    "# print(res_using)\n",
    "\n",
    "# Remove 'nan' element of list\n",
    "res_using = [x for x in res_using if pd.isnull(x) == False]\n",
    "# print(res_using)\n",
    "\n",
    "# Calculating the most common\n",
    "user_using_python = Counter(res_using).most_common()[0][0]\n",
    "print('\\nThe predominant use of Python is: ' + user_using_python)"
   ]
  },
  {
   "cell_type": "code",
   "execution_count": 3,
   "metadata": {},
   "outputs": [
    {
     "name": "stdout",
     "output_type": "stream",
     "text": [
      "User with A1 level: 0\n",
      "User with A2 level: 0\n",
      "User with B1 level: 1\n",
      "User with B2 level: 2\n",
      "User with C1 level: 3\n",
      "User with C2 level: 1\n",
      "\n",
      "The predominant level of users is: C1 - Effective operational proficiency or advanced\n"
     ]
    }
   ],
   "source": [
    "# Save the answer level Python\n",
    "res_level = reader.iloc[:, 1].to_list()\n",
    "#print(res_level)\n",
    "arr_levels = res_level\n",
    "\n",
    "# Counting repetitions of each level\n",
    "level_A1, level_A2, level_B1, level_B2, level_C1, level_C2 = 0, 0, 0, 0, 0, 0\n",
    "for elem in res_level:\n",
    "    # print(elem)\n",
    "    if 'A1' in str(elem):\n",
    "        level_A1 += 1\n",
    "    elif 'A2' in str(elem):\n",
    "        level_A2 += 1\n",
    "    elif 'B1' in str(elem):\n",
    "        level_B1 += 1\n",
    "    elif 'B2' in str(elem):\n",
    "        level_B2 += 1\n",
    "    elif 'C1' in str(elem):\n",
    "        level_C1 += 1\n",
    "    else:\n",
    "        level_C2 += 1\n",
    "        \n",
    "# Show the level and its quantity\n",
    "print('User with A1 level: ' + str(level_A1))\n",
    "print('User with A2 level: ' + str(level_A2))\n",
    "print('User with B1 level: ' + str(level_B1))\n",
    "print('User with B2 level: ' + str(level_B2))\n",
    "print('User with C1 level: ' + str(level_C1))\n",
    "print('User with C2 level: ' + str(level_C2))\n",
    "\n",
    "# Remove 'nan' element of list\n",
    "res_level = [x for x in res_level if pd.isnull(x) == False]\n",
    "\n",
    "\n",
    "# Calculating the most common\n",
    "user_level = Counter(res_level).most_common()[0][0]\n",
    "print('\\nThe predominant level of users is: ' + user_level)"
   ]
  },
  {
   "cell_type": "code",
   "execution_count": 4,
   "metadata": {},
   "outputs": [],
   "source": [
    "# Save the answer level languages\n",
    "res_languages = reader.iloc[:,2:11]\n",
    "# print(res_languages)\n",
    "\n",
    "# Remove 'nan' element of list\n",
    "res_languages = [x for x in res_languages if pd.isnull(x) == False]\n",
    "# print(res_languages)"
   ]
  },
  {
   "cell_type": "code",
   "execution_count": 5,
   "metadata": {},
   "outputs": [
    {
     "name": "stdout",
     "output_type": "stream",
     "text": [
      "\n",
      "Level of 'Simple List' is: A1\n"
     ]
    }
   ],
   "source": [
    "\"\"\" Simple List. \"\"\"\n",
    "\n",
    "# Variable to save all arrays\n",
    "set_arrays = []\n",
    "\n",
    "# Create a matrix\n",
    "matrix_aux = []\n",
    "\n",
    "simple_list = reader.iloc[:, 13].to_list()\n",
    "#print(simple_list)\n",
    "\n",
    "# Append array\n",
    "matrix_aux.append(simple_list)\n",
    "\n",
    "# len of col\n",
    "cols = len(simple_list)\n",
    "\n",
    "# Remove 'nan' element of list\n",
    "simple_list = [x for x in simple_list if pd.isnull(x) == False]\n",
    "# print(simple_list)\n",
    "\n",
    "# Append array\n",
    "set_arrays.append(simple_list)\n",
    "\n",
    "# Calculating the most common\n",
    "level_simple_list = Counter(simple_list).most_common()[0][0]\n",
    "print(\"\\nLevel of 'Simple List' is: \" + str(level_simple_list))\n",
    "\n",
    "# Save in array\n",
    "levels.append(['Simple List', level_simple_list])"
   ]
  },
  {
   "cell_type": "code",
   "execution_count": 6,
   "metadata": {},
   "outputs": [
    {
     "name": "stdout",
     "output_type": "stream",
     "text": [
      "\n",
      "Level of 'Nested List' is: B1\n"
     ]
    }
   ],
   "source": [
    "\"\"\" Nested List. \"\"\"\n",
    "\n",
    "nested_list = reader.iloc[:, 44].to_list()\n",
    "#print(nested_list)\n",
    "\n",
    "# Append array\n",
    "matrix_aux.append(nested_list)\n",
    "\n",
    "# Remove 'nan' element of list\n",
    "nested_list = [x for x in nested_list if pd.isnull(x) == False]\n",
    "# print(nested_list)\n",
    "\n",
    "# Append array\n",
    "set_arrays.append(nested_list)\n",
    "\n",
    "# Calculating the most common\n",
    "level_nested_list = Counter(nested_list).most_common()[0][0]\n",
    "print(\"\\nLevel of 'Nested List' is: \" + level_nested_list)\n",
    "\n",
    "# Save in array\n",
    "levels.append(['Nested List', level_nested_list])\n"
   ]
  },
  {
   "cell_type": "code",
   "execution_count": 7,
   "metadata": {},
   "outputs": [
    {
     "name": "stdout",
     "output_type": "stream",
     "text": [
      "\n",
      "Level of 'List Dictionary' is: A2\n"
     ]
    }
   ],
   "source": [
    "\"\"\" List Dictionary. \"\"\"\n",
    "\n",
    "list_dict = reader.iloc[:, 76].to_list()\n",
    "#print(list_dict)\n",
    "\n",
    "# Append array\n",
    "matrix_aux.append(list_dict)\n",
    "\n",
    "# Remove 'nan' element of list\n",
    "list_dict = [x for x in list_dict if pd.isnull(x) == False]\n",
    "# print(list_dict)\n",
    "\n",
    "# Append array\n",
    "set_arrays.append(list_dict)\n",
    "\n",
    "# Calculating the most common\n",
    "level_list_dict = Counter(list_dict).most_common()[0][0]\n",
    "print(\"\\nLevel of 'List Dictionary' is: \" + level_list_dict)\n",
    "\n",
    "# Save in array\n",
    "levels.append(['List Dictionary', level_list_dict])"
   ]
  },
  {
   "cell_type": "code",
   "execution_count": 8,
   "metadata": {},
   "outputs": [
    {
     "name": "stdout",
     "output_type": "stream",
     "text": [
      "\n",
      "Level of 'Simple List Comprehension' is: B2\n"
     ]
    }
   ],
   "source": [
    "\"\"\" Simple List Comprehension. \"\"\"\n",
    "\n",
    "simple_list_compre = reader.iloc[:, 15].to_list()\n",
    "#print(simple_list_compre)\n",
    "\n",
    "# Append array\n",
    "matrix_aux.append(simple_list_compre)\n",
    "\n",
    "# Remove 'nan' element of list\n",
    "simple_list_compre = [x for x in simple_list_compre if pd.isnull(x) == False]\n",
    "# print(simple_list_compre)\n",
    "\n",
    "# Append array\n",
    "set_arrays.append(simple_list_compre)\n",
    "\n",
    "# Calculating the most common\n",
    "level_simple_list_compre = Counter(simple_list_compre).most_common()[0][0]\n",
    "print(\"\\nLevel of 'Simple List Comprehension' is: \" + level_simple_list_compre)\n",
    "\n",
    "# Save in array\n",
    "levels.append(['Simple List Comprehension', level_simple_list_compre])"
   ]
  },
  {
   "cell_type": "code",
   "execution_count": 9,
   "metadata": {},
   "outputs": [
    {
     "name": "stdout",
     "output_type": "stream",
     "text": [
      "\n",
      "Level of 'Nested List Comprehension' is: C1\n"
     ]
    }
   ],
   "source": [
    "\"\"\" Nested List Comprehension. \"\"\"\n",
    "\n",
    "nested_list_compre = reader.iloc[:, 45].to_list()\n",
    "#print(nested_list_compre)\n",
    "\n",
    "# Append array\n",
    "matrix_aux.append(nested_list_compre)\n",
    "\n",
    "# Remove 'nan' element of list\n",
    "nested_list_compre = [x for x in nested_list_compre if pd.isnull(x) == False]\n",
    "# print(nested_list_compre)\n",
    "\n",
    "# Append array\n",
    "set_arrays.append(nested_list_compre)\n",
    "\n",
    "# Calculating the most common\n",
    "level_nested_list_compre = Counter(nested_list_compre).most_common()[0][0]\n",
    "print(\"\\nLevel of 'Nested List Comprehension' is: \" + level_nested_list_compre)\n",
    "\n",
    "# Save in array\n",
    "levels.append(['Nested List Comprehension', level_nested_list_compre])"
   ]
  },
  {
   "cell_type": "code",
   "execution_count": 10,
   "metadata": {},
   "outputs": [
    {
     "name": "stdout",
     "output_type": "stream",
     "text": [
      "\n",
      "Level of 'List Comprehension with If statements' is: B2\n"
     ]
    }
   ],
   "source": [
    "\"\"\" List comprehension with If statements. \"\"\"\n",
    "\n",
    "list_compre_if = reader.iloc[:, 75].to_list()\n",
    "#print(list_compre_if)\n",
    "\n",
    "# Append array\n",
    "matrix_aux.append(list_compre_if)\n",
    "\n",
    "# Remove 'nan' element of list\n",
    "list_compre_if = [x for x in list_compre_if if pd.isnull(x) == False]\n",
    "# print(list_compre_if)\n",
    "\n",
    "# Append array\n",
    "set_arrays.append(list_compre_if)\n",
    "\n",
    "# Calculating the most common\n",
    "level_list_compre_if = Counter(list_compre_if).most_common()[0][0]\n",
    "print(\"\\nLevel of 'List Comprehension with If statements' is: \" + level_list_compre_if)\n",
    "\n",
    "# Save in array\n",
    "levels.append(['List Comprehension with If statements', level_list_compre_if])"
   ]
  },
  {
   "cell_type": "code",
   "execution_count": 11,
   "metadata": {},
   "outputs": [
    {
     "name": "stdout",
     "output_type": "stream",
     "text": [
      "\n",
      "Level of 'Simple Dictionary' is: A1\n"
     ]
    }
   ],
   "source": [
    "\"\"\" Simple Dictionary. \"\"\"\n",
    "\n",
    "simple_dict = reader.iloc[:, 14].to_list()\n",
    "#print(simple_dict)\n",
    "\n",
    "# Append array\n",
    "matrix_aux.append(simple_dict)\n",
    "\n",
    "# Remove 'nan' element of list\n",
    "simple_dict = [x for x in simple_dict if pd.isnull(x) == False]\n",
    "# print(simple_dict)\n",
    "\n",
    "# Append array\n",
    "set_arrays.append(simple_dict)\n",
    "\n",
    "# Calculating the most common\n",
    "level_simple_dict = Counter(simple_dict).most_common()[0][0]\n",
    "print(\"\\nLevel of 'Simple Dictionary' is: \" + level_simple_dict)\n",
    "\n",
    "# Save in array\n",
    "levels.append(['Simple Dictionary', level_simple_dict])"
   ]
  },
  {
   "cell_type": "code",
   "execution_count": 12,
   "metadata": {},
   "outputs": [
    {
     "name": "stdout",
     "output_type": "stream",
     "text": [
      "\n",
      "Level of 'Nested Dictionary' is: B1\n"
     ]
    }
   ],
   "source": [
    "\"\"\" Nested Dictionary. \"\"\"\n",
    "\n",
    "nested_dict = reader.iloc[:, 46].to_list()\n",
    "#print(nested_dict)\n",
    "\n",
    "# Append array\n",
    "matrix_aux.append(nested_dict)\n",
    "\n",
    "# Remove 'nan' element of list\n",
    "nested_dict = [x for x in nested_dict if pd.isnull(x) == False]\n",
    "# print(nested_dict)\n",
    "\n",
    "# Append array\n",
    "set_arrays.append(nested_dict)\n",
    "\n",
    "# Calculating the most common\n",
    "level_nested_dict = Counter(nested_dict).most_common()[0][0]\n",
    "print(\"\\nLevel of 'Nested Dictionary' is: \" + level_nested_dict)\n",
    "\n",
    "# Save in array\n",
    "levels.append(['Nested Dictionary', level_nested_dict])"
   ]
  },
  {
   "cell_type": "code",
   "execution_count": 13,
   "metadata": {},
   "outputs": [
    {
     "name": "stdout",
     "output_type": "stream",
     "text": [
      "\n",
      "Level of 'Dictionary List' is: B1\n"
     ]
    }
   ],
   "source": [
    "\"\"\" Dictionary List. \"\"\"\n",
    "\n",
    "dict_list = reader.iloc[:, 74].to_list()\n",
    "#print(dict_list)\n",
    "\n",
    "# Append array\n",
    "matrix_aux.append(dict_list)\n",
    "\n",
    "# Remove 'nan' element of list\n",
    "dict_list = [x for x in dict_list if pd.isnull(x) == False]\n",
    "# print(dict_list)\n",
    "\n",
    "# Append array\n",
    "set_arrays.append(dict_list)\n",
    "\n",
    "# Calculating the most common\n",
    "level_dict_list = Counter(dict_list).most_common()[0][0]\n",
    "print(\"\\nLevel of 'Dictionary List' is: \" + level_dict_list)\n",
    "\n",
    "# Save in array\n",
    "levels.append(['Dictionary List', level_dict_list])"
   ]
  },
  {
   "cell_type": "code",
   "execution_count": 14,
   "metadata": {},
   "outputs": [
    {
     "name": "stdout",
     "output_type": "stream",
     "text": [
      "\n",
      "Level of 'Dictionary of dictionary lists' is: B1\n"
     ]
    }
   ],
   "source": [
    "\"\"\" Dictionary of dictionary lists. \"\"\"\n",
    "\n",
    "dict_dict_list = reader.iloc[:, 47].to_list()\n",
    "#print(dict_dict_list)\n",
    "\n",
    "# Append array\n",
    "matrix_aux.append(dict_dict_list)\n",
    "\n",
    "# Remove 'nan' element of list\n",
    "dict_dict_list = [x for x in dict_dict_list if pd.isnull(x) == False]\n",
    "# print(dict_dict_list)\n",
    "\n",
    "# Append array\n",
    "set_arrays.append(dict_dict_list)\n",
    "\n",
    "# Calculating the most common\n",
    "level_dict_dict_list = Counter(dict_dict_list).most_common()[0][0]\n",
    "print(\"\\nLevel of 'Dictionary of dictionary lists' is: \" + level_dict_dict_list)\n",
    "\n",
    "# Save in array\n",
    "levels.append(['Dictionary of dictionary lists', level_dict_dict_list])"
   ]
  },
  {
   "cell_type": "code",
   "execution_count": 15,
   "metadata": {},
   "outputs": [
    {
     "name": "stdout",
     "output_type": "stream",
     "text": [
      "\n",
      "Level of 'Simple Dict Comprehension' is: B2\n"
     ]
    }
   ],
   "source": [
    "\"\"\" Simple Dict Comprehension. \"\"\"\n",
    "\n",
    "simple_dict_compre = reader.iloc[:, 16].to_list()\n",
    "#print(simple_dict_compre)\n",
    "\n",
    "# Append array\n",
    "matrix_aux.append(simple_dict_compre)\n",
    "\n",
    "# Remove 'nan' element of list\n",
    "simple_dict_compre = [x for x in simple_dict_compre if pd.isnull(x) == False]\n",
    "# print(simple_dict_compre)\n",
    "\n",
    "# Append array\n",
    "set_arrays.append(simple_dict_compre)\n",
    "\n",
    "# Calculating the most common\n",
    "level_simple_dict_compre = Counter(simple_dict_compre).most_common()[0][0]\n",
    "print(\"\\nLevel of 'Simple Dict Comprehension' is: \" + level_simple_dict_compre)\n",
    "\n",
    "# Save in array\n",
    "levels.append(['Simple Dict Comprehension', level_simple_dict_compre])"
   ]
  },
  {
   "cell_type": "code",
   "execution_count": 16,
   "metadata": {},
   "outputs": [
    {
     "name": "stdout",
     "output_type": "stream",
     "text": [
      "\n",
      "Level of 'Dictionary Comprehension with If statements' is: B2\n"
     ]
    }
   ],
   "source": [
    "\"\"\" Dictionary Comprehension with If statements. \"\"\"\n",
    "\n",
    "dict_compre_if = reader.iloc[:, 77].to_list()\n",
    "#print(dict_compre_if)\n",
    "\n",
    "# Append array\n",
    "matrix_aux.append(dict_compre_if)\n",
    "\n",
    "# Remove 'nan' element of list\n",
    "dict_compre_if = [x for x in dict_compre_if if pd.isnull(x) == False]\n",
    "# print(dict_compre_if)\n",
    "\n",
    "# Append array\n",
    "set_arrays.append(dict_compre_if)\n",
    "\n",
    "# Calculating the most common\n",
    "level_dict_compre_if = Counter(dict_compre_if).most_common()[0][0]\n",
    "print(\"\\nLevel of 'Dictionary Comprehension with If statements' is: \" + level_dict_compre_if)\n",
    "\n",
    "# Save in array\n",
    "levels.append(['Dictionary Comprehension with If statements', level_dict_compre_if])"
   ]
  },
  {
   "cell_type": "code",
   "execution_count": 17,
   "metadata": {},
   "outputs": [
    {
     "name": "stdout",
     "output_type": "stream",
     "text": [
      "\n",
      "Level of 'Dictionary Comprehension with if expression (If-Else)' is: B2\n"
     ]
    }
   ],
   "source": [
    "\"\"\" Dictionary Comprehension with if expression (If-Else). \"\"\"\n",
    "\n",
    "dict_compre_if_else = reader.iloc[:, 78].to_list()\n",
    "#print(dict_compre_if_else)\n",
    "\n",
    "# Append array\n",
    "matrix_aux.append(dict_compre_if_else)\n",
    "\n",
    "# Remove 'nan' element of list\n",
    "dict_compre_if_else = [x for x in dict_compre_if_else if pd.isnull(x) == False]\n",
    "# print(dict_compre_if_else)\n",
    "\n",
    "# Append array\n",
    "set_arrays.append(dict_compre_if_else)\n",
    "\n",
    "# Calculating the most common\n",
    "level_dict_compre_if_else = Counter(dict_compre_if_else).most_common()[0][0]\n",
    "print(\"\\nLevel of 'Dictionary Comprehension with if expression (If-Else)' is: \" + level_dict_compre_if_else)\n",
    "\n",
    "# Save in array\n",
    "levels.append(['Dictionary Comprehension with if expression (If-Else)', level_dict_compre_if_else])"
   ]
  },
  {
   "cell_type": "code",
   "execution_count": 18,
   "metadata": {},
   "outputs": [
    {
     "name": "stdout",
     "output_type": "stream",
     "text": [
      "\n",
      "Level of 'Nested Dict Comprehension' is: B2\n"
     ]
    }
   ],
   "source": [
    "\"\"\" Nested Dict Comprehension. \"\"\"\n",
    "\n",
    "nested_dict_compre = reader.iloc[:, 48].to_list()\n",
    "#print(nested_dict_compre)\n",
    "\n",
    "# Append array\n",
    "matrix_aux.append(nested_dict_compre)\n",
    "\n",
    "# Remove 'nan' element of list\n",
    "nested_dict_compre = [x for x in nested_dict_compre if pd.isnull(x) == False]\n",
    "# print(nested_dict_compre)\n",
    "\n",
    "# Append array\n",
    "set_arrays.append(nested_dict_compre)\n",
    "\n",
    "# Calculating the most common\n",
    "level_nested_dict_compre = Counter(simple_dict_compre).most_common()[0][0]\n",
    "print(\"\\nLevel of 'Nested Dict Comprehension' is: \" + level_nested_dict_compre)\n",
    "\n",
    "# Save in array\n",
    "levels.append(['Nested Dict Comprehension', level_nested_dict_compre])"
   ]
  },
  {
   "cell_type": "code",
   "execution_count": 19,
   "metadata": {},
   "outputs": [
    {
     "name": "stdout",
     "output_type": "stream",
     "text": [
      "\n",
      "Level of 'Simple Tuple' is: A2\n"
     ]
    }
   ],
   "source": [
    "\"\"\" Simple Tuple. \"\"\"\n",
    "\n",
    "simple_tuple = reader.iloc[:, 49].to_list()\n",
    "#print(simple_tuple)\n",
    "\n",
    "# Append array\n",
    "matrix_aux.append(simple_tuple)\n",
    "\n",
    "# Remove 'nan' element of list\n",
    "simple_tuple = [x for x in simple_tuple if pd.isnull(x) == False]\n",
    "# print(simple_tuple)\n",
    "\n",
    "# Append array\n",
    "set_arrays.append(simple_tuple)\n",
    "\n",
    "# Calculating the most common\n",
    "level_simple_tuple = Counter(simple_tuple).most_common()[0][0]\n",
    "print(\"\\nLevel of 'Simple Tuple' is: \" + level_simple_tuple)\n",
    "\n",
    "# Save in array\n",
    "levels.append(['Simple Tuple', level_simple_tuple])"
   ]
  },
  {
   "cell_type": "code",
   "execution_count": 20,
   "metadata": {},
   "outputs": [
    {
     "name": "stdout",
     "output_type": "stream",
     "text": [
      "\n",
      "Level of 'Nested Tuple' is: A2\n"
     ]
    }
   ],
   "source": [
    "\"\"\" Nested Tuple. \"\"\"\n",
    "\n",
    "nested_tuple = reader.iloc[:, 79].to_list()\n",
    "#print(nested_tuple)\n",
    "\n",
    "# Append array\n",
    "matrix_aux.append(nested_tuple)\n",
    "\n",
    "# Remove 'nan' element of list\n",
    "nested_tuple = [x for x in nested_tuple if pd.isnull(x) == False]\n",
    "# print(nested_tuple)\n",
    "\n",
    "# Append array\n",
    "set_arrays.append(nested_tuple)\n",
    "\n",
    "# Calculating the most common\n",
    "level_nested_tuple = Counter(nested_tuple).most_common()[0][0]\n",
    "print(\"\\nLevel of 'Nested Tuple' is: \" + level_nested_tuple)\n",
    "\n",
    "# Save in array\n",
    "levels.append(['Nested Tuple', level_nested_tuple])"
   ]
  },
  {
   "cell_type": "code",
   "execution_count": 21,
   "metadata": {},
   "outputs": [
    {
     "name": "stdout",
     "output_type": "stream",
     "text": [
      "\n",
      "Level of 'Files -->  'open' call function' is: A2\n"
     ]
    }
   ],
   "source": [
    "\"\"\" Files -->  'open' call function. \"\"\"\n",
    "\n",
    "open_call = reader.iloc[:, 17].to_list()\n",
    "#print(open_call)\n",
    "\n",
    "# Append array\n",
    "matrix_aux.append(open_call)\n",
    "\n",
    "# Remove 'nan' element of list\n",
    "open_call = [x for x in open_call if pd.isnull(x) == False]\n",
    "# print(open_call)\n",
    "\n",
    "# Append array\n",
    "set_arrays.append(open_call)\n",
    "\n",
    "# Calculating the most common\n",
    "level_open_call = Counter(open_call).most_common()[0][0]\n",
    "print(\"\\nLevel of 'Files -->  'open' call function' is: \" + level_open_call)\n",
    "\n",
    "# Save in array\n",
    "levels.append([\"Files -->  'open' call function\", level_open_call])"
   ]
  },
  {
   "cell_type": "code",
   "execution_count": 22,
   "metadata": {},
   "outputs": [
    {
     "name": "stdout",
     "output_type": "stream",
     "text": [
      "\n",
      "Level of 'Files -->  'write' call function' is: A2\n"
     ]
    }
   ],
   "source": [
    "\"\"\" Files →  ‘write’ call function. \"\"\"\n",
    "\n",
    "write_call = reader.iloc[:, 50].to_list()\n",
    "#print(write_call)\n",
    "\n",
    "# Append array\n",
    "matrix_aux.append(write_call)\n",
    "\n",
    "# Remove 'nan' element of list\n",
    "write_call = [x for x in write_call if pd.isnull(x) == False]\n",
    "# print(write_call)\n",
    "\n",
    "# Append array\n",
    "set_arrays.append(write_call)\n",
    "\n",
    "# Calculating the most common\n",
    "level_write_call = Counter(write_call).most_common()[0][0]\n",
    "print(\"\\nLevel of 'Files -->  'write' call function' is: \" + level_write_call)\n",
    "\n",
    "# Save in array\n",
    "levels.append([\"Files -->  'write' call function\", level_write_call])"
   ]
  },
  {
   "cell_type": "code",
   "execution_count": 23,
   "metadata": {},
   "outputs": [
    {
     "name": "stdout",
     "output_type": "stream",
     "text": [
      "\n",
      "Level of 'Files -->  'writelines' call function' is: A2\n"
     ]
    }
   ],
   "source": [
    "\"\"\" Files → ‘writelines’ call function. \"\"\"\n",
    "\n",
    "writelines_call = reader.iloc[:, 81].to_list()\n",
    "#print(writelines_call)\n",
    "\n",
    "# Append array\n",
    "matrix_aux.append(writelines_call)\n",
    "\n",
    "# Remove 'nan' element of list\n",
    "writelines_call = [x for x in writelines_call if pd.isnull(x) == False]\n",
    "# print(writelines_call)\n",
    "\n",
    "# Append array\n",
    "set_arrays.append(writelines_call)\n",
    "\n",
    "# Calculating the most common\n",
    "level_writelines_call = Counter(write_call).most_common()[0][0]\n",
    "print(\"\\nLevel of 'Files -->  'writelines' call function' is: \" + level_writelines_call)\n",
    "\n",
    "# Save in array\n",
    "levels.append([\"Files -->  'writelines' call function\", level_writelines_call])"
   ]
  },
  {
   "cell_type": "code",
   "execution_count": 24,
   "metadata": {},
   "outputs": [
    {
     "name": "stdout",
     "output_type": "stream",
     "text": [
      "\n",
      "Level of 'Files -->  'read' call function' is: A2\n"
     ]
    }
   ],
   "source": [
    "\"\"\" Files → ‘read’ call function. \"\"\"\n",
    "\n",
    "read_call = reader.iloc[:, 80].to_list()\n",
    "#print(read_call)\n",
    "\n",
    "# Append array\n",
    "matrix_aux.append(read_call)\n",
    "\n",
    "# Remove 'nan' element of list\n",
    "read_call = [x for x in read_call if pd.isnull(x) == False]\n",
    "# print(read_call)\n",
    "\n",
    "# Append array\n",
    "set_arrays.append(read_call)\n",
    "\n",
    "# Calculating the most common\n",
    "level_read_call = Counter(read_call).most_common()[0][0]\n",
    "print(\"\\nLevel of 'Files -->  'read' call function' is: \" + level_read_call)\n",
    "\n",
    "# Save in array\n",
    "levels.append([\"Files -->  'read' call function\", level_read_call])"
   ]
  },
  {
   "cell_type": "code",
   "execution_count": 25,
   "metadata": {},
   "outputs": [
    {
     "name": "stdout",
     "output_type": "stream",
     "text": [
      "\n",
      "Level of 'Files -->  'readline' call function' is: A2\n"
     ]
    }
   ],
   "source": [
    "\"\"\" Files → ‘readline’ call function. \"\"\"\n",
    "\n",
    "readline_call = reader.iloc[:, 82].to_list()\n",
    "#print(readline_call)\n",
    "\n",
    "# Append array\n",
    "matrix_aux.append(readline_call)\n",
    "\n",
    "# Remove 'nan' element of list\n",
    "readline_call = [x for x in readline_call if pd.isnull(x) == False]\n",
    "# print(readline_call)\n",
    "\n",
    "# Append array\n",
    "set_arrays.append(readline_call)\n",
    "\n",
    "# Remove 'nan' element of list\n",
    "read_call = [x for x in read_call if pd.isnull(x) == False]\n",
    "# print(read_call)\n",
    "\n",
    "# Calculating the most common\n",
    "level_readline_call = Counter(readline_call).most_common()[0][0]\n",
    "print(\"\\nLevel of 'Files -->  'readline' call function' is: \" + level_readline_call)\n",
    "\n",
    "# Save in array\n",
    "levels.append([\"Files -->  'readline' call function\", level_readline_call])"
   ]
  },
  {
   "cell_type": "code",
   "execution_count": 26,
   "metadata": {},
   "outputs": [
    {
     "name": "stdout",
     "output_type": "stream",
     "text": [
      "\n",
      "Level of 'Print' is: A1\n"
     ]
    }
   ],
   "source": [
    "\"\"\" Print. \"\"\"\n",
    "\n",
    "print_call = reader.iloc[:, 51].to_list()\n",
    "#print(print_call)\n",
    "\n",
    "# Append array\n",
    "matrix_aux.append(print_call)\n",
    "\n",
    "# Remove 'nan' element of list\n",
    "print_call = [x for x in print_call if pd.isnull(x) == False]\n",
    "# print(print_call)\n",
    "\n",
    "# Append array\n",
    "set_arrays.append(print_call)\n",
    "\n",
    "# Calculating the most common\n",
    "level_print_call = Counter(print_call).most_common()[0][0]\n",
    "print(\"\\nLevel of 'Print' is: \" + level_print_call)\n",
    "\n",
    "# Save in array\n",
    "levels.append([\"Print\", level_print_call])\n"
   ]
  },
  {
   "cell_type": "code",
   "execution_count": 27,
   "metadata": {},
   "outputs": [
    {
     "name": "stdout",
     "output_type": "stream",
     "text": [
      "\n",
      "Level of 'Simple Assignment' is: A1\n"
     ]
    }
   ],
   "source": [
    "\"\"\" Simple Assignment. \"\"\"\n",
    "\n",
    "simple_assig = reader.iloc[:, 52].to_list()\n",
    "#print(simple_assig)\n",
    "\n",
    "# Append array\n",
    "matrix_aux.append(simple_assig)\n",
    "\n",
    "# Remove 'nan' element of list\n",
    "simple_assig = [x for x in simple_assig if pd.isnull(x) == False]\n",
    "# print(simple_assig)\n",
    "\n",
    "# Append array\n",
    "set_arrays.append(simple_assig)\n",
    "\n",
    "# Calculating the most common\n",
    "level_simple_assig = Counter(simple_assig).most_common()[0][0]\n",
    "print(\"\\nLevel of 'Simple Assignment' is: \" + level_simple_assig)\n",
    "\n",
    "# Save in array\n",
    "levels.append([\"Simple Assignment\", level_simple_assig])"
   ]
  },
  {
   "cell_type": "code",
   "execution_count": 28,
   "metadata": {},
   "outputs": [
    {
     "name": "stdout",
     "output_type": "stream",
     "text": [
      "\n",
      "Level of 'Assigment with sum (total = total + 1)' is: A1\n"
     ]
    }
   ],
   "source": [
    "\"\"\" Assigment with sum (total = total + 1). \"\"\"\n",
    "\n",
    "assig_sum = reader.iloc[:, 83].to_list()\n",
    "#print(assig_sum)\n",
    "\n",
    "# Append array\n",
    "matrix_aux.append(assig_sum)\n",
    "\n",
    "# Remove 'nan' element of list\n",
    "assig_sum = [x for x in assig_sum if pd.isnull(x) == False]\n",
    "# print(assig_sum)\n",
    "\n",
    "# Append array\n",
    "set_arrays.append(assig_sum)\n",
    "\n",
    "# Calculating the most common\n",
    "level_assig_sum = Counter(assig_sum).most_common()[0][0]\n",
    "print(\"\\nLevel of 'Assigment with sum (total = total + 1)' is: \" + level_assig_sum)\n",
    "\n",
    "# Save in array\n",
    "levels.append([\"Assigment with sum (total = total + 1) \", level_assig_sum])"
   ]
  },
  {
   "cell_type": "code",
   "execution_count": 29,
   "metadata": {},
   "outputs": [
    {
     "name": "stdout",
     "output_type": "stream",
     "text": [
      "\n",
      "Level of 'Simplified incremental Assignment (+=)' is: A2\n"
     ]
    }
   ],
   "source": [
    "\"\"\" Simplified incremental Assignment (+=). \"\"\"\n",
    "\n",
    "assig_inc = reader.iloc[:, 53].to_list()\n",
    "#print(assig_inc)\n",
    "\n",
    "# Append array\n",
    "matrix_aux.append(assig_inc)\n",
    "\n",
    "# Remove 'nan' element of list\n",
    "assig_inc = [x for x in assig_inc if pd.isnull(x) == False]\n",
    "# print(assig_inc)\n",
    "\n",
    "# Append array\n",
    "set_arrays.append(assig_inc)\n",
    "\n",
    "# Calculating the most common\n",
    "level_assig_inc = Counter(assig_inc).most_common()[0][0]\n",
    "print(\"\\nLevel of 'Simplified incremental Assignment (+=)' is: \" + level_assig_inc)\n",
    "\n",
    "# Save in array\n",
    "levels.append([\"Simplified incremental Assignment (+=)\", level_assig_inc])"
   ]
  },
  {
   "cell_type": "code",
   "execution_count": 30,
   "metadata": {},
   "outputs": [
    {
     "name": "stdout",
     "output_type": "stream",
     "text": [
      "\n",
      "Level of 'Simple If statements' is: A1\n"
     ]
    }
   ],
   "source": [
    "\"\"\" Simple If statements. \"\"\"\n",
    "\n",
    "simple_if = reader.iloc[:, 18].to_list()\n",
    "#print(simple_if)\n",
    "\n",
    "# Append array\n",
    "matrix_aux.append(simple_if)\n",
    "\n",
    "# Remove 'nan' element of list\n",
    "simple_if = [x for x in simple_if if pd.isnull(x) == False]\n",
    "# print(simple_if)\n",
    "\n",
    "# Append array\n",
    "set_arrays.append(simple_if)\n",
    "\n",
    "# Calculating the most common\n",
    "level_simple_if = Counter(simple_if).most_common()[0][0]\n",
    "print(\"\\nLevel of 'Simple If statements' is: \" + level_simple_if)\n",
    "\n",
    "# Save in array\n",
    "levels.append([\"Simple If statements\", level_simple_if])"
   ]
  },
  {
   "cell_type": "code",
   "execution_count": 31,
   "metadata": {},
   "outputs": [
    {
     "name": "stdout",
     "output_type": "stream",
     "text": [
      "\n",
      "Level of 'If statements expresion (else)' is: A1\n"
     ]
    }
   ],
   "source": [
    "\"\"\" If statements expresion (else). \"\"\"\n",
    "\n",
    "if_expr = reader.iloc[:, 84].to_list()\n",
    "#print(if_expr)\n",
    "\n",
    "# Append array\n",
    "matrix_aux.append(if_expr)\n",
    "\n",
    "# Remove 'nan' element of list\n",
    "if_expr = [x for x in if_expr if pd.isnull(x) == False]\n",
    "# print(if_expr)\n",
    "\n",
    "# Append array\n",
    "set_arrays.append(if_expr)\n",
    "\n",
    "# Calculating the most common\n",
    "level_if_expr = Counter(if_expr).most_common()[0][0]\n",
    "print(\"\\nLevel of 'If statements expresion (else)' is: \" + level_if_expr)\n",
    "\n",
    "# Save in array\n",
    "levels.append([\"If statements expresion (else)\", level_if_expr])"
   ]
  },
  {
   "cell_type": "code",
   "execution_count": 32,
   "metadata": {},
   "outputs": [
    {
     "name": "stdout",
     "output_type": "stream",
     "text": [
      "\n",
      "Level of 'If statements using → __name__ == ‘__main__’' is: B2\n"
     ]
    }
   ],
   "source": [
    "\"\"\" If statements using → __name__ == ‘__main__’. \"\"\"\n",
    "\n",
    "if_name = reader.iloc[:, 54].to_list()\n",
    "#print(if_name)\n",
    "\n",
    "# Append array\n",
    "matrix_aux.append(if_name)\n",
    "\n",
    "# Remove 'nan' element of list\n",
    "if_name = [x for x in if_name if pd.isnull(x) == False]\n",
    "# print(if_name)\n",
    "\n",
    "# Append array\n",
    "set_arrays.append(if_name)\n",
    "\n",
    "# Calculating the most common\n",
    "level_if_name = Counter(if_name).most_common()[0][0]\n",
    "print(\"\\nLevel of 'If statements using → __name__ == ‘__main__’' is: \" + level_if_name)\n",
    "\n",
    "# Save in array\n",
    "levels.append([\"If statements using → __name__ == ‘__main__’\", level_if_name])"
   ]
  },
  {
   "cell_type": "code",
   "execution_count": 33,
   "metadata": {},
   "outputs": [
    {
     "name": "stdout",
     "output_type": "stream",
     "text": [
      "\n",
      "Level of ''break' statement' is: A1\n"
     ]
    }
   ],
   "source": [
    "\"\"\" 'break' statement. \"\"\"\n",
    "\n",
    "break_stat = reader.iloc[:, 19].to_list()\n",
    "#print(break_stat)\n",
    "\n",
    "# Append array\n",
    "matrix_aux.append(break_stat)\n",
    "\n",
    "# Remove 'nan' element of list\n",
    "break_stat = [x for x in break_stat if pd.isnull(x) == False]\n",
    "# print(break_stat)\n",
    "\n",
    "# Append array\n",
    "set_arrays.append(break_stat)\n",
    "\n",
    "# Calculating the most common\n",
    "level_break_stat = Counter(break_stat).most_common()[0][0]\n",
    "print(\"\\nLevel of ''break' statement' is: \" + level_break_stat)\n",
    "\n",
    "# Save in array\n",
    "levels.append([\"'break' statement\", level_break_stat])"
   ]
  },
  {
   "cell_type": "code",
   "execution_count": 34,
   "metadata": {},
   "outputs": [
    {
     "name": "stdout",
     "output_type": "stream",
     "text": [
      "\n",
      "Level of ''continue statement' is: A2\n"
     ]
    }
   ],
   "source": [
    "\"\"\" 'continue' statement. \"\"\"\n",
    "\n",
    "continue_stat = reader.iloc[:, 55].to_list()\n",
    "#print(continue_stat)\n",
    "\n",
    "# Append array\n",
    "matrix_aux.append(continue_stat)\n",
    "\n",
    "# Remove 'nan' element of list\n",
    "continue_stat = [x for x in continue_stat if pd.isnull(x) == False]\n",
    "# print(continue_stat)\n",
    "\n",
    "# Append array\n",
    "set_arrays.append(continue_stat)\n",
    "\n",
    "# Calculating the most common\n",
    "level_continue_stat = Counter(continue_stat).most_common()[0][0]\n",
    "print(\"\\nLevel of ''continue statement' is: \" + level_continue_stat)\n",
    "\n",
    "# Save in array\n",
    "levels.append([\"'continue' statement\", level_continue_stat])"
   ]
  },
  {
   "cell_type": "code",
   "execution_count": 35,
   "metadata": {},
   "outputs": [
    {
     "name": "stdout",
     "output_type": "stream",
     "text": [
      "\n",
      "Level of ''pass' statement' is: B1\n"
     ]
    }
   ],
   "source": [
    "\"\"\" 'pass' statement. \"\"\"\n",
    "\n",
    "pass_stat = reader.iloc[:, 56].to_list()\n",
    "#print(pass_stat)\n",
    "\n",
    "# Append array\n",
    "matrix_aux.append(pass_stat)\n",
    "\n",
    "# Remove 'nan' element of list\n",
    "pass_stat = [x for x in pass_stat if pd.isnull(x) == False]\n",
    "# print(pass_stat)\n",
    "\n",
    "# Append array\n",
    "set_arrays.append(pass_stat)\n",
    "\n",
    "# Calculating the most common\n",
    "level_pass_stat = Counter(pass_stat).most_common()[0][0]\n",
    "print(\"\\nLevel of ''pass' statement' is: \" + level_pass_stat)\n",
    "\n",
    "# Save in array\n",
    "levels.append([\"'pass' statement\", level_pass_stat])"
   ]
  },
  {
   "cell_type": "code",
   "execution_count": 36,
   "metadata": {},
   "outputs": [
    {
     "name": "stdout",
     "output_type": "stream",
     "text": [
      "\n",
      "Level of 'Simple While Loop' is: A1\n"
     ]
    }
   ],
   "source": [
    "\"\"\" Simple While Loop. \"\"\"\n",
    "\n",
    "simple_while = reader.iloc[:, 20].to_list()\n",
    "#print(simple_while)\n",
    "\n",
    "# Append array\n",
    "matrix_aux.append(simple_while)\n",
    "\n",
    "# Remove 'nan' element of list\n",
    "simple_while = [x for x in simple_while if pd.isnull(x) == False]\n",
    "# print(simple_while)\n",
    "\n",
    "# Append array\n",
    "set_arrays.append(simple_while)\n",
    "\n",
    "# Calculating the most common\n",
    "level_simple_while = Counter(simple_while).most_common()[0][0]\n",
    "print(\"\\nLevel of 'Simple While Loop' is: \" + level_simple_while)\n",
    "\n",
    "# Save in array\n",
    "levels.append([\"Simple While Loop\", level_simple_while])"
   ]
  },
  {
   "cell_type": "code",
   "execution_count": 37,
   "metadata": {},
   "outputs": [
    {
     "name": "stdout",
     "output_type": "stream",
     "text": [
      "\n",
      "Level of 'While with Else Loop' is: A2\n"
     ]
    }
   ],
   "source": [
    "\"\"\" While with Else Loop. \"\"\"\n",
    "\n",
    "while_else = reader.iloc[:, 57].to_list()\n",
    "#print(while_else)\n",
    "\n",
    "# Append array\n",
    "matrix_aux.append(while_else)\n",
    "\n",
    "# Remove 'nan' element of list\n",
    "while_else = [x for x in while_else if pd.isnull(x) == False]\n",
    "# print(while_else)\n",
    "\n",
    "# Append array\n",
    "set_arrays.append(while_else)\n",
    "\n",
    "# Calculating the most common\n",
    "level_while_else = Counter(while_else).most_common()[0][0]\n",
    "print(\"\\nLevel of 'While with Else Loop' is: \" + level_while_else)\n",
    "\n",
    "# Save in array\n",
    "levels.append([\"While with Else Loop\", level_while_else])"
   ]
  },
  {
   "cell_type": "code",
   "execution_count": 38,
   "metadata": {},
   "outputs": [
    {
     "name": "stdout",
     "output_type": "stream",
     "text": [
      "\n",
      "Level of 'Simple For Loop' is: A1\n"
     ]
    }
   ],
   "source": [
    "\"\"\" Simple For Loop. \"\"\"\n",
    "\n",
    "simple_for = reader.iloc[:, 21].to_list()\n",
    "#print(simple_for)\n",
    "\n",
    "# Append array\n",
    "matrix_aux.append(simple_for)\n",
    "\n",
    "# Remove 'nan' element of list\n",
    "simple_for = [x for x in simple_for if pd.isnull(x) == False]\n",
    "# print(simple_for)\n",
    "\n",
    "# Append array\n",
    "set_arrays.append(simple_for)\n",
    "\n",
    "# Calculating the most common\n",
    "level_simple_for = Counter(simple_for).most_common()[0][0]\n",
    "print(\"\\nLevel of 'Simple For Loop' is: \" + level_simple_for)\n",
    "\n",
    "# Save in array\n",
    "levels.append([\"Simple For Loop\", level_simple_for])"
   ]
  },
  {
   "cell_type": "code",
   "execution_count": 39,
   "metadata": {},
   "outputs": [
    {
     "name": "stdout",
     "output_type": "stream",
     "text": [
      "\n",
      "Level of ' Nested For Loop' is: A2\n"
     ]
    }
   ],
   "source": [
    "\"\"\" Nested For Loop. \"\"\"\n",
    "\n",
    "nested_for = reader.iloc[:, 58].to_list()\n",
    "#print(nested_for)\n",
    "\n",
    "# Append array\n",
    "matrix_aux.append(nested_for)\n",
    "\n",
    "# Remove 'nan' element of list\n",
    "nested_for = [x for x in nested_for if pd.isnull(x) == False]\n",
    "# print(nested_for)\n",
    "\n",
    "# Append array\n",
    "set_arrays.append(nested_for)\n",
    "\n",
    "# Calculating the most common\n",
    "level_nested_for = Counter(nested_for).most_common()[0][0]\n",
    "print(\"\\nLevel of ' Nested For Loop' is: \" + level_nested_for)\n",
    "\n",
    "# Save in array\n",
    "levels.append([\" Nested For Loop\", level_nested_for])"
   ]
  },
  {
   "cell_type": "code",
   "execution_count": 40,
   "metadata": {},
   "outputs": [
    {
     "name": "stdout",
     "output_type": "stream",
     "text": [
      "\n",
      "Level of 'For Loop with Tuple as name.: B1\n"
     ]
    }
   ],
   "source": [
    "\"\"\" For Loop with Tuple as name. \"\"\"\n",
    "\n",
    "for_tuple_name = reader.iloc[:, 85].to_list()\n",
    "#print(for_tuple_name )\n",
    "\n",
    "# Append array\n",
    "matrix_aux.append(for_tuple_name)\n",
    "\n",
    "# Remove 'nan' element of list\n",
    "for_tuple_name = [x for x in for_tuple_name if pd.isnull(x) == False]\n",
    "# print(for_tuple_name)\n",
    "\n",
    "# Append array\n",
    "set_arrays.append(for_tuple_name)\n",
    "\n",
    "# Calculating the most common\n",
    "level_for_tuple_name  = Counter(for_tuple_name ).most_common()[0][0]\n",
    "print(\"\\nLevel of 'For Loop with Tuple as name.: \" + level_for_tuple_name )\n",
    "\n",
    "# Save in array\n",
    "levels.append([\"For Loop with Tuple as name.\", level_for_tuple_name ])"
   ]
  },
  {
   "cell_type": "code",
   "execution_count": 41,
   "metadata": {},
   "outputs": [
    {
     "name": "stdout",
     "output_type": "stream",
     "text": [
      "\n",
      "Level of 'For Loop with List to iterate: A1\n"
     ]
    }
   ],
   "source": [
    "\"\"\" For Loop with List to iterate. \"\"\"\n",
    "\n",
    "for_list_iter = reader.iloc[:, 86].to_list()\n",
    "#print(for_list_iter)\n",
    "\n",
    "# Append array\n",
    "matrix_aux.append(for_list_iter)\n",
    "\n",
    "# Remove 'nan' element of list\n",
    "for_list_iter = [x for x in for_list_iter if pd.isnull(x) == False]\n",
    "# print(for_list_iter)\n",
    "\n",
    "# Append array\n",
    "set_arrays.append(for_list_iter)\n",
    "\n",
    "# Calculating the most common\n",
    "level_for_list_iter  = Counter(for_list_iter).most_common()[0][0]\n",
    "print(\"\\nLevel of 'For Loop with List to iterate: \" + level_for_list_iter)\n",
    "\n",
    "# Save in array\n",
    "levels.append([\"For Loop with List to iterate.\", level_for_list_iter])"
   ]
  },
  {
   "cell_type": "code",
   "execution_count": 42,
   "metadata": {},
   "outputs": [
    {
     "name": "stdout",
     "output_type": "stream",
     "text": [
      "\n",
      "Level of 'For Loop with Tuple to iterate.: A2\n"
     ]
    }
   ],
   "source": [
    "\"\"\" For Loop with Tuple to iterate. \"\"\"\n",
    "\n",
    "for_tuple_iter = reader.iloc[:, 87].to_list()\n",
    "#print(for_tuple_iter)\n",
    "\n",
    "# Append array\n",
    "matrix_aux.append(for_tuple_iter)\n",
    "\n",
    "# Remove 'nan' element of list\n",
    "for_tuple_iter = [x for x in for_tuple_iter if pd.isnull(x) == False]\n",
    "# print(for_tuple_iter)\n",
    "\n",
    "# Append array\n",
    "set_arrays.append(for_tuple_iter)\n",
    "\n",
    "# Calculating the most common\n",
    "level_for_tuple_iter = Counter(for_tuple_iter).most_common()[0][0]\n",
    "print(\"\\nLevel of 'For Loop with Tuple to iterate.: \" + level_for_tuple_iter)\n",
    "\n",
    "# Save in array\n",
    "levels.append([\"For Loop with Tuple to iterate.\", level_for_tuple_iter])"
   ]
  },
  {
   "cell_type": "code",
   "execution_count": 43,
   "metadata": {},
   "outputs": [
    {
     "name": "stdout",
     "output_type": "stream",
     "text": [
      "\n",
      "Level of ''range' call function' is: A2\n"
     ]
    }
   ],
   "source": [
    "\"\"\" 'range' call function. \"\"\"\n",
    "\n",
    "range_call = reader.iloc[:, 22].to_list()\n",
    "#print(range_call)\n",
    "\n",
    "# Append array\n",
    "matrix_aux.append(range_call)\n",
    "\n",
    "# Remove 'nan' element of list\n",
    "range_call = [x for x in range_call if pd.isnull(x) == False]\n",
    "# print(range_call)\n",
    "\n",
    "# Append array\n",
    "set_arrays.append(range_call)\n",
    "\n",
    "# Calculating the most common\n",
    "level_range_call = Counter(range_call).most_common()[0][0]\n",
    "print(\"\\nLevel of ''range' call function' is: \" + level_range_call)\n",
    "\n",
    "# Save in array\n",
    "levels.append([\"'range' call function\", level_range_call])"
   ]
  },
  {
   "cell_type": "code",
   "execution_count": 44,
   "metadata": {},
   "outputs": [
    {
     "name": "stdout",
     "output_type": "stream",
     "text": [
      "\n",
      "Level of ''zip' call function' is: B1\n"
     ]
    }
   ],
   "source": [
    "\"\"\" 'zip' call function. \"\"\"\n",
    "\n",
    "zip_call = reader.iloc[:, 23].to_list()\n",
    "#print(zip_call)\n",
    "\n",
    "# Append array\n",
    "matrix_aux.append(zip_call)\n",
    "\n",
    "# Remove 'nan' element of list\n",
    "zip_call = [x for x in zip_call if pd.isnull(x) == False]\n",
    "# print(zip_call)\n",
    "\n",
    "# Append array\n",
    "set_arrays.append(zip_call)\n",
    "\n",
    "# Calculating the most common\n",
    "level_zip_call = Counter(zip_call).most_common()[0][0]\n",
    "print(\"\\nLevel of ''zip' call function' is: \" + level_zip_call)\n",
    "\n",
    "# Save in array\n",
    "levels.append([\"'zip' call function\", level_zip_call])"
   ]
  },
  {
   "cell_type": "code",
   "execution_count": 45,
   "metadata": {},
   "outputs": [
    {
     "name": "stdout",
     "output_type": "stream",
     "text": [
      "\n",
      "Level of ''map' call function' is: B1\n"
     ]
    }
   ],
   "source": [
    "\"\"\" 'map' call function. \"\"\"\n",
    "\n",
    "map_call = reader.iloc[:, 88].to_list()\n",
    "#print(map_call)\n",
    "\n",
    "# Append array\n",
    "matrix_aux.append(map_call)\n",
    "\n",
    "# Remove 'nan' element of list\n",
    "map_call = [x for x in map_call if pd.isnull(x) == False]\n",
    "# print(map_call)\n",
    "\n",
    "# Append array\n",
    "set_arrays.append(map_call)\n",
    "\n",
    "# Calculating the most common\n",
    "level_map_call = Counter(map_call).most_common()[0][0]\n",
    "print(\"\\nLevel of ''map' call function' is: \" + level_map_call)\n",
    "\n",
    "# Save in array\n",
    "levels.append([\"'map' call function\", level_map_call])"
   ]
  },
  {
   "cell_type": "code",
   "execution_count": 46,
   "metadata": {},
   "outputs": [
    {
     "name": "stdout",
     "output_type": "stream",
     "text": [
      "\n",
      "Level of ''enumerate' call function' is: B1\n"
     ]
    }
   ],
   "source": [
    "\"\"\" 'enumerate' call function. \"\"\"\n",
    "\n",
    "enumerate_call = reader.iloc[:, 59].to_list()\n",
    "#print(enumerate_call)\n",
    "\n",
    "# Append array\n",
    "matrix_aux.append(enumerate_call)\n",
    "\n",
    "# Remove 'nan' element of list\n",
    "enumerate_call = [x for x in enumerate_call if pd.isnull(x) == False]\n",
    "# print(enumerate_call)\n",
    "\n",
    "# Append array\n",
    "set_arrays.append(enumerate_call)\n",
    "\n",
    "# Calculating the most common\n",
    "level_enumerate_call = Counter(enumerate_call).most_common()[0][0]\n",
    "print(\"\\nLevel of ''enumerate' call function' is: \" + level_enumerate_call)\n",
    "\n",
    "# Save in array\n",
    "levels.append([\"'enumerate' call function\", level_enumerate_call])\n"
   ]
  },
  {
   "cell_type": "code",
   "execution_count": 47,
   "metadata": {},
   "outputs": [
    {
     "name": "stdout",
     "output_type": "stream",
     "text": [
      "\n",
      "Level of 'Function with simple argument(s)' is: A1\n"
     ]
    }
   ],
   "source": [
    "\"\"\" Function with simple argument(s). \"\"\"\n",
    "\n",
    "funct_simple_arg = reader.iloc[:, 24].to_list()\n",
    "#print(funct_simple_arg)\n",
    "\n",
    "# Append array\n",
    "matrix_aux.append(funct_simple_arg)\n",
    "\n",
    "# Remove 'nan' element of list\n",
    "funct_simple_arg = [x for x in funct_simple_arg if pd.isnull(x) == False]\n",
    "# print(funct_simple_arg)\n",
    "\n",
    "# Append array\n",
    "set_arrays.append(funct_simple_arg)\n",
    "\n",
    "# Calculating the most common\n",
    "level_funct_simple_arg = Counter(funct_simple_arg).most_common()[0][0]\n",
    "print(\"\\nLevel of 'Function with simple argument(s)' is: \" + level_funct_simple_arg)\n",
    "\n",
    "# Save in array\n",
    "levels.append([\"Function with simple argument(s)\", level_funct_simple_arg])"
   ]
  },
  {
   "cell_type": "code",
   "execution_count": 48,
   "metadata": {},
   "outputs": [
    {
     "name": "stdout",
     "output_type": "stream",
     "text": [
      "\n",
      "Level of 'Function with Default argument' is: B1\n"
     ]
    }
   ],
   "source": [
    "\"\"\" Function with Default argument. \"\"\"\n",
    "\n",
    "funct_default_arg = reader.iloc[:, 60].to_list()\n",
    "#print(funct_default_arg)\n",
    "\n",
    "# Append array\n",
    "matrix_aux.append(funct_default_arg)\n",
    "\n",
    "# Remove 'nan' element of list\n",
    "funct_default_arg = [x for x in funct_default_arg if pd.isnull(x) == False]\n",
    "# print(funct_default_arg)\n",
    "\n",
    "# Append array\n",
    "set_arrays.append(funct_default_arg)\n",
    "\n",
    "# Calculating the most common\n",
    "level_funct_default_arg = Counter(funct_default_arg).most_common()[0][0]\n",
    "print(\"\\nLevel of 'Function with Default argument' is: \" + level_funct_default_arg)\n",
    "\n",
    "# Save in array\n",
    "levels.append([\"Function with Default argument\", level_funct_default_arg])"
   ]
  },
  {
   "cell_type": "code",
   "execution_count": 49,
   "metadata": {},
   "outputs": [
    {
     "name": "stdout",
     "output_type": "stream",
     "text": [
      "\n",
      "Level of 'Function with * argument' is: B2\n"
     ]
    }
   ],
   "source": [
    "\"\"\" Function with * argument. \"\"\"\n",
    "\n",
    "funct_ver_arg = reader.iloc[:, 25].to_list()\n",
    "#print(funct_ver_arg)\n",
    "\n",
    "# Append array\n",
    "matrix_aux.append(funct_ver_arg)\n",
    "\n",
    "# Remove 'nan' element of list\n",
    "funct_ver_arg = [x for x in funct_ver_arg if pd.isnull(x) == False]\n",
    "# print(funct_ver_arg)\n",
    "\n",
    "# Append array\n",
    "set_arrays.append(funct_ver_arg)\n",
    "\n",
    "# Calculating the most common\n",
    "level_funct_ver_arg = Counter(funct_ver_arg).most_common()[0][0]\n",
    "print(\"\\nLevel of 'Function with * argument' is: \" + level_funct_ver_arg)\n",
    "\n",
    "# Save in array\n",
    "levels.append([\"Function with * argument\", level_funct_ver_arg])"
   ]
  },
  {
   "cell_type": "code",
   "execution_count": 50,
   "metadata": {},
   "outputs": [
    {
     "name": "stdout",
     "output_type": "stream",
     "text": [
      "\n",
      "Level of 'Function with ** argument' is: B2\n"
     ]
    }
   ],
   "source": [
    "\"\"\" Function with ** argument. \"\"\"\n",
    "\n",
    "funct_2ver_arg = reader.iloc[:, 89].to_list()\n",
    "#print(funct_2ver_arg)\n",
    "\n",
    "# Append array\n",
    "matrix_aux.append(funct_2ver_arg)\n",
    "\n",
    "# Remove 'nan' element of list\n",
    "funct_2ver_arg = [x for x in funct_2ver_arg if pd.isnull(x) == False]\n",
    "# print(funct_2ver_arg)\n",
    "\n",
    "# Append array\n",
    "set_arrays.append(funct_2ver_arg)\n",
    "\n",
    "# Calculating the most common\n",
    "level_funct_2ver_arg = Counter(funct_2ver_arg).most_common()[0][0]\n",
    "print(\"\\nLevel of 'Function with ** argument' is: \" + level_funct_2ver_arg)\n",
    "\n",
    "# Save in array\n",
    "levels.append([\"Function with ** argument\", level_funct_2ver_arg])"
   ]
  },
  {
   "cell_type": "code",
   "execution_count": 51,
   "metadata": {},
   "outputs": [
    {
     "name": "stdout",
     "output_type": "stream",
     "text": [
      "\n",
      "Level of 'Function with Keyword-Only argument' is: B1\n"
     ]
    }
   ],
   "source": [
    "\"\"\" Function with Keyword-Only argument. \"\"\"\n",
    "\n",
    "funct_key_arg = reader.iloc[:, 61].to_list()\n",
    "#print(funct_key_arg)\n",
    "\n",
    "# Append array\n",
    "matrix_aux.append(funct_key_arg)\n",
    "\n",
    "# Remove 'nan' element of list\n",
    "funct_key_arg = [x for x in funct_key_arg if pd.isnull(x) == False]\n",
    "# print(funct_key_arg)\n",
    "\n",
    "# Append array\n",
    "set_arrays.append(funct_key_arg)\n",
    "\n",
    "# Calculating the most common\n",
    "level_funct_key_arg = Counter(funct_key_arg).most_common()[0][0]\n",
    "print(\"\\nLevel of 'Function with Keyword-Only argument' is: \" + level_funct_key_arg)\n",
    "\n",
    "# Save in array\n",
    "levels.append([\"Function with Keyword-Only argument\", level_funct_key_arg])"
   ]
  },
  {
   "cell_type": "code",
   "execution_count": 52,
   "metadata": {},
   "outputs": [
    {
     "name": "stdout",
     "output_type": "stream",
     "text": [
      "\n",
      "Level of 'Recursive Functions' is: B1\n"
     ]
    }
   ],
   "source": [
    "\"\"\" Recursive Functions. \"\"\"\n",
    "\n",
    "recur_funct = reader.iloc[:, 26].to_list()\n",
    "#print(recur_funct)\n",
    "\n",
    "# Append array\n",
    "matrix_aux.append(recur_funct)\n",
    "\n",
    "# Remove 'nan' element of list\n",
    "recur_funct = [x for x in recur_funct if pd.isnull(x) == False]\n",
    "# print(recur_funct)\n",
    "\n",
    "# Append array\n",
    "set_arrays.append(recur_funct)\n",
    "\n",
    "# Calculating the most common\n",
    "level_recur_funct = Counter(recur_funct).most_common()[0][0]\n",
    "print(\"\\nLevel of 'Recursive Functions' is: \" + level_recur_funct)\n",
    "\n",
    "# Save in array\n",
    "levels.append([\"Recursive Functions\", level_recur_funct])"
   ]
  },
  {
   "cell_type": "code",
   "execution_count": 53,
   "metadata": {},
   "outputs": [
    {
     "name": "stdout",
     "output_type": "stream",
     "text": [
      "\n",
      "Level of 'Return' is: A1\n"
     ]
    }
   ],
   "source": [
    "\"\"\" Return. \"\"\"\n",
    "\n",
    "return_call = reader.iloc[:, 62].to_list()\n",
    "#print(return_call)\n",
    "\n",
    "# Append array\n",
    "matrix_aux.append(return_call)\n",
    "\n",
    "# Remove 'nan' element of list\n",
    "return_call = [x for x in return_call if pd.isnull(x) == False]\n",
    "# print(return_call)\n",
    "\n",
    "# Append array\n",
    "set_arrays.append(return_call)\n",
    "\n",
    "# Calculating the most common\n",
    "level_return_call = Counter(return_call).most_common()[0][0]\n",
    "print(\"\\nLevel of 'Return' is: \" + level_return_call)\n",
    "\n",
    "# Save in array\n",
    "levels.append([\"Return\", level_return_call])"
   ]
  },
  {
   "cell_type": "code",
   "execution_count": 54,
   "metadata": {},
   "outputs": [
    {
     "name": "stdout",
     "output_type": "stream",
     "text": [
      "\n",
      "Level of 'Lambda' is: B2\n"
     ]
    }
   ],
   "source": [
    "\"\"\" Lambda. \"\"\"\n",
    "\n",
    "lambda_call = reader.iloc[:, 27].to_list()\n",
    "#print(lambda_call)\n",
    "\n",
    "# Append array\n",
    "matrix_aux.append(lambda_call)\n",
    "\n",
    "# Remove 'nan' element of list\n",
    "lambda_call = [x for x in lambda_call if pd.isnull(x) == False]\n",
    "# print(lambda_call)\n",
    "\n",
    "# Append array\n",
    "set_arrays.append(lambda_call)\n",
    "\n",
    "# Calculating the most common\n",
    "level_lambda_call = Counter(lambda_call).most_common()[0][0]\n",
    "print(\"\\nLevel of 'Lambda' is: \" + level_lambda_call)\n",
    "\n",
    "# Save in array\n",
    "levels.append([\"Lambda\", level_lambda_call])"
   ]
  },
  {
   "cell_type": "code",
   "execution_count": 55,
   "metadata": {},
   "outputs": [
    {
     "name": "stdout",
     "output_type": "stream",
     "text": [
      "\n",
      "Level of 'Generator Functions (yield)' is: C1\n"
     ]
    }
   ],
   "source": [
    "\"\"\" Generator function (yield). \"\"\"\n",
    "\n",
    "gene_funct = reader.iloc[:, 28].to_list()\n",
    "#print(gene_funct)\n",
    "\n",
    "# Append array\n",
    "matrix_aux.append(gene_funct)\n",
    "\n",
    "# Remove 'nan' element of list\n",
    "gene_funct = [x for x in gene_funct if pd.isnull(x) == False]\n",
    "# print(gene_funct)\n",
    "\n",
    "# Append array\n",
    "set_arrays.append(gene_funct)\n",
    "\n",
    "# Calculating the most common\n",
    "level_gene_funct = Counter(gene_funct).most_common()[0][0]\n",
    "print(\"\\nLevel of 'Generator Functions (yield)' is: \" + level_gene_funct)\n",
    "\n",
    "# Save in array\n",
    "levels.append([\"Generator Functions (yield)\", level_gene_funct])"
   ]
  },
  {
   "cell_type": "code",
   "execution_count": 56,
   "metadata": {},
   "outputs": [
    {
     "name": "stdout",
     "output_type": "stream",
     "text": [
      "\n",
      "Level of 'Generator Expressions' is: C1\n"
     ]
    }
   ],
   "source": [
    "\"\"\" Generator Expressions. \"\"\"\n",
    "\n",
    "gene_expr = reader.iloc[:, 29].to_list()\n",
    "#print(gene_expr)\n",
    "\n",
    "# Append array\n",
    "matrix_aux.append(gene_expr)\n",
    "\n",
    "# Remove 'nan' element of list\n",
    "gene_expr = [x for x in gene_expr if pd.isnull(x) == False]\n",
    "# print(gene_expr)\n",
    "\n",
    "# Append array\n",
    "set_arrays.append(gene_expr)\n",
    "\n",
    "# Calculating the most common\n",
    "level_gene_expr = Counter(gene_expr).most_common()[0][0]\n",
    "print(\"\\nLevel of 'Generator Expressions' is: \" + level_gene_expr)\n",
    "\n",
    "# Save in array\n",
    "levels.append([\"Generator Expressions\", level_gene_expr])"
   ]
  },
  {
   "cell_type": "code",
   "execution_count": 57,
   "metadata": {},
   "outputs": [
    {
     "name": "stdout",
     "output_type": "stream",
     "text": [
      "\n",
      "Level of 'Import' is: A1\n"
     ]
    }
   ],
   "source": [
    "\"\"\" Import. \"\"\"\n",
    "\n",
    "import_stat = reader.iloc[:, 30].to_list()\n",
    "#print(import_stat)\n",
    "\n",
    "# Append array\n",
    "matrix_aux.append(import_stat)\n",
    "\n",
    "# Remove 'nan' element of list\n",
    "import_stat = [x for x in import_stat if pd.isnull(x) == False]\n",
    "# print(import_stat)\n",
    "\n",
    "# Append array\n",
    "set_arrays.append(import_stat)\n",
    "\n",
    "# Calculating the most common\n",
    "level_import_stat = Counter(import_stat).most_common()[0][0]\n",
    "print(\"\\nLevel of 'Import' is: \" + level_import_stat)\n",
    "\n",
    "# Save in array\n",
    "levels.append([\"Import\", level_import_stat])"
   ]
  },
  {
   "cell_type": "code",
   "execution_count": 58,
   "metadata": {},
   "outputs": [
    {
     "name": "stdout",
     "output_type": "stream",
     "text": [
      "\n",
      "Level of 'From' is: A2\n"
     ]
    }
   ],
   "source": [
    "\"\"\" From. \"\"\"\n",
    "\n",
    "from_stat = reader.iloc[:, 31].to_list()\n",
    "#print(from_stat)\n",
    "\n",
    "# Append array\n",
    "matrix_aux.append(from_stat)\n",
    "\n",
    "# Remove 'nan' element of list\n",
    "from_stat = [x for x in from_stat if pd.isnull(x) == False]\n",
    "# print(from_stat)\n",
    "\n",
    "# Append array\n",
    "set_arrays.append(from_stat)\n",
    "\n",
    "# Calculating the most common\n",
    "level_from_stat = Counter(from_stat).most_common()[0][0]\n",
    "print(\"\\nLevel of 'From' is: \" + level_from_stat)\n",
    "\n",
    "# Save in array\n",
    "levels.append([\"From\", level_from_stat])"
   ]
  },
  {
   "cell_type": "code",
   "execution_count": 59,
   "metadata": {},
   "outputs": [
    {
     "name": "stdout",
     "output_type": "stream",
     "text": [
      "\n",
      "Level of 'Relative From' is: A2\n"
     ]
    }
   ],
   "source": [
    "\"\"\" Relative From. \"\"\"\n",
    "\n",
    "from_rela = reader.iloc[:, 63].to_list()\n",
    "#print(from_rela)\n",
    "\n",
    "# Append array\n",
    "matrix_aux.append(from_rela)\n",
    "\n",
    "# Remove 'nan' element of list\n",
    "from_rela = [x for x in from_rela if pd.isnull(x) == False]\n",
    "# print(from_rela)\n",
    "\n",
    "# Append array\n",
    "set_arrays.append(from_rela)\n",
    "\n",
    "# Calculating the most common\n",
    "level_from_rela = Counter(from_rela).most_common()[0][0]\n",
    "print(\"\\nLevel of 'Relative From' is: \" + level_from_rela)\n",
    "\n",
    "# Save in array\n",
    "levels.append([\"Relative From\", level_from_rela])"
   ]
  },
  {
   "cell_type": "code",
   "execution_count": 60,
   "metadata": {},
   "outputs": [
    {
     "name": "stdout",
     "output_type": "stream",
     "text": [
      "\n",
      "Level of 'From with * statements' is: B1\n"
     ]
    }
   ],
   "source": [
    "\"\"\" From with * statements. \"\"\"\n",
    "\n",
    "from_ver = reader.iloc[:, 90].to_list()\n",
    "#print(from_ver)\n",
    "\n",
    "# Append array\n",
    "matrix_aux.append(from_ver)\n",
    "\n",
    "# Remove 'nan' element of list\n",
    "from_ver = [x for x in from_ver if pd.isnull(x) == False]\n",
    "# print(from_ver)\n",
    "\n",
    "# Append array\n",
    "set_arrays.append(from_ver)\n",
    "\n",
    "# Calculating the most common\n",
    "level_from_ver = Counter(from_ver).most_common()[0][0]\n",
    "print(\"\\nLevel of 'From with * statements' is: \" + level_from_ver)\n",
    "\n",
    "# Save in array\n",
    "levels.append([\"From with * statements\", level_from_ver])"
   ]
  },
  {
   "cell_type": "code",
   "execution_count": 61,
   "metadata": {},
   "outputs": [
    {
     "name": "stdout",
     "output_type": "stream",
     "text": [
      "\n",
      "Level of ''as' extension' is: B1\n"
     ]
    }
   ],
   "source": [
    "\"\"\" 'as' extension. \"\"\"\n",
    "\n",
    "as_ext = reader.iloc[:, 32].to_list()\n",
    "#print(as_ext)\n",
    "\n",
    "# Append array\n",
    "matrix_aux.append(as_ext)\n",
    "\n",
    "# Remove 'nan' element of list\n",
    "as_ext = [x for x in as_ext if pd.isnull(x) == False]\n",
    "# print(as_ext)\n",
    "\n",
    "# Append array\n",
    "set_arrays.append(as_ext)\n",
    "\n",
    "# Calculating the most common\n",
    "level_as_ext = Counter(as_ext).most_common()[0][0]\n",
    "print(\"\\nLevel of ''as' extension' is: \" + level_as_ext)\n",
    "\n",
    "# Save in array\n",
    "levels.append([\"'as' extension\", level_as_ext])"
   ]
  },
  {
   "cell_type": "code",
   "execution_count": 62,
   "metadata": {},
   "outputs": [
    {
     "name": "stdout",
     "output_type": "stream",
     "text": [
      "\n",
      "Level of 'Using the struct modulen' is: C2\n"
     ]
    }
   ],
   "source": [
    "\"\"\" Using the struct module. \"\"\"\n",
    "\n",
    "struct_mod = reader.iloc[:, 91].to_list()\n",
    "#print(struct_mod)\n",
    "\n",
    "# Append array\n",
    "matrix_aux.append(struct_mod)\n",
    "\n",
    "# Remove 'nan' element of list\n",
    "struct_mod = [x for x in struct_mod if pd.isnull(x) == False]\n",
    "# print(struct_mod)\n",
    "\n",
    "# Append array\n",
    "set_arrays.append(struct_mod)\n",
    "\n",
    "# Calculating the most common\n",
    "level_struct_mod = Counter(struct_mod).most_common()[0][0]\n",
    "print(\"\\nLevel of 'Using the struct modulen' is: \" + level_struct_mod)\n",
    "\n",
    "# Save in array\n",
    "levels.append([\"Using the struct module\", level_struct_mod])"
   ]
  },
  {
   "cell_type": "code",
   "execution_count": 63,
   "metadata": {},
   "outputs": [
    {
     "name": "stdout",
     "output_type": "stream",
     "text": [
      "\n",
      "Level of 'Using the pickle module' is: Don't know\n"
     ]
    }
   ],
   "source": [
    "\"\"\" Using the pickle module. \"\"\"\n",
    "\n",
    "pickle_mod = reader.iloc[:, 92].to_list()\n",
    "#print(pickle_mod)\n",
    "\n",
    "# Append array\n",
    "matrix_aux.append(pickle_mod)\n",
    "\n",
    "# Remove 'nan' element of list\n",
    "pickle_mod = [x for x in pickle_mod if pd.isnull(x) == False]\n",
    "# print(pickle_mod)\n",
    "\n",
    "# Append array\n",
    "set_arrays.append(pickle_mod)\n",
    "\n",
    "# Calculating the most common\n",
    "level_pickle_mod = Counter(pickle_mod).most_common()[0][0]\n",
    "print(\"\\nLevel of 'Using the pickle module' is: \" + level_pickle_mod)\n",
    "\n",
    "# Save in array\n",
    "levels.append([\"Using the pickle module\", level_pickle_mod])"
   ]
  },
  {
   "cell_type": "code",
   "execution_count": 64,
   "metadata": {},
   "outputs": [
    {
     "name": "stdout",
     "output_type": "stream",
     "text": [
      "\n",
      "Level of 'Using the shelve module' is: Don't know\n"
     ]
    }
   ],
   "source": [
    "\"\"\" Using the shelve module. \"\"\"\n",
    "\n",
    "shelve_mod = reader.iloc[:, 93].to_list()\n",
    "#print(shelve_mod)\n",
    "\n",
    "# Append array\n",
    "matrix_aux.append(shelve_mod)\n",
    "\n",
    "# Remove 'nan' element of list\n",
    "shelve_mod = [x for x in shelve_mod if pd.isnull(x) == False]\n",
    "# print(shelve_mod)\n",
    "\n",
    "# Append array\n",
    "set_arrays.append(shelve_mod)\n",
    "\n",
    "# Calculating the most common\n",
    "level_shelve_mod = Counter(shelve_mod).most_common()[0][0]\n",
    "print(\"\\nLevel of 'Using the shelve module' is: \" + level_shelve_mod)\n",
    "\n",
    "# Save in array\n",
    "levels.append([\"Using the shelve module\", level_shelve_mod])"
   ]
  },
  {
   "cell_type": "code",
   "execution_count": 65,
   "metadata": {},
   "outputs": [
    {
     "name": "stdout",
     "output_type": "stream",
     "text": [
      "\n",
      "Level of 'Using the dbm module' is: C1\n"
     ]
    }
   ],
   "source": [
    "\"\"\" Using the dbm module. \"\"\"\n",
    "\n",
    "dbm_mod = reader.iloc[:, 94].to_list()\n",
    "#print(dbm_mod)\n",
    "\n",
    "# Append array\n",
    "matrix_aux.append(dbm_mod)\n",
    "\n",
    "# Remove 'nan' element of list\n",
    "dbm_mod = [x for x in dbm_mod if pd.isnull(x) == False]\n",
    "# print(dbm_mod)\n",
    "\n",
    "# Append array\n",
    "set_arrays.append(dbm_mod)\n",
    "\n",
    "# Calculating the most common\n",
    "level_dbm_mod = Counter(dbm_mod).most_common()[0][0]\n",
    "print(\"\\nLevel of 'Using the dbm module' is: \" + level_dbm_mod)\n",
    "\n",
    "# Save in array\n",
    "levels.append([\"Using the dbm module\", level_dbm_mod])"
   ]
  },
  {
   "cell_type": "code",
   "execution_count": 66,
   "metadata": {},
   "outputs": [
    {
     "name": "stdout",
     "output_type": "stream",
     "text": [
      "\n",
      "Level of 'Using the re module' is: C1\n"
     ]
    }
   ],
   "source": [
    "\"\"\" Using the re module. \"\"\"\n",
    "\n",
    "re_mod = reader.iloc[:, 95].to_list()\n",
    "#print(re_mod)\n",
    "\n",
    "# Append array\n",
    "matrix_aux.append(re_mod)\n",
    "\n",
    "# Remove 'nan' element of list\n",
    "re_mod = [x for x in re_mod if pd.isnull(x) == False]\n",
    "# print(re_mod)\n",
    "\n",
    "# Append array\n",
    "set_arrays.append(re_mod)\n",
    "\n",
    "# Calculating the most common\n",
    "level_re_mod = Counter(re_mod).most_common()[0][0]\n",
    "print(\"\\nLevel of 'Using the re module' is: \" + level_re_mod)\n",
    "\n",
    "# Save in array\n",
    "levels.append([\"Using the re module\", level_re_mod])"
   ]
  },
  {
   "cell_type": "code",
   "execution_count": 67,
   "metadata": {},
   "outputs": [
    {
     "name": "stdout",
     "output_type": "stream",
     "text": [
      "\n",
      "Level of 'Using the importlib module' is: C1\n"
     ]
    }
   ],
   "source": [
    "\"\"\" Using the importlib module. \"\"\"\n",
    "\n",
    "importlib_mod = reader.iloc[:, 96].to_list()\n",
    "#print(importlib_mod )\n",
    "\n",
    "# Append array\n",
    "matrix_aux.append(importlib_mod)\n",
    "\n",
    "# Remove 'nan' element of list\n",
    "importlib_mod = [x for x in importlib_mod if pd.isnull(x) == False]\n",
    "# print(importlib_mod)\n",
    "\n",
    "# Append array\n",
    "set_arrays.append(importlib_mod)\n",
    "\n",
    "# Calculating the most common\n",
    "level_importlib_mod  = Counter(importlib_mod ).most_common()[0][0]\n",
    "print(\"\\nLevel of 'Using the importlib module' is: \" + level_importlib_mod )\n",
    "\n",
    "# Save in array\n",
    "levels.append([\"Using the importlib module\", level_importlib_mod ])"
   ]
  },
  {
   "cell_type": "code",
   "execution_count": 68,
   "metadata": {},
   "outputs": [
    {
     "name": "stdout",
     "output_type": "stream",
     "text": [
      "\n",
      "Level of 'Simple Class' is: B1\n"
     ]
    }
   ],
   "source": [
    "\"\"\" Simple Class. \"\"\"\n",
    "\n",
    "simple_class = reader.iloc[:, 33].to_list()\n",
    "#print(simple_class)\n",
    "\n",
    "# Append array\n",
    "matrix_aux.append(simple_class)\n",
    "\n",
    "# Remove 'nan' element of list\n",
    "simple_class = [x for x in simple_class if pd.isnull(x) == False]\n",
    "# print(simple_class)\n",
    "\n",
    "# Append array\n",
    "set_arrays.append(simple_class)\n",
    "\n",
    "# Calculating the most common\n",
    "level_simple_class = Counter(simple_class).most_common()[0][0]\n",
    "print(\"\\nLevel of 'Simple Class' is: \" + level_simple_class)\n",
    "\n",
    "# Save in array\n",
    "levels.append([\"Simple Class\", level_simple_class])"
   ]
  },
  {
   "cell_type": "code",
   "execution_count": 69,
   "metadata": {},
   "outputs": [
    {
     "name": "stdout",
     "output_type": "stream",
     "text": [
      "\n",
      "Level of 'Inherited Class' is: B1\n"
     ]
    }
   ],
   "source": [
    "\"\"\" Inherited Class. \"\"\"\n",
    "\n",
    "inherited_class = reader.iloc[:, 64].to_list()\n",
    "#print(inherited_class)\n",
    "\n",
    "# Append array\n",
    "matrix_aux.append(inherited_class)\n",
    "\n",
    "# Remove 'nan' element of list\n",
    "inherited_class = [x for x in inherited_class if pd.isnull(x) == False]\n",
    "# print(inherited_class)\n",
    "\n",
    "# Append array\n",
    "set_arrays.append(inherited_class)\n",
    "\n",
    "# Calculating the most common\n",
    "level_inherited_class = Counter(inherited_class).most_common()[0][0]\n",
    "print(\"\\nLevel of 'Inherited Class' is: \" + level_inherited_class)\n",
    "\n",
    "# Save in array\n",
    "levels.append([\"Inherited Class\", level_inherited_class])"
   ]
  },
  {
   "cell_type": "code",
   "execution_count": 70,
   "metadata": {},
   "outputs": [
    {
     "name": "stdout",
     "output_type": "stream",
     "text": [
      "\n",
      "Level of 'Using the constructor method --> __init__' is: B1\n"
     ]
    }
   ],
   "source": [
    "\"\"\" Using the constructor method --> __init__. \"\"\"\n",
    "\n",
    "const_method = reader.iloc[:, 34].to_list()\n",
    "#print(const_method)\n",
    "\n",
    "# Append array\n",
    "matrix_aux.append(const_method)\n",
    "\n",
    "# Remove 'nan' element of list\n",
    "const_method = [x for x in const_method if pd.isnull(x) == False]\n",
    "# print(const_method)\n",
    "\n",
    "# Append array\n",
    "set_arrays.append(const_method)\n",
    "\n",
    "# Calculating the most common\n",
    "level_const_method = Counter(const_method).most_common()[0][0]\n",
    "print(\"\\nLevel of 'Using the constructor method --> __init__' is: \" + level_const_method)\n",
    "\n",
    "# Save in array\n",
    "levels.append([\"Using the constructor method --> __init__\", level_const_method])"
   ]
  },
  {
   "cell_type": "code",
   "execution_count": 71,
   "metadata": {},
   "outputs": [
    {
     "name": "stdout",
     "output_type": "stream",
     "text": [
      "\n",
      "Level of 'Descriptors' is: C1\n"
     ]
    }
   ],
   "source": [
    "\"\"\" Descriptors. \"\"\"\n",
    "\n",
    "descrip = reader.iloc[:, 35].to_list()\n",
    "#print(descrip)\n",
    "\n",
    "# Append array\n",
    "matrix_aux.append(descrip)\n",
    "\n",
    "# Remove 'nan' element of list\n",
    "descrip = [x for x in descrip if pd.isnull(x) == False]\n",
    "# print(descrip)\n",
    "\n",
    "# Append array\n",
    "set_arrays.append(descrip)\n",
    "\n",
    "# Calculating the most common\n",
    "level_descrip = Counter(descrip).most_common()[0][0]\n",
    "print(\"\\nLevel of 'Descriptors' is: \" + level_descrip)\n",
    "\n",
    "# Save in array\n",
    "levels.append([\"Descriptors\", level_descrip])"
   ]
  },
  {
   "cell_type": "code",
   "execution_count": 72,
   "metadata": {},
   "outputs": [
    {
     "name": "stdout",
     "output_type": "stream",
     "text": [
      "\n",
      "Level of 'Class Properties' is: C1\n"
     ]
    }
   ],
   "source": [
    "\"\"\" Class Properties. \"\"\"\n",
    "\n",
    "proper = reader.iloc[:, 36].to_list()\n",
    "#print(proper)\n",
    "\n",
    "# Append array\n",
    "matrix_aux.append(proper)\n",
    "\n",
    "# Remove 'nan' element of list\n",
    "proper = [x for x in proper if pd.isnull(x) == False]\n",
    "# print(proper)\n",
    "\n",
    "# Append array\n",
    "set_arrays.append(proper)\n",
    "\n",
    "# Calculating the most common\n",
    "level_proper = Counter(proper).most_common()[0][0]\n",
    "print(\"\\nLevel of 'Class Properties' is: \" + level_proper)\n",
    "\n",
    "# Save in array\n",
    "levels.append([\"Class Properties\", level_proper])"
   ]
  },
  {
   "cell_type": "code",
   "execution_count": 73,
   "metadata": {},
   "outputs": [
    {
     "name": "stdout",
     "output_type": "stream",
     "text": [
      "\n",
      "Level of 'Private Methods or Attributes of the class' is: B2\n"
     ]
    }
   ],
   "source": [
    "\"\"\" Private Methods or Attributes of the class. \"\"\"\n",
    "\n",
    "private_class = reader.iloc[:, 37].to_list()\n",
    "#print(private_class)\n",
    "\n",
    "# Append array\n",
    "matrix_aux.append(private_class)\n",
    "\n",
    "# Remove 'nan' element of list\n",
    "private_class = [x for x in private_class if pd.isnull(x) == False]\n",
    "# print(private_class)\n",
    "\n",
    "# Append array\n",
    "set_arrays.append(private_class)\n",
    "\n",
    "# Calculating the most common\n",
    "level_private_class = Counter(private_class).most_common()[0][0]\n",
    "print(\"\\nLevel of 'Private Methods or Attributes of the class' is: \" + level_private_class)\n",
    "\n",
    "# Save in array\n",
    "levels.append([\"Private Methods or Attributes of the class\", level_private_class])"
   ]
  },
  {
   "cell_type": "code",
   "execution_count": 74,
   "metadata": {},
   "outputs": [
    {
     "name": "stdout",
     "output_type": "stream",
     "text": [
      "\n",
      "Level of 'Class Method' is: C1\n"
     ]
    }
   ],
   "source": [
    "\"\"\" Class Method. \"\"\"\n",
    "\n",
    "class_method = reader.iloc[:, 65].to_list()\n",
    "#print(class_method)\n",
    "\n",
    "# Append array\n",
    "matrix_aux.append(class_method)\n",
    "\n",
    "# Remove 'nan' element of list\n",
    "class_method = [x for x in class_method if pd.isnull(x) == False]\n",
    "# print(class_method)\n",
    "\n",
    "# Append array\n",
    "set_arrays.append(class_method)\n",
    "\n",
    "# Calculating the most common\n",
    "level_class_method = Counter(class_method).most_common()[0][0]\n",
    "print(\"\\nLevel of 'Class Method' is: \" + level_class_method)\n",
    "\n",
    "# Save in array\n",
    "levels.append([\"Class Method\", level_simple_class])"
   ]
  },
  {
   "cell_type": "code",
   "execution_count": 75,
   "metadata": {},
   "outputs": [
    {
     "name": "stdout",
     "output_type": "stream",
     "text": [
      "\n",
      "Level of 'Static Method' is: C1\n"
     ]
    }
   ],
   "source": [
    "\"\"\" Static Method. \"\"\"\n",
    "\n",
    "static_method = reader.iloc[:, 66].to_list()\n",
    "#print(static_method)\n",
    "\n",
    "# Append array\n",
    "matrix_aux.append(static_method)\n",
    "\n",
    "# Remove 'nan' element of list\n",
    "static_method = [x for x in static_method if pd.isnull(x) == False]\n",
    "# print(static_method)\n",
    "\n",
    "# Append array\n",
    "set_arrays.append(static_method)\n",
    "\n",
    "# Calculating the most common\n",
    "level_static_method = Counter(static_method).most_common()[0][0]\n",
    "print(\"\\nLevel of 'Static Method' is: \" + level_static_method)\n",
    "\n",
    "# Save in array\n",
    "levels.append([\"Static Method\", level_static_method])"
   ]
  },
  {
   "cell_type": "code",
   "execution_count": 76,
   "metadata": {},
   "outputs": [
    {
     "name": "stdout",
     "output_type": "stream",
     "text": [
      "\n",
      "Level of 'Decorator Function' is: C1\n"
     ]
    }
   ],
   "source": [
    "\"\"\" Decorator Function. \"\"\"\n",
    "\n",
    "decora_funct = reader.iloc[:, 38].to_list()\n",
    "#print(decora_funct)\n",
    "\n",
    "# Append array\n",
    "matrix_aux.append(decora_funct)\n",
    "\n",
    "# Remove 'nan' element of list\n",
    "decora_funct = [x for x in decora_funct if pd.isnull(x) == False]\n",
    "# print(decora_funct)\n",
    "\n",
    "# Append array\n",
    "set_arrays.append(decora_funct)\n",
    "\n",
    "# Calculating the most common\n",
    "level_decora_funct = Counter(decora_funct).most_common()[0][0]\n",
    "print(\"\\nLevel of 'Decorator Function' is: \" + level_decora_funct)\n",
    "\n",
    "# Save in array\n",
    "levels.append([\"Decorator Function\", level_decora_funct])"
   ]
  },
  {
   "cell_type": "code",
   "execution_count": 77,
   "metadata": {},
   "outputs": [
    {
     "name": "stdout",
     "output_type": "stream",
     "text": [
      "\n",
      "Level of 'Decorator Class' is: C1\n"
     ]
    }
   ],
   "source": [
    "\"\"\" Decorator Class. \"\"\"\n",
    "\n",
    "decora_class = reader.iloc[:, 39].to_list()\n",
    "#print(decora_class)\n",
    "\n",
    "# Append array\n",
    "matrix_aux.append(decora_class)\n",
    "\n",
    "# Remove 'nan' element of list\n",
    "decora_class = [x for x in decora_class if pd.isnull(x) == False]\n",
    "# print(decora_class)\n",
    "\n",
    "# Append array\n",
    "set_arrays.append(decora_class)\n",
    "\n",
    "# Calculating the most common\n",
    "level_decora_class = Counter(decora_class).most_common()[0][0]\n",
    "print(\"\\nLevel of 'Decorator Class' is: \" + level_decora_class)\n",
    "\n",
    "# Save in array\n",
    "levels.append([\"Decorator Class\", level_decora_class])"
   ]
  },
  {
   "cell_type": "code",
   "execution_count": 78,
   "metadata": {},
   "outputs": [
    {
     "name": "stdout",
     "output_type": "stream",
     "text": [
      "\n",
      "Level of 'Metaclass (3.X) created with --> __new__' is: C2\n"
     ]
    }
   ],
   "source": [
    "\"\"\" Metaclass (3.X) created with --> __new__. \"\"\"\n",
    "\n",
    "meta_new = reader.iloc[:, 40].to_list()\n",
    "#print(meta_new)\n",
    "\n",
    "# Append array\n",
    "matrix_aux.append(meta_new)\n",
    "\n",
    "# Remove 'nan' element of list\n",
    "meta_new = [x for x in meta_new if pd.isnull(x) == False]\n",
    "# print(meta_new)\n",
    "\n",
    "# Append array\n",
    "set_arrays.append(meta_new)\n",
    "\n",
    "# Calculating the most common\n",
    "level_meta_new = Counter(meta_new).most_common()[0][0]\n",
    "print(\"\\nLevel of 'Metaclass (3.X) created with --> __new__' is: \" + level_meta_new)\n",
    "\n",
    "# Save in array\n",
    "levels.append([\"Metaclass (3.X) created with --> __new__\", level_meta_new])"
   ]
  },
  {
   "cell_type": "code",
   "execution_count": 79,
   "metadata": {},
   "outputs": [
    {
     "name": "stdout",
     "output_type": "stream",
     "text": [
      "\n",
      "Level of 'Metaclass created in the class header --> 'metaclass = '' is: C2\n"
     ]
    }
   ],
   "source": [
    "\"\"\" Metaclass created in the class header --> 'metaclass = '. \"\"\"\n",
    "\n",
    "meta_header = reader.iloc[:, 67].to_list()\n",
    "#print(meta_header)\n",
    "\n",
    "# Append array\n",
    "matrix_aux.append(meta_header)\n",
    "\n",
    "# Remove 'nan' element of list\n",
    "meta_header = [x for x in meta_header if pd.isnull(x) == False]\n",
    "# print(meta_header)\n",
    "\n",
    "# Append array\n",
    "set_arrays.append(meta_header)\n",
    "\n",
    "# Calculating the most common\n",
    "level_meta_header = Counter(meta_header).most_common()[0][0]\n",
    "print(\"\\nLevel of 'Metaclass created in the class header --> 'metaclass = '' is: \" + level_meta_header)\n",
    "\n",
    "# Save in array\n",
    "levels.append([\"Metaclass created in the class header --> 'metaclass = '\", level_meta_header])"
   ]
  },
  {
   "cell_type": "code",
   "execution_count": 80,
   "metadata": {},
   "outputs": [
    {
     "name": "stdout",
     "output_type": "stream",
     "text": [
      "\n",
      "Level of 'Metaclass (2.X) created as attribute with --> __metaclass__' is: C2\n"
     ]
    }
   ],
   "source": [
    "\"\"\" Metaclass (2.X) created as attribute with --> __metaclass__. \"\"\"\n",
    "\n",
    "meta_attr = reader.iloc[:, 97].to_list()\n",
    "#print(meta_attr)\n",
    "\n",
    "# Append array\n",
    "matrix_aux.append(meta_attr)\n",
    "\n",
    "# Remove 'nan' element of list\n",
    "meta_attr = [x for x in meta_attr if pd.isnull(x) == False]\n",
    "# print(meta_attr)\n",
    "\n",
    "# Append array\n",
    "set_arrays.append(meta_attr)\n",
    "\n",
    "# Calculating the most common\n",
    "level_meta_attr = Counter(meta_attr).most_common()[0][0]\n",
    "print(\"\\nLevel of 'Metaclass (2.X) created as attribute with --> __metaclass__' is: \" + level_meta_attr)\n",
    "\n",
    "# Save in array\n",
    "levels.append([\"Metaclass (2.X) created as attribute with --> __metaclass__\", level_meta_attr])"
   ]
  },
  {
   "cell_type": "code",
   "execution_count": 81,
   "metadata": {},
   "outputs": [
    {
     "name": "stdout",
     "output_type": "stream",
     "text": [
      "\n",
      "Level of 'Super function' is: B2\n"
     ]
    }
   ],
   "source": [
    "\"\"\" Super function. \"\"\"\n",
    "\n",
    "super_funct = reader.iloc[:, 68].to_list()\n",
    "#print(super_funct)\n",
    "\n",
    "# Append array\n",
    "matrix_aux.append(super_funct)\n",
    "\n",
    "# Remove 'nan' element of list\n",
    "super_funct = [x for x in super_funct if pd.isnull(x) == False]\n",
    "# print(super_funct)\n",
    "\n",
    "# Append array\n",
    "set_arrays.append(super_funct)\n",
    "\n",
    "# Calculating the most common\n",
    "level_super_funct = Counter(super_funct).most_common()[0][0]\n",
    "print(\"\\nLevel of 'Super function' is: \" + level_super_funct)\n",
    "\n",
    "# Save in array\n",
    "levels.append([\"Super function\", level_super_funct])"
   ]
  },
  {
   "cell_type": "code",
   "execution_count": 82,
   "metadata": {},
   "outputs": [
    {
     "name": "stdout",
     "output_type": "stream",
     "text": [
      "\n",
      "Level of 'Attribute  statements __slots__' is: C2\n"
     ]
    }
   ],
   "source": [
    "\"\"\" Attribute  statements __slots__. \"\"\"\n",
    "\n",
    "attr_slots = reader.iloc[:, 69].to_list()\n",
    "#print(attr_slots)\n",
    "\n",
    "# Append array\n",
    "matrix_aux.append(attr_slots)\n",
    "\n",
    "# Remove 'nan' element of list\n",
    "attr_slots = [x for x in attr_slots if pd.isnull(x) == False]\n",
    "# print(attr_slots)\n",
    "\n",
    "# Append array\n",
    "set_arrays.append(attr_slots)\n",
    "\n",
    "# Calculating the most common\n",
    "level_attr_slots = Counter(attr_slots).most_common()[0][0]\n",
    "print(\"\\nLevel of 'Attribute  statements __slots__' is: \" + level_attr_slots)\n",
    "\n",
    "# Save in array\n",
    "levels.append([\"Attribute  statements __slots__\", level_attr_slots])"
   ]
  },
  {
   "cell_type": "code",
   "execution_count": 83,
   "metadata": {},
   "outputs": [
    {
     "name": "stdout",
     "output_type": "stream",
     "text": [
      "\n",
      "Level of 'Simple Attribute' is: A2\n"
     ]
    }
   ],
   "source": [
    "\"\"\" Simple Attribute. \"\"\"\n",
    "\n",
    "simple_attr = reader.iloc[:, 70].to_list()\n",
    "#print(simple_attr)\n",
    "\n",
    "# Append array\n",
    "matrix_aux.append(simple_attr)\n",
    "\n",
    "# Remove 'nan' element of list\n",
    "simple_attr = [x for x in simple_attr if pd.isnull(x) == False]\n",
    "# print(simple_attr)\n",
    "\n",
    "# Append array\n",
    "set_arrays.append(simple_attr)\n",
    "\n",
    "# Calculating the most common\n",
    "level_simple_attr = Counter(simple_attr).most_common()[0][0]\n",
    "print(\"\\nLevel of 'Simple Attribute' is: \" + level_simple_attr)\n",
    "\n",
    "# Save in array\n",
    "levels.append([\"Simple Attribute\", level_simple_attr])"
   ]
  },
  {
   "cell_type": "code",
   "execution_count": 84,
   "metadata": {},
   "outputs": [
    {
     "name": "stdout",
     "output_type": "stream",
     "text": [
      "\n",
      "Level of 'Special Class Attribute __class__' is: B2\n"
     ]
    }
   ],
   "source": [
    "\"\"\" Special Class Attribute __class__. \"\"\"\n",
    "\n",
    "attr_class = reader.iloc[:, 71].to_list()\n",
    "#print(attr_class)\n",
    "\n",
    "# Append array\n",
    "matrix_aux.append(attr_class)\n",
    "\n",
    "# Remove 'nan' element of list\n",
    "attr_class = [x for x in attr_class if pd.isnull(x) == False]\n",
    "# print(attr_class)\n",
    "\n",
    "# Append array\n",
    "set_arrays.append(attr_class)\n",
    "\n",
    "# Calculating the most common\n",
    "level_attr_class= Counter(attr_class).most_common()[0][0]\n",
    "print(\"\\nLevel of 'Special Class Attribute __class__' is: \" + level_attr_class)\n",
    "\n",
    "# Save in array\n",
    "levels.append([\"Special Class Attribute __class__\", level_attr_class])"
   ]
  },
  {
   "cell_type": "code",
   "execution_count": 85,
   "metadata": {},
   "outputs": [
    {
     "name": "stdout",
     "output_type": "stream",
     "text": [
      "\n",
      "Level of 'Special Class Attribute __dict__' is: C2\n"
     ]
    }
   ],
   "source": [
    "\"\"\" Special Class Attribute __dict__. \"\"\"\n",
    "\n",
    "attr_dict = reader.iloc[:, 98].to_list()\n",
    "#print(attr_dict)\n",
    "\n",
    "# Append array\n",
    "matrix_aux.append(attr_dict)\n",
    "\n",
    "# Remove 'nan' element of list\n",
    "attr_dict = [x for x in attr_dict if pd.isnull(x) == False]\n",
    "# print(attr_dict)\n",
    "\n",
    "# Append array\n",
    "set_arrays.append(attr_dict)\n",
    "\n",
    "# Calculating the most common\n",
    "level_attr_dict = Counter(attr_dict).most_common()[0][0]\n",
    "print(\"\\nLevel of 'Special Class Attribute __dict__' is: \" + level_attr_dict)\n",
    "\n",
    "# Save in array\n",
    "levels.append([\"Special Class Attribute __dict__\", level_attr_dict])"
   ]
  },
  {
   "cell_type": "code",
   "execution_count": 86,
   "metadata": {},
   "outputs": [
    {
     "name": "stdout",
     "output_type": "stream",
     "text": [
      "\n",
      "Level of ''try/except' exception' is: B1\n"
     ]
    }
   ],
   "source": [
    "\"\"\" 'try/except' exception. \"\"\"\n",
    "\n",
    "try_excep = reader.iloc[:, 41].to_list()\n",
    "#print(try_excep)\n",
    "\n",
    "# Append array\n",
    "matrix_aux.append(try_excep)\n",
    "\n",
    "# Remove 'nan' element of list\n",
    "try_excep = [x for x in try_excep if pd.isnull(x) == False]\n",
    "# print(try_excep)\n",
    "\n",
    "# Append array\n",
    "set_arrays.append(try_excep)\n",
    "\n",
    "# Calculating the most common\n",
    "level_try_excep = Counter(try_excep).most_common()[0][0]\n",
    "print(\"\\nLevel of ''try/except' exception' is: \" + level_try_excep)\n",
    "\n",
    "# Save in array\n",
    "levels.append([\"'try/except' exception\", level_try_excep])"
   ]
  },
  {
   "cell_type": "code",
   "execution_count": 87,
   "metadata": {},
   "outputs": [
    {
     "name": "stdout",
     "output_type": "stream",
     "text": [
      "\n",
      "Level of ''try/else/except' exception' is: B1\n"
     ]
    }
   ],
   "source": [
    "\"\"\" 'try/else/except' exception. \"\"\"\n",
    "\n",
    "try_else_excep = reader.iloc[:, 99].to_list()\n",
    "#print(try_else_excep)\n",
    "\n",
    "# Append array\n",
    "matrix_aux.append(try_else_excep)\n",
    "\n",
    "# Remove 'nan' element of list\n",
    "try_else_excep = [x for x in try_else_excep if pd.isnull(x) == False]\n",
    "# print(try_else_excep)\n",
    "\n",
    "# Append array\n",
    "set_arrays.append(try_else_excep)\n",
    "\n",
    "# Calculating the most common\n",
    "level_try_else_excep = Counter(try_else_excep).most_common()[0][0]\n",
    "print(\"\\nLevel of ''try/else/except' exception' is: \" + level_try_else_excep)\n",
    "\n",
    "# Save in array\n",
    "levels.append([\"'try/else/except' exception\", level_try_else_excep])"
   ]
  },
  {
   "cell_type": "code",
   "execution_count": 88,
   "metadata": {},
   "outputs": [
    {
     "name": "stdout",
     "output_type": "stream",
     "text": [
      "\n",
      "Level of ''try/try' exception' is: B1\n"
     ]
    }
   ],
   "source": [
    "\"\"\" 'try/try' exception. \"\"\"\n",
    "\n",
    "try_try_excep = reader.iloc[:, 100].to_list()\n",
    "#print(try_try_excep)\n",
    "\n",
    "# Append array\n",
    "matrix_aux.append(try_try_excep)\n",
    "\n",
    "# Remove 'nan' element of list\n",
    "try_try_excep = [x for x in try_try_excep if pd.isnull(x) == False]\n",
    "# print(try_try_excep)\n",
    "\n",
    "# Append array\n",
    "set_arrays.append(try_try_excep)\n",
    "\n",
    "# Calculating the most common\n",
    "level_try_try_excep = Counter(try_try_excep).most_common()[0][0]\n",
    "print(\"\\nLevel of ''try/try' exception' is: \" + level_try_try_excep)\n",
    "\n",
    "# Save in array\n",
    "levels.append([\"'try/try' exception\", level_try_try_excep])"
   ]
  },
  {
   "cell_type": "code",
   "execution_count": 89,
   "metadata": {},
   "outputs": [
    {
     "name": "stdout",
     "output_type": "stream",
     "text": [
      "\n",
      "Level of ''try/finally' exception' is: B2\n"
     ]
    }
   ],
   "source": [
    "\"\"\" 'try/finally' exception. \"\"\"\n",
    "\n",
    "try_fin = reader.iloc[:, 42].to_list()\n",
    "#print(try_fin)\n",
    "\n",
    "# Append array\n",
    "matrix_aux.append(try_fin)\n",
    "\n",
    "# Remove 'nan' element of list\n",
    "try_fin = [x for x in try_fin if pd.isnull(x) == False]\n",
    "# print(try_fin)\n",
    "\n",
    "# Append array\n",
    "set_arrays.append(try_fin)\n",
    "\n",
    "# Calculating the most common\n",
    "level_try_fin = Counter(try_fin).most_common()[0][0]\n",
    "print(\"\\nLevel of ''try/finally' exception' is: \" + level_try_fin)\n",
    "\n",
    "# Save in array\n",
    "levels.append([\"'try/finally' exception\", level_try_fin])"
   ]
  },
  {
   "cell_type": "code",
   "execution_count": 90,
   "metadata": {},
   "outputs": [
    {
     "name": "stdout",
     "output_type": "stream",
     "text": [
      "\n",
      "Level of ''try/except/finally' exception' is: B2\n"
     ]
    }
   ],
   "source": [
    "\"\"\" 'try/except/finally' exception. \"\"\"\n",
    "\n",
    "try_fin_excep = reader.iloc[:, 101].to_list()\n",
    "#print(try_fin_excep)\n",
    "\n",
    "# Append array\n",
    "matrix_aux.append(try_fin_excep)\n",
    "\n",
    "# Remove 'nan' element of list\n",
    "try_fin_excep = [x for x in try_fin_excep if pd.isnull(x) == False]\n",
    "# print(try_fin_excep)\n",
    "\n",
    "# Append array\n",
    "set_arrays.append(try_fin_excep)\n",
    "\n",
    "# Calculating the most common\n",
    "level_try_fin_excep = Counter(try_fin_excep).most_common()[0][0]\n",
    "print(\"\\nLevel of ''try/except/finally' exception' is: \" + level_try_fin_excep)\n",
    "\n",
    "# Save in array\n",
    "levels.append([\"'try/except/finally' exception\", level_try_fin_excep])"
   ]
  },
  {
   "cell_type": "code",
   "execution_count": 91,
   "metadata": {},
   "outputs": [
    {
     "name": "stdout",
     "output_type": "stream",
     "text": [
      "\n",
      "Level of ''try/except/else/finally' exception' is: B1\n"
     ]
    }
   ],
   "source": [
    "\"\"\" 'try/except/else/finally' exception. \"\"\"\n",
    "\n",
    "try_excep_else_fin = reader.iloc[:, 102].to_list()\n",
    "#print(try_excep_else_fin)\n",
    "\n",
    "# Append array\n",
    "matrix_aux.append(try_excep_else_fin)\n",
    "\n",
    "# Remove 'nan' element of list\n",
    "try_excep_else_fin = [x for x in try_excep_else_fin if pd.isnull(x) == False]\n",
    "# print(try_excep_else_fin)\n",
    "\n",
    "# Append array\n",
    "set_arrays.append(try_excep_else_fin)\n",
    "\n",
    "# Calculating the most common\n",
    "level_try_excep_else_fin= Counter(try_excep_else_fin).most_common()[0][0]\n",
    "print(\"\\nLevel of ''try/except/else/finally' exception' is: \" + level_try_excep_else_fin)\n",
    "\n",
    "# Save in array\n",
    "levels.append([\"'try/except/else/finally' exception\", level_try_excep_else_fin])"
   ]
  },
  {
   "cell_type": "code",
   "execution_count": 92,
   "metadata": {},
   "outputs": [
    {
     "name": "stdout",
     "output_type": "stream",
     "text": [
      "\n",
      "Level of ''raise' exception' is: B1\n"
     ]
    }
   ],
   "source": [
    "\"\"\" ‘raise’ exception. \"\"\"\n",
    "\n",
    "raise_excep = reader.iloc[:, 72].to_list()\n",
    "#print(raise_excep)\n",
    "\n",
    "# Append array\n",
    "matrix_aux.append(raise_excep)\n",
    "\n",
    "# Remove 'nan' element of list\n",
    "raise_excep = [x for x in raise_excep if pd.isnull(x) == False]\n",
    "# print(raise_excep)\n",
    "\n",
    "# Append array\n",
    "set_arrays.append(raise_excep)\n",
    "\n",
    "# Calculating the most common\n",
    "level_raise_excep = Counter(raise_excep).most_common()[0][0]\n",
    "print(\"\\nLevel of ''raise' exception' is: \" + level_raise_excep)\n",
    "\n",
    "# Save in array\n",
    "levels.append([\"‘raise’ exception\", level_raise_excep])"
   ]
  },
  {
   "cell_type": "code",
   "execution_count": 93,
   "metadata": {},
   "outputs": [
    {
     "name": "stdout",
     "output_type": "stream",
     "text": [
      "\n",
      "Level of ''assert' exception' is: B1\n"
     ]
    }
   ],
   "source": [
    "\"\"\" ‘assert’ exception. \"\"\"\n",
    "\n",
    "assert_excep = reader.iloc[:, 73].to_list()\n",
    "#print(assert_excep)\n",
    "\n",
    "# Append array\n",
    "matrix_aux.append(assert_excep)\n",
    "\n",
    "# Remove 'nan' element of list\n",
    "assert_excep = [x for x in assert_excep if pd.isnull(x) == False]\n",
    "# print(assert_excep)\n",
    "\n",
    "# Append array\n",
    "set_arrays.append(assert_excep)\n",
    "\n",
    "# Calculating the most common\n",
    "level_assert_excep = Counter(assert_excep).most_common()[0][0]\n",
    "print(\"\\nLevel of ''assert' exception' is: \" + level_assert_excep)\n",
    "\n",
    "# Save in array\n",
    "levels.append([\"'assert' exception\", level_assert_excep])"
   ]
  },
  {
   "cell_type": "code",
   "execution_count": 94,
   "metadata": {},
   "outputs": [
    {
     "name": "stdout",
     "output_type": "stream",
     "text": [
      "\n",
      "Level of ' With' is: A2\n"
     ]
    }
   ],
   "source": [
    "\"\"\" With. \"\"\"\n",
    "\n",
    "with_stat = reader.iloc[:, 43].to_list()\n",
    "#print(with_stat)\n",
    "\n",
    "# Append array\n",
    "matrix_aux.append(with_stat)\n",
    "\n",
    "# Remove 'nan' element of list\n",
    "with_stat = [x for x in with_stat if pd.isnull(x) == False]\n",
    "# print(with_stat)\n",
    "\n",
    "# Append array\n",
    "set_arrays.append(with_stat)\n",
    "\n",
    "# Calculating the most common\n",
    "level_with_stat = Counter(with_stat).most_common()[0][0]\n",
    "print(\"\\nLevel of ' With' is: \" + level_with_stat)\n",
    "\n",
    "# Save in array\n",
    "levels.append([\"With\", level_with_stat])"
   ]
  },
  {
   "cell_type": "code",
   "execution_count": 95,
   "metadata": {},
   "outputs": [
    {
     "data": {
      "text/plain": [
       "' Variadic generics. \\n\\nvariadic_gen = reader.iloc[:, 108].to_list()\\n# print(variadic_gen)\\n\\n# Remove \\'nan\\' element of list\\nvariadic_gen = [x for x in variadic_gen if pd.isnull(x) == False]\\n# print(variadic_gen)\\n\\n# Calculating the most common\\nlevel_variadic_gen = Counter(variadic_gen).most_common()[0][0]\\nprint(\"\\nLevel of \\'Variadic generics\\' is: \" + str(level_variadic_gen))\\n\\n# Save in array\\n#levels.append([\"Variadic generics\", level_variadic_gen])\\n'"
      ]
     },
     "execution_count": 95,
     "metadata": {},
     "output_type": "execute_result"
    }
   ],
   "source": [
    "\"\"\" Variadic generics. \n",
    "\n",
    "variadic_gen = reader.iloc[:, 108].to_list()\n",
    "# print(variadic_gen)\n",
    "\n",
    "# Remove 'nan' element of list\n",
    "variadic_gen = [x for x in variadic_gen if pd.isnull(x) == False]\n",
    "# print(variadic_gen)\n",
    "\n",
    "# Calculating the most common\n",
    "level_variadic_gen = Counter(variadic_gen).most_common()[0][0]\n",
    "print(\"\\nLevel of 'Variadic generics' is: \" + str(level_variadic_gen))\n",
    "\n",
    "# Save in array\n",
    "#levels.append([\"Variadic generics\", level_variadic_gen])\n",
    "\"\"\""
   ]
  },
  {
   "cell_type": "code",
   "execution_count": 96,
   "metadata": {},
   "outputs": [
    {
     "data": {
      "text/plain": [
       "' Syntactic Macros. \\n\\nsyntac_macros = reader.iloc[:, 109].to_list()\\n#print(syntac_macros)\\n\\n# Remove \\'nan\\' element of list\\nsyntac_macros = [x for x in syntac_macros if pd.isnull(x) == False]\\n# print(syntac_macros)\\n\\n# Calculating the most common\\nlevel_syntac_macros = Counter(syntac_macros).most_common()[0][0]\\nprint(\"\\nLevel of \\'Syntactic Macros\\' is: \" + str(level_syntac_macros))\\n\\n# Save in array\\n#levels.append([\"Syntactic Macros\", level_syntac_macros])\\n'"
      ]
     },
     "execution_count": 96,
     "metadata": {},
     "output_type": "execute_result"
    }
   ],
   "source": [
    "\"\"\" Syntactic Macros. \n",
    "\n",
    "syntac_macros = reader.iloc[:, 109].to_list()\n",
    "#print(syntac_macros)\n",
    "\n",
    "# Remove 'nan' element of list\n",
    "syntac_macros = [x for x in syntac_macros if pd.isnull(x) == False]\n",
    "# print(syntac_macros)\n",
    "\n",
    "# Calculating the most common\n",
    "level_syntac_macros = Counter(syntac_macros).most_common()[0][0]\n",
    "print(\"\\nLevel of 'Syntactic Macros' is: \" + str(level_syntac_macros))\n",
    "\n",
    "# Save in array\n",
    "#levels.append([\"Syntactic Macros\", level_syntac_macros])\n",
    "\"\"\""
   ]
  },
  {
   "cell_type": "code",
   "execution_count": 97,
   "metadata": {},
   "outputs": [
    {
     "data": {
      "text/plain": [
       "' Type hints. \\n\\ntype_hints = reader.iloc[:, 110].to_list()\\n#print(type_hints)\\n\\n# Remove \\'nan\\' element of list\\ntype_hints = [x for x in type_hints if pd.isnull(x) == False]\\n# print(type_hints)\\n\\n# Calculating the most common\\nlevel_type_hints = Counter(type_hints).most_common()[0][0]\\nprint(\"\\nLevel of \\'Type hints\\' is: \" + str(level_type_hints))\\n\\n# Save in array\\n#levels.append([\"Type hints\", level_type_hints])\\n'"
      ]
     },
     "execution_count": 97,
     "metadata": {},
     "output_type": "execute_result"
    }
   ],
   "source": [
    "\"\"\" Type hints. \n",
    "\n",
    "type_hints = reader.iloc[:, 110].to_list()\n",
    "#print(type_hints)\n",
    "\n",
    "# Remove 'nan' element of list\n",
    "type_hints = [x for x in type_hints if pd.isnull(x) == False]\n",
    "# print(type_hints)\n",
    "\n",
    "# Calculating the most common\n",
    "level_type_hints = Counter(type_hints).most_common()[0][0]\n",
    "print(\"\\nLevel of 'Type hints' is: \" + str(level_type_hints))\n",
    "\n",
    "# Save in array\n",
    "#levels.append([\"Type hints\", level_type_hints])\n",
    "\"\"\""
   ]
  },
  {
   "cell_type": "code",
   "execution_count": 98,
   "metadata": {},
   "outputs": [],
   "source": [
    "\"\"\" Create csv file with summary. \"\"\"\n",
    "\n",
    "# convert array into dataframe\n",
    "levels_data = pd.DataFrame(levels)\n",
    "  \n",
    "# save the dataframe as a csv file\n",
    "levels_data.to_csv(\"Total_Evaluation/summary_levels_long_filter2.csv\")"
   ]
  },
  {
   "cell_type": "code",
   "execution_count": 99,
   "metadata": {},
   "outputs": [
    {
     "name": "stdout",
     "output_type": "stream",
     "text": [
      "[['Class Element', 'Level'], ['Simple List', 'A1'], ['Nested List', 'B1'], ['List Dictionary', 'A2'], ['Simple List Comprehension', 'B2'], ['Nested List Comprehension', 'C1'], ['List Comprehension with If statements', 'B2'], ['Simple Dictionary', 'A1'], ['Nested Dictionary', 'B1'], ['Dictionary List', 'B1'], ['Dictionary of dictionary lists', 'B1'], ['Simple Dict Comprehension', 'B2'], ['Dictionary Comprehension with If statements', 'B2'], ['Dictionary Comprehension with if expression (If-Else)', 'B2'], ['Nested Dict Comprehension', 'B2'], ['Simple Tuple', 'A2'], ['Nested Tuple', 'A2'], [\"Files -->  'open' call function\", 'A2'], [\"Files -->  'write' call function\", 'A2'], [\"Files -->  'writelines' call function\", 'A2'], [\"Files -->  'read' call function\", 'A2'], [\"Files -->  'readline' call function\", 'A2'], ['Print', 'A1'], ['Simple Assignment', 'A1'], ['Assigment with sum (total = total + 1) ', 'A1'], ['Simplified incremental Assignment (+=)', 'A2'], ['Simple If statements', 'A1'], ['If statements expresion (else)', 'A1'], ['If statements using → __name__ == ‘__main__’', 'B2'], [\"'break' statement\", 'A1'], [\"'continue' statement\", 'A2'], [\"'pass' statement\", 'B1'], ['Simple While Loop', 'A1'], ['While with Else Loop', 'A2'], ['Simple For Loop', 'A1'], [' Nested For Loop', 'A2'], ['For Loop with Tuple as name.', 'B1'], ['For Loop with List to iterate.', 'A1'], ['For Loop with Tuple to iterate.', 'A2'], [\"'range' call function\", 'A2'], [\"'zip' call function\", 'B1'], [\"'map' call function\", 'B1'], [\"'enumerate' call function\", 'B1'], ['Function with simple argument(s)', 'A1'], ['Function with Default argument', 'B1'], ['Function with * argument', 'B2'], ['Function with ** argument', 'B2'], ['Function with Keyword-Only argument', 'B1'], ['Recursive Functions', 'B1'], ['Return', 'A1'], ['Lambda', 'B2'], ['Generator Functions (yield)', 'C1'], ['Generator Expressions', 'C1'], ['Import', 'A1'], ['From', 'A2'], ['Relative From', 'A2'], ['From with * statements', 'B1'], [\"'as' extension\", 'B1'], ['Using the struct module', 'C2'], ['Using the pickle module', \"Don't know\"], ['Using the shelve module', \"Don't know\"], ['Using the dbm module', 'C1'], ['Using the re module', 'C1'], ['Using the importlib module', 'C1'], ['Simple Class', 'B1'], ['Inherited Class', 'B1'], ['Using the constructor method --> __init__', 'B1'], ['Descriptors', 'C1'], ['Class Properties', 'C1'], ['Private Methods or Attributes of the class', 'B2'], ['Class Method', 'B1'], ['Static Method', 'C1'], ['Decorator Function', 'C1'], ['Decorator Class', 'C1'], ['Metaclass (3.X) created with --> __new__', 'C2'], [\"Metaclass created in the class header --> 'metaclass = '\", 'C2'], ['Metaclass (2.X) created as attribute with --> __metaclass__', 'C2'], ['Super function', 'B2'], ['Attribute  statements __slots__', 'C2'], ['Simple Attribute', 'A2'], ['Special Class Attribute __class__', 'B2'], ['Special Class Attribute __dict__', 'C2'], [\"'try/except' exception\", 'B1'], [\"'try/else/except' exception\", 'B1'], [\"'try/try' exception\", 'B1'], [\"'try/finally' exception\", 'B2'], [\"'try/except/finally' exception\", 'B2'], [\"'try/except/else/finally' exception\", 'B1'], ['‘raise’ exception', 'B1'], [\"'assert' exception\", 'B1'], ['With', 'A2']]\n",
      "Simple List\n",
      "Simple Dictionary\n",
      "Print\n",
      "Simple Assignment\n",
      "Assigment with sum (total = total + 1) \n",
      "Simple If statements\n",
      "If statements expresion (else)\n",
      "'break' statement\n",
      "Simple While Loop\n",
      "Simple For Loop\n",
      "For Loop with List to iterate.\n",
      "Function with simple argument(s)\n",
      "Return\n",
      "Import\n",
      "List Dictionary\n",
      "Simple Tuple\n",
      "Nested Tuple\n",
      "Files -->  'open' call function\n",
      "Files -->  'write' call function\n",
      "Files -->  'writelines' call function\n",
      "Files -->  'read' call function\n",
      "Files -->  'readline' call function\n",
      "Simplified incremental Assignment (+=)\n",
      "'continue' statement\n",
      "While with Else Loop\n",
      " Nested For Loop\n",
      "For Loop with Tuple to iterate.\n",
      "'range' call function\n",
      "From\n",
      "Relative From\n",
      "Simple Attribute\n",
      "With\n",
      "Nested List\n",
      "Nested Dictionary\n",
      "Dictionary List\n",
      "Dictionary of dictionary lists\n",
      "'pass' statement\n",
      "For Loop with Tuple as name.\n",
      "'zip' call function\n",
      "'map' call function\n",
      "'enumerate' call function\n",
      "Function with Default argument\n",
      "Function with Keyword-Only argument\n",
      "Recursive Functions\n",
      "From with * statements\n",
      "'as' extension\n",
      "Simple Class\n",
      "Inherited Class\n",
      "Using the constructor method --> __init__\n",
      "Class Method\n",
      "'try/except' exception\n",
      "'try/else/except' exception\n",
      "'try/try' exception\n",
      "'try/except/else/finally' exception\n",
      "‘raise’ exception\n",
      "'assert' exception\n",
      "Simple List Comprehension\n",
      "List Comprehension with If statements\n",
      "Simple Dict Comprehension\n",
      "Dictionary Comprehension with If statements\n",
      "Dictionary Comprehension with if expression (If-Else)\n",
      "Nested Dict Comprehension\n",
      "If statements using → __name__ == ‘__main__’\n",
      "Function with * argument\n",
      "Function with ** argument\n",
      "Lambda\n",
      "Private Methods or Attributes of the class\n",
      "Super function\n",
      "Special Class Attribute __class__\n",
      "'try/finally' exception\n",
      "'try/except/finally' exception\n",
      "Nested List Comprehension\n",
      "Generator Functions (yield)\n",
      "Generator Expressions\n",
      "Using the dbm module\n",
      "Using the re module\n",
      "Using the importlib module\n",
      "Descriptors\n",
      "Class Properties\n",
      "Static Method\n",
      "Decorator Function\n",
      "Decorator Class\n",
      "Using the struct module\n",
      "Metaclass (3.X) created with --> __new__\n",
      "Metaclass created in the class header --> 'metaclass = '\n",
      "Metaclass (2.X) created as attribute with --> __metaclass__\n",
      "Attribute  statements __slots__\n",
      "Special Class Attribute __dict__\n",
      "Using the pickle module\n",
      "Using the shelve module\n"
     ]
    }
   ],
   "source": [
    "\"\"\" Create a dictionary with sorted levels. \"\"\"\n",
    "\n",
    "import operator\n",
    "\n",
    "dict_levels = {}\n",
    "\n",
    "for i in levels:\n",
    "    dict_levels[i[0]] = i[1]\n",
    "    \n",
    "print(levels)\n",
    "\n",
    "# Ordenate\n",
    "dict_levels_ord = sorted(dict_levels.items(), key=operator.itemgetter(1), reverse=False)\n",
    "#print(dict_levels_ord[:-1])\n",
    "\n",
    "# Save in mean_elem\n",
    "mean_elem = ''\n",
    "for key, value in dict_levels_ord[:-1]:\n",
    "    print(key)\n",
    "    mean_elem += (key + ': ' + str(value) + '\\n\\n')\n",
    "\n",
    "\n",
    "# Save in file.txt\n",
    "file = open('compa_levels_filter2_long.txt', 'w')\n",
    "file.write(mean_elem)\n",
    "file.close()\n",
    "\n"
   ]
  },
  {
   "cell_type": "code",
   "execution_count": 100,
   "metadata": {},
   "outputs": [],
   "source": [
    "\"\"\" Comparative the levels of elements. \"\"\"\n",
    "\n",
    "import statistics as stats\n",
    "\n",
    "\n",
    "# Types elements class\n",
    "annex_file = 'Template/annex-template.csv'\n",
    "\n",
    "# Read csv file and get name of elements\n",
    "reader_annex = pd.read_csv(annex_file)\n",
    "types_classes = reader_annex.iloc[:, 1].to_list()\n",
    "\n",
    "# Check the different levels assigned\n",
    "comparative_elems = ''\n",
    "for i in range(0, len(set_arrays)):\n",
    "    #print(set_arrays[i])\n",
    "    dict_elem = {}\n",
    "    for key in set_arrays[i]:\n",
    "        if key not in dict_elem:\n",
    "            dict_elem[key] = 1\n",
    "        else:\n",
    "            dict_elem[key] += 1\n",
    "                   \n",
    "    # Order the keys\n",
    "    dict_elem_ord = sorted(dict_elem.items())\n",
    "    #print(dict_elem_ord)\n",
    "\n",
    "    # Save in comparative_elems\n",
    "    comparative_elems += (types_classes[i])\n",
    "    for key, value in dict_elem_ord:\n",
    "        comparative_elems += ('\\n    ' + key + ': ' + str(value))\n",
    "    comparative_elems += ('\\n\\n')\n",
    "#print(comparative_elems)\n",
    "\n",
    "# Save in file.txt\n",
    "file = open('comparative_elems_filter2_long.txt', 'w')\n",
    "file.write(comparative_elems)\n",
    "file.close()"
   ]
  },
  {
   "cell_type": "code",
   "execution_count": 101,
   "metadata": {},
   "outputs": [],
   "source": [
    "\"\"\" Create a matrix. \"\"\"\n",
    "\n",
    "# cols (N users)\n",
    "#print(cols)\n",
    "\n",
    "# rows (90 elements)\n",
    "#print(matrix_aux)\n",
    "\n",
    "# Create a main matrix\n",
    "m = np.array(matrix_aux)\n",
    "#print(m)\n",
    "\n",
    "# Create array\n",
    "arr = []\n",
    "\n",
    "# Create the array for each user\n",
    "for i in range(0, cols):\n",
    "    arr.append(m[:, i])\n",
    "    "
   ]
  },
  {
   "cell_type": "code",
   "execution_count": 102,
   "metadata": {},
   "outputs": [
    {
     "name": "stdout",
     "output_type": "stream",
     "text": [
      "Fleiss's Kappa: 0.14909465963786386\n"
     ]
    }
   ],
   "source": [
    "\"\"\" Calculating Kappa Fleiss coeficient(I). \"\"\"\n",
    "\n",
    "from nltk import agreement\n",
    "\n",
    "\"\"\"\n",
    "# Assign user level to \"Don't know\" and \"nan\".\n",
    "for elem in range(0, len(arr)):\n",
    "    for level in range(0, len(arr[elem])):\n",
    "        if arr[elem][level] == \"Don't know\" or arr[elem][level] == \"nan\":\n",
    "            #arr[elem][level] = arr_levels[elem].split(' ')[0]\n",
    "            print(arr[elem][level])\n",
    "            print('jeje')\n",
    "            print(arr[elem-1][level])\n",
    "            arr[elem][level] = arr[elem-1][level]\n",
    "\n",
    "print(arr)\n",
    "\"\"\"\n",
    " \n",
    "# Calculate to all user\n",
    "formatted_codes = []\n",
    "for i in range(m.shape[1]):\n",
    "    for j in range(len(arr[i])):\n",
    "        formatted_codes.append([i+1,j,arr[i][j]])\n",
    "    \n",
    "ratingtask = agreement.AnnotationTask(data=formatted_codes)\n",
    "\n",
    "print('Fleiss\\'s Kappa:',ratingtask.multi_kappa())"
   ]
  },
  {
   "cell_type": "code",
   "execution_count": 103,
   "metadata": {},
   "outputs": [
    {
     "name": "stdout",
     "output_type": "stream",
     "text": [
      "Fleiss's Kappa: 0.2714443061438307\n"
     ]
    }
   ],
   "source": [
    "\"\"\" Calculating Kappa Fleiss coeficient(II). \"\"\"\n",
    "\n",
    "# Calculate with 3 levels (A, B, C)\n",
    "for elem in range(0, len(arr)):\n",
    "    for level in range(0, len(arr[elem])): \n",
    "        if arr[elem][level] == \"A1\" or arr[elem][level] == \"A2\":\n",
    "            arr[elem][level] = \"A\"\n",
    "        elif arr[elem][level] == \"B1\" or arr[elem][level] == \"B2\":\n",
    "            arr[elem][level] = \"B\"\n",
    "        elif arr[elem][level] == \"C1\" or arr[elem][level] == \"C2\":\n",
    "            arr[elem][level] = \"C\"\n",
    "#print(arr)\n",
    "           \n",
    "formatted_codes = []\n",
    "for i in range(m.shape[1]):\n",
    "    for j in range(len(arr[i])):\n",
    "        formatted_codes.append([i+1,j,arr[i][j]])\n",
    "\n",
    "\n",
    "ratingtask = agreement.AnnotationTask(data=formatted_codes)\n",
    "\n",
    "print('Fleiss\\'s Kappa:',ratingtask.multi_kappa())"
   ]
  },
  {
   "cell_type": "code",
   "execution_count": 104,
   "metadata": {},
   "outputs": [],
   "source": [
    "\"\"\" Calculate desv. \"\"\"\n",
    "\n",
    "import copy\n",
    "import statistics\n",
    "\n",
    "\n",
    "matrix_aux2 = list(matrix_aux)\n",
    "\n",
    "# Asign valur to level\n",
    "for i in range(len(matrix_aux2)):\n",
    "    for j in range(len(matrix_aux2[i])):\n",
    "        if matrix_aux2[i][j] == 'A1':\n",
    "            matrix_aux2[i][j] = 1\n",
    "        elif matrix_aux2[i][j] == 'A2':\n",
    "            matrix_aux2[i][j] = 2\n",
    "        elif matrix_aux2[i][j] == 'B1':\n",
    "            matrix_aux2[i][j] = 3\n",
    "        elif matrix_aux2[i][j] == 'B2':\n",
    "            matrix_aux2[i][j] = 4\n",
    "        elif matrix_aux2[i][j] == 'C1':\n",
    "            matrix_aux2[i][j] = 5\n",
    "        elif matrix_aux2[i][j] == 'C2':\n",
    "            matrix_aux2[i][j] = 6\n",
    "        else:\n",
    "            matrix_aux2[i][j] = 0\n",
    "            \n",
    "\n",
    "compa_desv = ''\n",
    "dict_desv = {}\n",
    "list_desv = []\n",
    "for i in range(len(matrix_aux2)):\n",
    "    compa_desv += types_classes[i]\n",
    "    desv = statistics.stdev(matrix_aux2[i])\n",
    "    list_desv.append(desv)\n",
    "    dict_desv[types_classes[i]] = desv\n",
    "    compa_desv += ('\\n' + str(desv) + '\\n\\n')\n",
    "    "
   ]
  },
  {
   "cell_type": "code",
   "execution_count": 105,
   "metadata": {},
   "outputs": [],
   "source": [
    "\"\"\" Ordenate dict. \"\"\"\n",
    "import operator\n",
    "\n",
    "dict_desv_ord = sorted(dict_desv.items(), key=operator.itemgetter(1), reverse=False)\n",
    "\n",
    "compa_desv = ''\n",
    "for key, value in (dict_desv_ord):\n",
    "    compa_desv += (key + ': ' + str(value) + '\\n\\n')\n",
    "\n",
    "# Save in file.txt\n",
    "file = open('compa_ord_desv_long_filter2.txt', 'w')\n",
    "file.write(compa_desv)\n",
    "file.close()"
   ]
  },
  {
   "cell_type": "code",
   "execution_count": 106,
   "metadata": {},
   "outputs": [
    {
     "name": "stdout",
     "output_type": "stream",
     "text": [
      "['Simple List', 'A1']\n",
      "['Nested List', 'B1']\n",
      "['List Dictionary', 'A2']\n",
      "['Simple List Comprehension', 'B2']\n",
      "['Nested List Comprehension', 'C1']\n",
      "['List Comprehension with If statements', 'B2']\n",
      "['Simple Dictionary', 'A1']\n",
      "['Nested Dictionary', 'B1']\n",
      "['Dictionary List', 'B1']\n",
      "['Dictionary of dictionary lists', 'B1']\n",
      "['Simple Dict Comprehension', 'B2']\n",
      "['Dictionary Comprehension with If statements', 'B2']\n",
      "['Dictionary Comprehension with if expression (If-Else)', 'B2']\n",
      "['Nested Dict Comprehension', 'B2']\n",
      "['Simple Tuple', 'A2']\n",
      "['Nested Tuple', 'A2']\n",
      "[\"Files -->  'open' call function\", 'A2']\n",
      "[\"Files -->  'write' call function\", 'A2']\n",
      "[\"Files -->  'writelines' call function\", 'A2']\n",
      "[\"Files -->  'read' call function\", 'A2']\n",
      "[\"Files -->  'readline' call function\", 'A2']\n",
      "['Print', 'A1']\n",
      "['Simple Assignment', 'A1']\n",
      "['Assigment with sum (total = total + 1) ', 'A1']\n",
      "['Simplified incremental Assignment (+=)', 'A2']\n",
      "['Simple If statements', 'A1']\n",
      "['If statements expresion (else)', 'A1']\n",
      "['If statements using → __name__ == ‘__main__’', 'B2']\n",
      "[\"'break' statement\", 'A1']\n",
      "[\"'continue' statement\", 'A2']\n",
      "[\"'pass' statement\", 'B1']\n",
      "['Simple While Loop', 'A1']\n",
      "['While with Else Loop', 'A2']\n",
      "['Simple For Loop', 'A1']\n",
      "[' Nested For Loop', 'A2']\n",
      "['For Loop with Tuple as name.', 'B1']\n",
      "['For Loop with List to iterate.', 'A1']\n",
      "['For Loop with Tuple to iterate.', 'A2']\n",
      "[\"'range' call function\", 'A2']\n",
      "[\"'zip' call function\", 'B1']\n",
      "[\"'map' call function\", 'B1']\n",
      "[\"'enumerate' call function\", 'B1']\n",
      "['Function with simple argument(s)', 'A1']\n",
      "['Function with Default argument', 'B1']\n",
      "['Function with * argument', 'B2']\n",
      "['Function with ** argument', 'B2']\n",
      "['Function with Keyword-Only argument', 'B1']\n",
      "['Recursive Functions', 'B1']\n",
      "['Return', 'A1']\n",
      "['Lambda', 'B2']\n",
      "['Generator Functions (yield)', 'C1']\n",
      "['Generator Expressions', 'C1']\n",
      "['Import', 'A1']\n",
      "['From', 'A2']\n",
      "['Relative From', 'A2']\n",
      "['From with * statements', 'B1']\n",
      "[\"'as' extension\", 'B1']\n",
      "['Using the struct module', 'C2']\n",
      "['Using the pickle module', \"Don't know\"]\n",
      "['Using the shelve module', \"Don't know\"]\n",
      "['Using the dbm module', 'C1']\n",
      "['Using the re module', 'C1']\n",
      "['Using the importlib module', 'C1']\n",
      "['Simple Class', 'B1']\n",
      "['Inherited Class', 'B1']\n",
      "['Using the constructor method --> __init__', 'B1']\n",
      "['Descriptors', 'C1']\n",
      "['Class Properties', 'C1']\n",
      "['Private Methods or Attributes of the class', 'B2']\n",
      "['Class Method', 'B1']\n",
      "['Static Method', 'C1']\n",
      "['Decorator Function', 'C1']\n",
      "['Decorator Class', 'C1']\n",
      "['Metaclass (3.X) created with --> __new__', 'C2']\n",
      "[\"Metaclass created in the class header --> 'metaclass = '\", 'C2']\n",
      "['Metaclass (2.X) created as attribute with --> __metaclass__', 'C2']\n",
      "['Super function', 'B2']\n",
      "['Attribute  statements __slots__', 'C2']\n",
      "['Simple Attribute', 'A2']\n",
      "['Special Class Attribute __class__', 'B2']\n",
      "['Special Class Attribute __dict__', 'C2']\n",
      "[\"'try/except' exception\", 'B1']\n",
      "[\"'try/else/except' exception\", 'B1']\n",
      "[\"'try/try' exception\", 'B1']\n",
      "[\"'try/finally' exception\", 'B2']\n",
      "[\"'try/except/finally' exception\", 'B2']\n",
      "[\"'try/except/else/finally' exception\", 'B1']\n",
      "['‘raise’ exception', 'B1']\n",
      "[\"'assert' exception\", 'B1']\n",
      "['With', 'A2']\n"
     ]
    }
   ],
   "source": [
    "\"\"\" Create csv with class, level and standard deviation. \"\"\"\n",
    "\n",
    "# Variable with header\n",
    "arr_summary = [['Class element', 'Level', 'Standard Deviation']]\n",
    "\n",
    "levels2 = list(levels[1:])\n",
    "\n",
    "total = ''\n",
    "for i in range(len(levels2)):\n",
    "    total = ''\n",
    "    total = levels2[i]\n",
    "    print(total)\n",
    "    total.append(list_desv[i])\n",
    "    #print(total)\n",
    "    arr_summary.append(total)\n",
    "    \n",
    "#print(arr_summary)\n",
    "# convert array into dataframe\n",
    "levels_data = pd.DataFrame(arr_summary)\n",
    "  \n",
    "# save the dataframe as a csv file\n",
    "levels_data.to_csv(\"configuration_vanilla.csv\")\n",
    "    "
   ]
  },
  {
   "cell_type": "code",
   "execution_count": 125,
   "metadata": {},
   "outputs": [
    {
     "name": "stdout",
     "output_type": "stream",
     "text": [
      "\n",
      "Vanilla levels: ['A1', 'B1', 'A2', 'B2', 'C1', 'B2', 'A1', 'B1', 'B1', 'B1', 'B2', 'B2', 'B2', 'B2', 'A2', 'A2', 'A2', 'A2', 'A2', 'A2', 'A2', 'A1', 'A1', 'A1', 'A2', 'A1', 'A1', 'B2', 'A1', 'A2', 'B1', 'A1', 'A2', 'A1', 'A2', 'B1', 'A1', 'A2', 'A2', 'B1', 'B1', 'B1', 'A1', 'B1', 'B2', 'B2', 'B1', 'B1', 'A1', 'B2', 'C1', 'C1', 'A1', 'A2', 'A2', 'B1', 'B1', 'C2', \"Don't know\", \"Don't know\", 'C1', 'C1', 'C1', 'B1', 'B1', 'B1', 'C1', 'C1', 'B2', 'B1', 'C1', 'C1', 'C1', 'C2', 'C2', 'C2', 'B2', 'C2', 'A2', 'B2', 'C2', 'B1', 'B1', 'B1', 'B2', 'B2', 'B1', 'B1', 'B1', 'A2']\n",
      "\n",
      "    Indexes with 'Dont know': [58 59]\n",
      "\n",
      "New Vanilla levels: ['A1', 'B1', 'A2', 'B2', 'C1', 'B2', 'A1', 'B1', 'B1', 'B1', 'B2', 'B2', 'B2', 'B2', 'A2', 'A2', 'A2', 'A2', 'A2', 'A2', 'A2', 'A1', 'A1', 'A1', 'A2', 'A1', 'A1', 'B2', 'A1', 'A2', 'B1', 'A1', 'A2', 'A1', 'A2', 'B1', 'A1', 'A2', 'A2', 'B1', 'B1', 'B1', 'A1', 'B1', 'B2', 'B2', 'B1', 'B1', 'A1', 'B2', 'C1', 'C1', 'A1', 'A2', 'A2', 'B1', 'B1', 'C2', 'C1', 'C1', 'C1', 'B1', 'B1', 'B1', 'C1', 'C1', 'B2', 'B1', 'C1', 'C1', 'C1', 'C2', 'C2', 'C2', 'B2', 'C2', 'A2', 'B2', 'C2', 'B1', 'B1', 'B1', 'B2', 'B2', 'B1', 'B1', 'B1', 'A2']\n",
      "\n",
      "Assignment Vanilla levels: [1, 2, 1, 2, 3, 2, 1, 2, 2, 2, 2, 2, 2, 2, 1, 1, 1, 1, 1, 1, 1, 1, 1, 1, 1, 1, 1, 2, 1, 1, 2, 1, 1, 1, 1, 2, 1, 1, 1, 2, 2, 2, 1, 2, 2, 2, 2, 2, 1, 2, 3, 3, 1, 1, 1, 2, 2, 3, 3, 3, 3, 2, 2, 2, 3, 3, 2, 2, 3, 3, 3, 3, 3, 3, 2, 3, 1, 2, 3, 2, 2, 2, 2, 2, 2, 2, 2, 1]\n",
      "\n",
      " Levels of user 1 : ['A1', 'A2', 'B1', 'C1', 'C2', 'C1', 'A2', 'B1', 'B1', 'B2', 'C1', 'C2', 'C2', 'C2', 'A1', 'A2', 'A2', 'A2', 'A2', 'A2', 'A2', 'A1', 'A1', 'A1', 'A2', 'A1', 'B1', 'B2', 'B1', 'B1', 'B1', 'A1', 'A2', 'A1', 'A2', 'A2', 'A2', 'A2', 'A2', 'C2', 'C2', 'C2', 'A1', 'A2', 'B1', 'B1', 'B1', 'B2', 'A1', 'B1', 'C1', 'C1', 'A2', 'A2', 'B1', 'B1', 'B1', 'C1', 'C1', 'C1', 'C1', 'B1', 'B1', 'B1', 'C1', 'C1', 'C2', 'C1', 'C1', 'C2', 'C2', 'C2', 'C2', 'C2', 'C2', 'C1', 'A2', 'B2', 'B2', 'B1', 'B1', 'B1', 'B2', 'B2', 'B2', 'B1', 'B1', 'B1']\n",
      "\n",
      "Assignment Levels of user 1 : [1, 1, 2, 3, 3, 3, 1, 2, 2, 2, 3, 3, 3, 3, 1, 1, 1, 1, 1, 1, 1, 1, 1, 1, 1, 1, 2, 2, 2, 2, 2, 1, 1, 1, 1, 1, 1, 1, 1, 3, 3, 3, 1, 1, 2, 2, 2, 2, 1, 2, 3, 3, 1, 1, 2, 2, 2, 3, 3, 3, 3, 2, 2, 2, 3, 3, 3, 3, 3, 3, 3, 3, 3, 3, 3, 3, 1, 2, 2, 2, 2, 2, 2, 2, 2, 2, 2, 2]\n",
      "\n",
      "    Indexes with '0': []\n",
      "\n",
      "New Assignment Levels of user 1 : [1, 2, 1, 2, 3, 2, 1, 2, 2, 2, 2, 2, 2, 2, 1, 1, 1, 1, 1, 1, 1, 1, 1, 1, 1, 1, 1, 2, 1, 1, 2, 1, 1, 1, 1, 2, 1, 1, 1, 2, 2, 2, 1, 2, 2, 2, 2, 2, 1, 2, 3, 3, 1, 1, 1, 2, 2, 3, 3, 3, 3, 2, 2, 2, 3, 3, 2, 2, 3, 3, 3, 3, 3, 3, 2, 3, 1, 2, 3, 2, 2, 2, 2, 2, 2, 2, 2, 1]\n",
      "\n",
      "New Assignment Levels of vanilla: [1, 1, 2, 3, 3, 3, 1, 2, 2, 2, 3, 3, 3, 3, 1, 1, 1, 1, 1, 1, 1, 1, 1, 1, 1, 1, 2, 2, 2, 2, 2, 1, 1, 1, 1, 1, 1, 1, 1, 3, 3, 3, 1, 1, 2, 2, 2, 2, 1, 2, 3, 3, 1, 1, 2, 2, 2, 3, 3, 3, 3, 2, 2, 2, 3, 3, 3, 3, 3, 3, 3, 3, 3, 3, 3, 3, 1, 2, 2, 2, 2, 2, 2, 2, 2, 2, 2, 2]\n",
      "88\n",
      "88\n",
      "\n",
      "Kappa coefficient of user 1:  0.6226856363282012\n",
      "\n",
      " Levels of user 2 : ['A1', 'A2', 'A2', 'B2', 'C1', 'B2', 'A1', 'A2', 'A1', 'B1', 'B2', 'B2', 'B2', 'C1', 'A1', 'A2', 'A1', 'A1', 'A1', 'A1', 'A1', 'A1', 'A1', 'A1', 'A2', 'A1', 'A1', 'A2', 'A2', 'A2', 'B1', 'A1', 'B1', 'A1', 'A2', 'A1', 'A1', 'A1', 'A2', 'B2', 'B2', 'B1', 'A2', 'B1', 'B2', 'B2', 'B1', 'B1', 'A2', 'C1', 'C1', 'C1', 'A2', 'A2', 'A2', 'B2', 'A2', 'B2', 'B2', 'B2', 'B2', 'B1', 'B1', 'B1', 'B2', 'B2', 'B2', 'C1', 'C1', 'C1', 'C2', 'C2', 'C2', 'C2', 'B2', 'C1', 'B1', 'B2', 'B2', 'A2', 'B1', 'A2', 'B1', 'B1', 'B1', 'B1', 'B1', 'A2']\n",
      "\n",
      "Assignment Levels of user 2 : [1, 1, 1, 2, 3, 2, 1, 1, 1, 2, 2, 2, 2, 3, 1, 1, 1, 1, 1, 1, 1, 1, 1, 1, 1, 1, 1, 1, 1, 1, 2, 1, 2, 1, 1, 1, 1, 1, 1, 2, 2, 2, 1, 2, 2, 2, 2, 2, 1, 3, 3, 3, 1, 1, 1, 2, 1, 2, 2, 2, 2, 2, 2, 2, 2, 2, 2, 3, 3, 3, 3, 3, 3, 3, 2, 3, 2, 2, 2, 1, 2, 1, 2, 2, 2, 2, 2, 1]\n",
      "\n",
      "    Indexes with '0': []\n",
      "\n",
      "New Assignment Levels of user 2 : [1, 2, 1, 2, 3, 2, 1, 2, 2, 2, 2, 2, 2, 2, 1, 1, 1, 1, 1, 1, 1, 1, 1, 1, 1, 1, 1, 2, 1, 1, 2, 1, 1, 1, 1, 2, 1, 1, 1, 2, 2, 2, 1, 2, 2, 2, 2, 2, 1, 2, 3, 3, 1, 1, 1, 2, 2, 3, 3, 3, 3, 2, 2, 2, 3, 3, 2, 2, 3, 3, 3, 3, 3, 3, 2, 3, 1, 2, 3, 2, 2, 2, 2, 2, 2, 2, 2, 1]\n",
      "\n",
      "New Assignment Levels of vanilla: [1, 1, 1, 2, 3, 2, 1, 1, 1, 2, 2, 2, 2, 3, 1, 1, 1, 1, 1, 1, 1, 1, 1, 1, 1, 1, 1, 1, 1, 1, 2, 1, 2, 1, 1, 1, 1, 1, 1, 2, 2, 2, 1, 2, 2, 2, 2, 2, 1, 3, 3, 3, 1, 1, 1, 2, 1, 2, 2, 2, 2, 2, 2, 2, 2, 2, 2, 3, 3, 3, 3, 3, 3, 3, 2, 3, 2, 2, 2, 1, 2, 1, 2, 2, 2, 2, 2, 1]\n",
      "88\n",
      "88\n",
      "\n",
      "Kappa coefficient of user 2:  0.638157894736842\n",
      "\n",
      " Levels of user 3 : ['A2', 'A2', 'A2', 'B1', 'B1', 'B2', 'A2', 'B1', 'B1', 'B1', 'B1', 'B2', 'B2', 'B1', 'A2', 'B1', 'A2', 'A2', 'A2', 'A2', 'A2', 'A1', 'A1', 'A1', 'A1', 'A1', 'A1', 'B1', 'A2', 'A2', 'A2', 'A1', 'A2', 'A1', 'A2', 'B1', 'B1', 'B1', 'A2', 'B1', \"Don't know\", 'A2', 'A2', 'B1', 'A2', 'B2', 'B1', 'B1', 'A2', 'B2', 'B1', 'B1', 'A2', 'A2', 'A2', 'A2', 'A2', 'C2', \"Don't know\", 'C2', \"Don't know\", 'A2', 'B1', 'B1', 'C1', 'B1', 'B1', 'B1', 'A2', 'B2', 'C1', 'C1', 'C1', 'C1', 'B1', 'B1', 'A2', 'B1', 'C2', 'B1', 'B1', 'B1', 'B1', 'A2', 'A2', 'B1', 'B1', 'C1']\n",
      "\n",
      "Assignment Levels of user 3 : [1, 1, 1, 2, 2, 2, 1, 2, 2, 2, 2, 2, 2, 2, 1, 2, 1, 1, 1, 1, 1, 1, 1, 1, 1, 1, 1, 2, 1, 1, 1, 1, 1, 1, 1, 2, 2, 2, 1, 2, 0, 1, 1, 2, 1, 2, 2, 2, 1, 2, 2, 2, 1, 1, 1, 1, 1, 3, 0, 3, 0, 1, 2, 2, 3, 2, 2, 2, 1, 2, 3, 3, 3, 3, 2, 2, 1, 2, 3, 2, 2, 2, 2, 1, 1, 2, 2, 3]\n",
      "\n",
      "    Indexes with '0': [40 58 60]\n",
      "\n",
      "New Assignment Levels of user 3 : [1, 2, 1, 2, 3, 2, 1, 2, 2, 2, 2, 2, 2, 2, 1, 1, 1, 1, 1, 1, 1, 1, 1, 1, 1, 1, 1, 2, 1, 1, 2, 1, 1, 1, 1, 2, 1, 1, 1, 2, 2, 1, 2, 2, 2, 2, 2, 1, 2, 3, 3, 1, 1, 1, 2, 2, 3, 3, 2, 2, 2, 3, 3, 2, 2, 3, 3, 3, 3, 3, 3, 2, 3, 1, 2, 3, 2, 2, 2, 2, 2, 2, 2, 2, 1]\n",
      "\n",
      "New Assignment Levels of vanilla: [1, 1, 1, 2, 2, 2, 1, 2, 2, 2, 2, 2, 2, 2, 1, 2, 1, 1, 1, 1, 1, 1, 1, 1, 1, 1, 1, 2, 1, 1, 1, 1, 1, 1, 1, 2, 2, 2, 1, 2, 1, 1, 2, 1, 2, 2, 2, 1, 2, 2, 2, 1, 1, 1, 1, 1, 3, 3, 1, 2, 2, 3, 2, 2, 2, 1, 2, 3, 3, 3, 3, 2, 2, 1, 2, 3, 2, 2, 2, 2, 1, 1, 2, 2, 3]\n",
      "85\n",
      "85\n",
      "\n",
      "Kappa coefficient of user 3:  0.6162528216704288\n",
      "\n",
      " Levels of user 4 : ['A1', 'B1', 'B1', 'A2', 'B2', 'B1', 'A1', 'B1', 'B2', 'B1', 'A2', 'B1', 'B1', 'B2', 'A2', 'B1', 'B1', 'A2', 'B1', 'A2', 'B1', 'A1', 'A1', 'A1', 'A2', 'A1', 'A2', 'B2', 'A1', 'A1', 'A1', 'A2', 'A2', 'A2', 'B1', 'B2', 'B1', 'B2', 'A2', 'B1', 'B1', 'B1', 'A2', 'B1', 'C1', 'C1', 'B1', 'B1', 'A1', 'C1', 'C2', 'C1', 'A1', 'A2', 'B1', 'B1', 'A2', 'C1', 'C1', 'C1', 'C1', 'A2', 'B2', 'A2', 'B2', 'C1', 'B2', 'B1', 'C1', 'B1', 'B2', 'C2', 'C2', 'C2', 'B2', 'C2', 'A2', 'B2', 'C2', 'B1', 'B2', 'B1', 'B1', 'B2', 'B2', 'B1', 'C1', 'A2']\n",
      "\n",
      "Assignment Levels of user 4 : [1, 2, 2, 1, 2, 2, 1, 2, 2, 2, 1, 2, 2, 2, 1, 2, 2, 1, 2, 1, 2, 1, 1, 1, 1, 1, 1, 2, 1, 1, 1, 1, 1, 1, 2, 2, 2, 2, 1, 2, 2, 2, 1, 2, 3, 3, 2, 2, 1, 3, 3, 3, 1, 1, 2, 2, 1, 3, 3, 3, 3, 1, 2, 1, 2, 3, 2, 2, 3, 2, 2, 3, 3, 3, 2, 3, 1, 2, 3, 2, 2, 2, 2, 2, 2, 2, 3, 1]\n",
      "\n",
      "    Indexes with '0': []\n",
      "\n",
      "New Assignment Levels of user 4 : [1, 2, 1, 2, 3, 2, 1, 2, 2, 2, 2, 2, 2, 2, 1, 1, 1, 1, 1, 1, 1, 1, 1, 1, 1, 1, 1, 2, 1, 1, 2, 1, 1, 1, 1, 2, 1, 1, 1, 2, 2, 2, 1, 2, 2, 2, 2, 2, 1, 2, 3, 3, 1, 1, 1, 2, 2, 3, 3, 3, 3, 2, 2, 2, 3, 3, 2, 2, 3, 3, 3, 3, 3, 3, 2, 3, 1, 2, 3, 2, 2, 2, 2, 2, 2, 2, 2, 1]\n",
      "\n",
      "New Assignment Levels of vanilla: [1, 2, 2, 1, 2, 2, 1, 2, 2, 2, 1, 2, 2, 2, 1, 2, 2, 1, 2, 1, 2, 1, 1, 1, 1, 1, 1, 2, 1, 1, 1, 1, 1, 1, 2, 2, 2, 2, 1, 2, 2, 2, 1, 2, 3, 3, 2, 2, 1, 3, 3, 3, 1, 1, 2, 2, 1, 3, 3, 3, 3, 1, 2, 1, 2, 3, 2, 2, 3, 2, 2, 3, 3, 3, 2, 3, 1, 2, 3, 2, 2, 2, 2, 2, 2, 2, 3, 1]\n",
      "88\n",
      "88\n",
      "\n",
      "Kappa coefficient of user 4:  0.586009408877071\n",
      "\n",
      " Levels of user 5 : ['A1', 'B1', 'A2', 'A1', 'A2', 'A2', 'A1', 'A2', 'B1', 'A2', 'A1', 'A2', 'A2', 'A2', 'A2', 'A2', 'A2', 'A2', 'A2', 'A2', 'A2', 'A1', 'A1', 'A1', 'A2', 'A1', 'A1', 'A1', 'A1', 'A1', 'A1', 'A1', 'A1', 'A1', 'A2', 'A2', 'A1', 'A2', 'A1', 'A1', 'B1', 'A1', 'A1', 'A2', 'A1', 'B1', 'A2', 'A2', 'A1', 'B1', 'A2', 'A2', 'A1', 'A1', 'A2', 'A1', 'A1', 'A2', 'A2', 'A2', 'A2', 'A1', 'A2', 'A1', 'B1', 'A1', 'A1', 'A2', 'A2', 'B1', 'B1', 'A2', 'B1', 'A2', 'A2', 'A2', 'A1', 'A2', 'A2', 'A2', 'A2', 'A2', 'A2', 'A2', 'B1', 'A1', 'A2', 'A1']\n",
      "\n",
      "Assignment Levels of user 5 : [1, 2, 1, 1, 1, 1, 1, 1, 2, 1, 1, 1, 1, 1, 1, 1, 1, 1, 1, 1, 1, 1, 1, 1, 1, 1, 1, 1, 1, 1, 1, 1, 1, 1, 1, 1, 1, 1, 1, 1, 2, 1, 1, 1, 1, 2, 1, 1, 1, 2, 1, 1, 1, 1, 1, 1, 1, 1, 1, 1, 1, 1, 1, 1, 2, 1, 1, 1, 1, 2, 2, 1, 2, 1, 1, 1, 1, 1, 1, 1, 1, 1, 1, 1, 2, 1, 1, 1]\n",
      "\n",
      "    Indexes with '0': []\n",
      "\n",
      "New Assignment Levels of user 5 : [1, 2, 1, 2, 3, 2, 1, 2, 2, 2, 2, 2, 2, 2, 1, 1, 1, 1, 1, 1, 1, 1, 1, 1, 1, 1, 1, 2, 1, 1, 2, 1, 1, 1, 1, 2, 1, 1, 1, 2, 2, 2, 1, 2, 2, 2, 2, 2, 1, 2, 3, 3, 1, 1, 1, 2, 2, 3, 3, 3, 3, 2, 2, 2, 3, 3, 2, 2, 3, 3, 3, 3, 3, 3, 2, 3, 1, 2, 3, 2, 2, 2, 2, 2, 2, 2, 2, 1]\n",
      "\n",
      "New Assignment Levels of vanilla: [1, 2, 1, 1, 1, 1, 1, 1, 2, 1, 1, 1, 1, 1, 1, 1, 1, 1, 1, 1, 1, 1, 1, 1, 1, 1, 1, 1, 1, 1, 1, 1, 1, 1, 1, 1, 1, 1, 1, 1, 2, 1, 1, 1, 1, 2, 1, 1, 1, 2, 1, 1, 1, 1, 1, 1, 1, 1, 1, 1, 1, 1, 1, 1, 2, 1, 1, 1, 1, 2, 2, 1, 2, 1, 1, 1, 1, 1, 1, 1, 1, 1, 1, 1, 2, 1, 1, 1]\n",
      "88\n",
      "88\n",
      "\n",
      "Kappa coefficient of user 5:  0.09427748044462736\n",
      "\n",
      " Levels of user 6 : ['A2', 'B1', 'B2', 'A2', 'C1', 'B2', 'A2', 'B1', 'A2', 'A2', 'B1', 'C1', 'C1', 'B1', 'A2', 'B1', 'B2', 'B1', 'B2', 'B1', 'B1', 'A2', 'A1', 'A2', 'B2', 'A1', 'A1', 'A2', 'B1', 'C1', 'B2', 'A1', 'B1', 'A1', 'A2', 'B1', 'A2', 'B2', 'C1', 'C2', 'C1', 'B2', 'A1', 'B1', 'C2', \"Don't know\", 'B2', 'A2', 'A2', 'B2', 'C1', 'C1', 'A1', 'B2', 'C2', 'B2', 'B1', 'C2', \"Don't know\", \"Don't know\", \"Don't know\", 'B1', 'B2', 'B2', 'B1', 'B1', 'B2', 'B2', 'C1', 'C1', 'C1', 'C2', \"Don't know\", \"Don't know\", 'C1', 'C2', 'B1', 'C2', 'C2', 'A2', 'B1', 'B1', 'B2', 'B2', 'C1', 'B2', 'C2', 'A2']\n",
      "\n",
      "Assignment Levels of user 6 : [1, 2, 2, 1, 3, 2, 1, 2, 1, 1, 2, 3, 3, 2, 1, 2, 2, 2, 2, 2, 2, 1, 1, 1, 2, 1, 1, 1, 2, 3, 2, 1, 2, 1, 1, 2, 1, 2, 3, 3, 3, 2, 1, 2, 3, 0, 2, 1, 1, 2, 3, 3, 1, 2, 3, 2, 2, 3, 0, 0, 0, 2, 2, 2, 2, 2, 2, 2, 3, 3, 3, 3, 0, 0, 3, 3, 2, 3, 3, 1, 2, 2, 2, 2, 3, 2, 3, 1]\n",
      "\n",
      "    Indexes with '0': [45 58 59 60 72 73]\n",
      "\n",
      "New Assignment Levels of user 6 : [1, 2, 1, 2, 3, 2, 1, 2, 2, 2, 2, 2, 2, 2, 1, 1, 1, 1, 1, 1, 1, 1, 1, 1, 1, 1, 1, 2, 1, 1, 2, 1, 1, 1, 1, 2, 1, 1, 1, 2, 2, 2, 1, 2, 2, 2, 2, 1, 2, 3, 3, 1, 1, 1, 2, 2, 3, 2, 2, 2, 3, 3, 2, 2, 3, 3, 3, 3, 2, 3, 1, 2, 3, 2, 2, 2, 2, 2, 2, 2, 2, 1]\n",
      "\n",
      "New Assignment Levels of vanilla: [1, 2, 2, 1, 3, 2, 1, 2, 1, 1, 2, 3, 3, 2, 1, 2, 2, 2, 2, 2, 2, 1, 1, 1, 2, 1, 1, 1, 2, 3, 2, 1, 2, 1, 1, 2, 1, 2, 3, 3, 3, 2, 1, 2, 3, 2, 1, 1, 2, 3, 3, 1, 2, 3, 2, 2, 3, 2, 2, 2, 2, 2, 2, 2, 3, 3, 3, 3, 3, 3, 2, 3, 3, 1, 2, 2, 2, 2, 3, 2, 3, 1]\n",
      "82\n",
      "82\n",
      "\n",
      "Kappa coefficient of user 6:  0.37244897959183676\n",
      "\n",
      " Levels of user 7 : ['A1', 'B1', 'A2', 'B2', 'C1', 'C1', 'A1', 'A2', 'B1', 'A2', 'B2', 'C1', 'C1', 'C1', 'A2', 'A2', 'A2', 'A2', 'A2', 'A1', 'A2', 'A1', 'A1', 'A1', 'A2', 'A1', 'A1', 'A1', 'A1', 'A2', 'B1', 'A1', 'C1', 'A1', 'A2', 'B1', 'A1', 'A2', 'B1', 'B1', 'B1', 'B2', 'A1', 'A2', 'B2', 'B2', 'B2', 'B1', 'A1', 'B2', 'C1', 'C1', 'A1', 'A2', 'A2', 'A1', 'B1', 'C2', 'C2', 'B2', 'C1', 'A1', 'B1', 'A2', 'C2', 'B2', 'B1', 'B2', 'B2', 'C1', 'C1', 'C2', 'C1', 'C1', 'B2', 'C2', 'A1', 'C1', 'C1', 'A1', 'B2', 'A2', 'B2', 'B1', 'B1', 'B1', 'B1', 'B2']\n",
      "\n",
      "Assignment Levels of user 7 : [1, 2, 1, 2, 3, 3, 1, 1, 2, 1, 2, 3, 3, 3, 1, 1, 1, 1, 1, 1, 1, 1, 1, 1, 1, 1, 1, 1, 1, 1, 2, 1, 3, 1, 1, 2, 1, 1, 2, 2, 2, 2, 1, 1, 2, 2, 2, 2, 1, 2, 3, 3, 1, 1, 1, 1, 2, 3, 3, 2, 3, 1, 2, 1, 3, 2, 2, 2, 2, 3, 3, 3, 3, 3, 2, 3, 1, 3, 3, 1, 2, 1, 2, 2, 2, 2, 2, 2]\n",
      "\n",
      "    Indexes with '0': []\n",
      "\n",
      "New Assignment Levels of user 7 : [1, 2, 1, 2, 3, 2, 1, 2, 2, 2, 2, 2, 2, 2, 1, 1, 1, 1, 1, 1, 1, 1, 1, 1, 1, 1, 1, 2, 1, 1, 2, 1, 1, 1, 1, 2, 1, 1, 1, 2, 2, 2, 1, 2, 2, 2, 2, 2, 1, 2, 3, 3, 1, 1, 1, 2, 2, 3, 3, 3, 3, 2, 2, 2, 3, 3, 2, 2, 3, 3, 3, 3, 3, 3, 2, 3, 1, 2, 3, 2, 2, 2, 2, 2, 2, 2, 2, 1]\n",
      "\n",
      "New Assignment Levels of vanilla: [1, 2, 1, 2, 3, 3, 1, 1, 2, 1, 2, 3, 3, 3, 1, 1, 1, 1, 1, 1, 1, 1, 1, 1, 1, 1, 1, 1, 1, 1, 2, 1, 3, 1, 1, 2, 1, 1, 2, 2, 2, 2, 1, 1, 2, 2, 2, 2, 1, 2, 3, 3, 1, 1, 1, 1, 2, 3, 3, 2, 3, 1, 2, 1, 3, 2, 2, 2, 2, 3, 3, 3, 3, 3, 2, 3, 1, 3, 3, 1, 2, 1, 2, 2, 2, 2, 2, 2]\n",
      "88\n",
      "88\n",
      "\n",
      "Kappa coefficient of user 7:  0.6492626544440017\n"
     ]
    }
   ],
   "source": [
    "\"\"\" Calculating Kappa Cohen coeficient. \"\"\"\n",
    "from sklearn.metrics import cohen_kappa_score\n",
    "\n",
    "# Create csv with all users\n",
    "users_data = pd.DataFrame(set_arrays)\n",
    "users_data.to_csv(\"filter/users_total.csv\")\n",
    "\n",
    "# Get name file\n",
    "annex_total = (\"filter/users_total.csv\")\n",
    "annex_vanilla = (\"configuration_vanilla.csv\")\n",
    "\n",
    "\n",
    "# Assign value \n",
    "def assign_value(annex):\n",
    "    list_number = []\n",
    "    for i in range(len(annex)):\n",
    "        if (annex[i] == 'A1'):\n",
    "            list_number.append(1)\n",
    "        elif (annex[i] == 'A2'):\n",
    "            list_number.append(1)\n",
    "        elif (annex[i] == 'B1'):\n",
    "            list_number.append(2)\n",
    "        elif (annex[i] == 'B2'):\n",
    "            list_number.append(2)\n",
    "        elif (annex[i] == 'C1'):\n",
    "            list_number.append(3)\n",
    "        elif (annex[i] == 'C2'):\n",
    "            list_number.append(3)\n",
    "        else:\n",
    "            list_number.append(0)\n",
    "    return list_number\n",
    "\n",
    "                \n",
    "# Read csv file vanilla\n",
    "vanilla_level = pd.read_csv(annex_vanilla)\n",
    "vanilla_level = vanilla_level.iloc[1:,2].to_list()\n",
    "print('\\nVanilla levels: ' + str(vanilla_level))\n",
    "\n",
    "# Search index with 'Don't know' value\n",
    "vanilla = np.array(vanilla_level)\n",
    "indexes = np.where(vanilla == \"Don't know\")\n",
    "print(\"\\n    Indexes with 'Dont know': \" + str(indexes[0]))\n",
    "\n",
    "# Create new vanilla levels without'Don't know' value\n",
    "vanilla_level= np.delete(vanilla_level, indexes[0]).tolist()\n",
    "print('\\nNew Vanilla levels: ' + str(vanilla_level))\n",
    "\n",
    "# Assign value\n",
    "vanilla_values = assign_value(vanilla_level)\n",
    "print('\\nAssignment Vanilla levels: ' + str(vanilla_values))\n",
    "\n",
    "\n",
    "# Read csv total\n",
    "total_level = pd.read_csv(annex_total)\n",
    "num_cols = total_level.shape[1]\n",
    "\n",
    "\n",
    "def kappa_cohen(annex1, annex2, name):\n",
    "    \"\"\" Calculating kappa Cohen coefficient. \"\"\"\n",
    "    \n",
    "    print(len(annex1))\n",
    "    print(len(annex2))\n",
    "    kappa = cohen_kappa_score(annex1, annex2)\n",
    "    data_kappa = 'Kappa coefficient of user ' + str(name) + ': ' + str(kappa) + '\\n\\n'\n",
    "    print('\\nKappa coefficient of user ' + str(name) + ': ', str(kappa))\n",
    "    \n",
    "    # Save in file.txt\n",
    "    file = open('kappa_filter.txt', 'a')\n",
    "    file.write(data_kappa)\n",
    "    file.close()\n",
    "\n",
    "\n",
    "def search_elem(annex1, annex2):\n",
    "    \"\"\" Search element with value 0. \"\"\"\n",
    "    \n",
    "    total = np.array(annex2)\n",
    "    index = np.where(total == 0)\n",
    "    print(\"\\n    Indexes with '0': \" + str(index[0]))\n",
    "    \n",
    "    # Remove items that have been deleted\n",
    "    annex2 = np.delete(annex2, index[0]).tolist()\n",
    "    annex1 = np.delete(annex1, index[0]).tolist()\n",
    "    \n",
    "    return annex1, annex2\n",
    "    \n",
    "    \n",
    "# Get levels of each user\n",
    "for i in range(num_cols-1):\n",
    "    \n",
    "    # Get a list with levels\n",
    "    user = total_level.iloc[:,i+1].to_list()\n",
    "    \n",
    "    # Remove items that have been deleted\n",
    "    user = np.delete(user, indexes[0]).tolist()\n",
    "    print('\\n Levels of user ' + str(i+1) + ' : ' + str(user))\n",
    "    \n",
    "    # Assignment values \n",
    "    user_values = assign_value(user)\n",
    "    print('\\nAssignment Levels of user ' + str(i+1) + ' : ' + str(user_values))\n",
    "    \n",
    "    vanilla_values2 = list(vanilla_values)\n",
    "    user_values, vanilla_values2 = search_elem(vanilla_values, user_values)\n",
    "    print('\\nNew Assignment Levels of user ' + str(i+1) + ' : ' + str(user_values))\n",
    "    print('\\nNew Assignment Levels of vanilla: ' + str(vanilla_values2))\n",
    "    \n",
    "    # Calculating kappa coeffient\n",
    "    kappa_cohen(vanilla_values2, user_values, i+1)\n",
    "\n"
   ]
  },
  {
   "cell_type": "code",
   "execution_count": null,
   "metadata": {},
   "outputs": [],
   "source": []
  }
 ],
 "metadata": {
  "kernelspec": {
   "display_name": "Python 3",
   "language": "python",
   "name": "python3"
  },
  "language_info": {
   "codemirror_mode": {
    "name": "ipython",
    "version": 3
   },
   "file_extension": ".py",
   "mimetype": "text/x-python",
   "name": "python",
   "nbconvert_exporter": "python",
   "pygments_lexer": "ipython3",
   "version": "3.8.5"
  }
 },
 "nbformat": 4,
 "nbformat_minor": 5
}
