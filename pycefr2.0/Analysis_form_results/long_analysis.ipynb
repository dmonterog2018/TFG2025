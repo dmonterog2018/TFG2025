{
 "cells": [
  {
   "cell_type": "code",
   "execution_count": 215,
   "metadata": {},
   "outputs": [],
   "source": [
    "import pandas as pd\n",
    "import numpy as np\n",
    "\n",
    "# Variable xlsx file\n",
    "xlsx_file = 'Long_Evaluation/Evaluation of Python Levels (respuestas).xlsx'\n",
    "\n",
    "# Variable csv file\n",
    "csv_file = 'Long_Evaluation/Evaluation_python_long.csv'\n",
    "\n",
    "# Get csv file\n",
    "read_file = pd.read_excel (xlsx_file)\n",
    "read_file.to_csv (csv_file, index = None, header=True)\n",
    "\n",
    "# Read csv file\n",
    "reader = pd.read_csv(csv_file)\n",
    "\n",
    "# Create array to levels\n",
    "levels = [['Class Element', 'Level']]"
   ]
  },
  {
   "cell_type": "code",
   "execution_count": 216,
   "metadata": {},
   "outputs": [
    {
     "name": "stdout",
     "output_type": "stream",
     "text": [
      "\n",
      "The predominant use of Python is: At work\n"
     ]
    }
   ],
   "source": [
    "from collections import Counter\n",
    "\n",
    "# Save the answer using Python\n",
    "res_using = reader.iloc[:, 107].to_list()\n",
    "# print(res_using)\n",
    "\n",
    "# Calculating the most common\n",
    "user_using_python = Counter(res_using).most_common()[0][0]\n",
    "print('\\nThe predominant use of Python is: ' + user_using_python)"
   ]
  },
  {
   "cell_type": "code",
   "execution_count": 217,
   "metadata": {},
   "outputs": [
    {
     "name": "stdout",
     "output_type": "stream",
     "text": [
      "User with A1 level: 0\n",
      "User with A2 level: 0\n",
      "User with B1 level: 3\n",
      "User with B2 level: 7\n",
      "User with C1 level: 7\n",
      "User with C2 level: 5\n",
      "\n",
      "The predominant level of users is: B2 - Vantage or upper intermediate\n"
     ]
    }
   ],
   "source": [
    "# Save the answer level Python\n",
    "res_level = reader.iloc[:, 1].to_list()\n",
    "#print(res_level)\n",
    "\n",
    "# Counting repetitions of each level\n",
    "level_A1, level_A2, level_B1, level_B2, level_C1, level_C2 = 0, 0, 0, 0, 0, 0\n",
    "for elem in res_level:\n",
    "    # print(elem)\n",
    "    if 'A1' in str(elem):\n",
    "        level_A1 += 1\n",
    "    elif 'A2' in str(elem):\n",
    "        level_A2 += 1\n",
    "    elif 'B1' in str(elem):\n",
    "        level_B1 += 1\n",
    "    elif 'B2' in str(elem):\n",
    "        level_B2 += 1\n",
    "    elif 'C1' in str(elem):\n",
    "        level_C1 += 1\n",
    "    else:\n",
    "        level_C2 += 1\n",
    "        \n",
    "# Show the level and its quantity\n",
    "print('User with A1 level: ' + str(level_A1))\n",
    "print('User with A2 level: ' + str(level_A2))\n",
    "print('User with B1 level: ' + str(level_B1))\n",
    "print('User with B2 level: ' + str(level_B2))\n",
    "print('User with C1 level: ' + str(level_C1))\n",
    "print('User with C2 level: ' + str(level_C2))\n",
    "\n",
    "# Calculating the most common\n",
    "user_level = Counter(res_level).most_common()[0][0]\n",
    "print('\\nThe predominant level of users is: ' + user_level)"
   ]
  },
  {
   "cell_type": "code",
   "execution_count": 218,
   "metadata": {},
   "outputs": [],
   "source": [
    "# Save the answer level languages\n",
    "res_languages = reader.iloc[:,2:11]\n",
    "# print(res_languages)"
   ]
  },
  {
   "cell_type": "code",
   "execution_count": 219,
   "metadata": {},
   "outputs": [
    {
     "name": "stdout",
     "output_type": "stream",
     "text": [
      "\n",
      "Level of 'Simple List' is: A1\n"
     ]
    }
   ],
   "source": [
    "\"\"\" Simple List. \"\"\"\n",
    "\n",
    "simple_list = reader.iloc[:, 13].to_list()\n",
    "#print(simple_list)\n",
    "\n",
    "# Calculating the most common\n",
    "level_simple_list = Counter(simple_list).most_common()[0][0]\n",
    "print(\"\\nLevel of 'Simple List' is: \" + level_simple_list)\n",
    "\n",
    "# Save in array\n",
    "levels.append(['Simple List', level_simple_list])"
   ]
  },
  {
   "cell_type": "code",
   "execution_count": 220,
   "metadata": {},
   "outputs": [
    {
     "name": "stdout",
     "output_type": "stream",
     "text": [
      "\n",
      "Level of 'Nested List' is: A2\n"
     ]
    }
   ],
   "source": [
    "\"\"\" Nested List. \"\"\"\n",
    "\n",
    "nested_list = reader.iloc[:, 44].to_list()\n",
    "#print(nested_list)\n",
    "\n",
    "# Calculating the most common\n",
    "level_nested_list = Counter(nested_list).most_common()[0][0]\n",
    "print(\"\\nLevel of 'Nested List' is: \" + level_nested_list)\n",
    "\n",
    "# Save in array\n",
    "levels.append(['Nested List', level_nested_list])"
   ]
  },
  {
   "cell_type": "code",
   "execution_count": 221,
   "metadata": {},
   "outputs": [
    {
     "name": "stdout",
     "output_type": "stream",
     "text": [
      "\n",
      "Level of 'List Dictionary' is: A2\n"
     ]
    }
   ],
   "source": [
    "\"\"\" List Dictionary. \"\"\"\n",
    "\n",
    "list_dict = reader.iloc[:, 76].to_list()\n",
    "#print(list_dict)\n",
    "\n",
    "# Calculating the most common\n",
    "level_list_dict = Counter(list_dict).most_common()[0][0]\n",
    "print(\"\\nLevel of 'List Dictionary' is: \" + level_list_dict)\n",
    "\n",
    "# Save in array\n",
    "levels.append(['List Dictionary', level_list_dict])"
   ]
  },
  {
   "cell_type": "code",
   "execution_count": 222,
   "metadata": {},
   "outputs": [
    {
     "name": "stdout",
     "output_type": "stream",
     "text": [
      "\n",
      "Level of 'Simple List Comprehension' is: A2\n"
     ]
    }
   ],
   "source": [
    "\"\"\" Simple List Comprehension. \"\"\"\n",
    "\n",
    "simple_list_compre = reader.iloc[:, 15].to_list()\n",
    "#print(simple_list_compre)\n",
    "\n",
    "# Calculating the most common\n",
    "level_simple_list_compre = Counter(simple_list_compre).most_common()[0][0]\n",
    "print(\"\\nLevel of 'Simple List Comprehension' is: \" + level_simple_list_compre)\n",
    "\n",
    "# Save in array\n",
    "levels.append(['Simple List Comprehension', level_simple_list_compre])"
   ]
  },
  {
   "cell_type": "code",
   "execution_count": 223,
   "metadata": {},
   "outputs": [
    {
     "name": "stdout",
     "output_type": "stream",
     "text": [
      "\n",
      "Level of 'Nested List Comprehension' is: B1\n"
     ]
    }
   ],
   "source": [
    "\"\"\" Nested List Comprehension. \"\"\"\n",
    "\n",
    "nested_list_compre = reader.iloc[:, 45].to_list()\n",
    "#print(nested_list_compre)\n",
    "\n",
    "# Calculating the most common\n",
    "level_nested_list_compre = Counter(nested_list_compre).most_common()[0][0]\n",
    "print(\"\\nLevel of 'Nested List Comprehension' is: \" + level_nested_list_compre)\n",
    "\n",
    "# Save in array\n",
    "levels.append(['Nested List Comprehension', level_nested_list_compre])"
   ]
  },
  {
   "cell_type": "code",
   "execution_count": 224,
   "metadata": {},
   "outputs": [
    {
     "name": "stdout",
     "output_type": "stream",
     "text": [
      "\n",
      "Level of 'List Comprehension with If statements' is: B1\n"
     ]
    }
   ],
   "source": [
    "\"\"\" List comprehension with If statements. \"\"\"\n",
    "\n",
    "list_compre_if = reader.iloc[:, 75].to_list()\n",
    "#print(list_compre_if)\n",
    "\n",
    "# Calculating the most common\n",
    "level_list_compre_if = Counter(list_compre_if).most_common()[0][0]\n",
    "print(\"\\nLevel of 'List Comprehension with If statements' is: \" + level_list_compre_if)\n",
    "\n",
    "# Save in array\n",
    "levels.append(['List Comprehension with If statements', level_list_compre_if])"
   ]
  },
  {
   "cell_type": "code",
   "execution_count": 225,
   "metadata": {},
   "outputs": [
    {
     "name": "stdout",
     "output_type": "stream",
     "text": [
      "\n",
      "Level of 'Simple Dictionary' is: A1\n"
     ]
    }
   ],
   "source": [
    "\"\"\" Simple Dictionary. \"\"\"\n",
    "\n",
    "simple_dict = reader.iloc[:, 14].to_list()\n",
    "#print(simple_dict)\n",
    "\n",
    "# Calculating the most common\n",
    "level_simple_dict = Counter(simple_dict).most_common()[0][0]\n",
    "print(\"\\nLevel of 'Simple Dictionary' is: \" + level_simple_dict)\n",
    "\n",
    "# Save in array\n",
    "levels.append(['Simple Dictionary', level_simple_dict])"
   ]
  },
  {
   "cell_type": "code",
   "execution_count": 226,
   "metadata": {},
   "outputs": [
    {
     "name": "stdout",
     "output_type": "stream",
     "text": [
      "\n",
      "Level of 'Nested Dictionary' is: A2\n"
     ]
    }
   ],
   "source": [
    "\"\"\" Nested Dictionary. \"\"\"\n",
    "\n",
    "nested_dict = reader.iloc[:, 46].to_list()\n",
    "#print(nested_dict)\n",
    "\n",
    "# Calculating the most common\n",
    "level_nested_dict = Counter(nested_dict).most_common()[0][0]\n",
    "print(\"\\nLevel of 'Nested Dictionary' is: \" + level_nested_dict)\n",
    "\n",
    "# Save in array\n",
    "levels.append(['Nested Dictionary', level_nested_dict])"
   ]
  },
  {
   "cell_type": "code",
   "execution_count": 227,
   "metadata": {},
   "outputs": [
    {
     "name": "stdout",
     "output_type": "stream",
     "text": [
      "\n",
      "Level of 'Dictionary List' is: B1\n"
     ]
    }
   ],
   "source": [
    "\"\"\" Dictionary List. \"\"\"\n",
    "\n",
    "dict_list = reader.iloc[:, 74].to_list()\n",
    "#print(dict_list)\n",
    "\n",
    "# Calculating the most common\n",
    "level_dict_list = Counter(dict_list).most_common()[0][0]\n",
    "print(\"\\nLevel of 'Dictionary List' is: \" + level_dict_list)\n",
    "\n",
    "# Save in array\n",
    "levels.append(['Dictionary List', level_dict_list])"
   ]
  },
  {
   "cell_type": "code",
   "execution_count": 228,
   "metadata": {},
   "outputs": [
    {
     "name": "stdout",
     "output_type": "stream",
     "text": [
      "\n",
      "Level of 'Dictionary of dictionary lists' is: A2\n"
     ]
    }
   ],
   "source": [
    "\"\"\" Dictionary of dictionary lists. \"\"\"\n",
    "\n",
    "dict_dict_list = reader.iloc[:, 47].to_list()\n",
    "#print(dict_dict_list)\n",
    "\n",
    "# Calculating the most common\n",
    "level_dict_dict_list = Counter(dict_dict_list).most_common()[0][0]\n",
    "print(\"\\nLevel of 'Dictionary of dictionary lists' is: \" + level_dict_dict_list)\n",
    "\n",
    "# Save in array\n",
    "levels.append(['Dictionary of dictionary lists', level_dict_dict_list])"
   ]
  },
  {
   "cell_type": "code",
   "execution_count": 229,
   "metadata": {},
   "outputs": [
    {
     "name": "stdout",
     "output_type": "stream",
     "text": [
      "\n",
      "Level of 'Simple Dict Comprehension' is: B1\n"
     ]
    }
   ],
   "source": [
    "\"\"\" Simple Dict Comprehension. \"\"\"\n",
    "\n",
    "simple_dict_compre = reader.iloc[:, 16].to_list()\n",
    "#print(simple_dict_compre)\n",
    "\n",
    "# Calculating the most common\n",
    "level_simple_dict_compre = Counter(simple_dict_compre).most_common()[0][0]\n",
    "print(\"\\nLevel of 'Simple Dict Comprehension' is: \" + level_simple_dict_compre)\n",
    "\n",
    "# Save in array\n",
    "levels.append(['Simple Dict Comprehension', level_simple_dict_compre])"
   ]
  },
  {
   "cell_type": "code",
   "execution_count": 230,
   "metadata": {},
   "outputs": [
    {
     "name": "stdout",
     "output_type": "stream",
     "text": [
      "\n",
      "Level of 'Dictionary Comprehension with If statements' is: B2\n"
     ]
    }
   ],
   "source": [
    "\"\"\" Dictionary Comprehension with If statements. \"\"\"\n",
    "\n",
    "dict_compre_if = reader.iloc[:, 77].to_list()\n",
    "#print(dict_compre_if)\n",
    "\n",
    "# Calculating the most common\n",
    "level_dict_compre_if = Counter(dict_compre_if).most_common()[0][0]\n",
    "print(\"\\nLevel of 'Dictionary Comprehension with If statements' is: \" + level_dict_compre_if)\n",
    "\n",
    "# Save in array\n",
    "levels.append(['Dictionary Comprehension with If statements', level_dict_compre_if])"
   ]
  },
  {
   "cell_type": "code",
   "execution_count": 231,
   "metadata": {},
   "outputs": [
    {
     "name": "stdout",
     "output_type": "stream",
     "text": [
      "\n",
      "Level of 'Dictionary Comprehension with if expression (If-Else)' is: B2\n"
     ]
    }
   ],
   "source": [
    "\"\"\" Dictionary Comprehension with if expression (If-Else). \"\"\"\n",
    "\n",
    "dict_compre_if_else = reader.iloc[:, 78].to_list()\n",
    "#print(dict_compre_if_else)\n",
    "\n",
    "# Calculating the most common\n",
    "level_dict_compre_if_else = Counter(dict_compre_if_else).most_common()[0][0]\n",
    "print(\"\\nLevel of 'Dictionary Comprehension with if expression (If-Else)' is: \" + level_dict_compre_if_else)\n",
    "\n",
    "# Save in array\n",
    "levels.append(['Dictionary Comprehension with if expression (If-Else)', level_dict_compre_if_else])"
   ]
  },
  {
   "cell_type": "code",
   "execution_count": 232,
   "metadata": {},
   "outputs": [
    {
     "name": "stdout",
     "output_type": "stream",
     "text": [
      "\n",
      "Level of 'Nested Dict Comprehension' is: B1\n"
     ]
    }
   ],
   "source": [
    "\"\"\" Nested Dict Comprehension. \"\"\"\n",
    "\n",
    "nested_dict_compre = reader.iloc[:, 48].to_list()\n",
    "#print(nested_dict_compre)\n",
    "\n",
    "# Calculating the most common\n",
    "level_nested_dict_compre = Counter(simple_dict_compre).most_common()[0][0]\n",
    "print(\"\\nLevel of 'Nested Dict Comprehension' is: \" + level_nested_dict_compre)\n",
    "\n",
    "# Save in array\n",
    "levels.append(['Nested Dict Comprehension', level_nested_dict_compre])"
   ]
  },
  {
   "cell_type": "code",
   "execution_count": 233,
   "metadata": {},
   "outputs": [
    {
     "name": "stdout",
     "output_type": "stream",
     "text": [
      "\n",
      "Level of 'Simple Tuple' is: A1\n"
     ]
    }
   ],
   "source": [
    "\"\"\" Simple Tuple. \"\"\"\n",
    "\n",
    "simple_tuple = reader.iloc[:, 49].to_list()\n",
    "#print(simple_tuple)\n",
    "\n",
    "# Calculating the most common\n",
    "level_simple_tuple = Counter(simple_tuple).most_common()[0][0]\n",
    "print(\"\\nLevel of 'Simple Tuple' is: \" + level_simple_tuple)\n",
    "\n",
    "# Save in array\n",
    "levels.append(['Simple Tuple', level_simple_tuple])"
   ]
  },
  {
   "cell_type": "code",
   "execution_count": 234,
   "metadata": {},
   "outputs": [
    {
     "name": "stdout",
     "output_type": "stream",
     "text": [
      "\n",
      "Level of 'Nested Tuple' is: B1\n"
     ]
    }
   ],
   "source": [
    "\"\"\" Nested Tuple. \"\"\"\n",
    "\n",
    "nested_tuple = reader.iloc[:, 79].to_list()\n",
    "#print(nested_tuple)\n",
    "\n",
    "# Calculating the most common\n",
    "level_nested_tuple = Counter(nested_tuple).most_common()[0][0]\n",
    "print(\"\\nLevel of 'Nested Tuple' is: \" + level_nested_tuple)\n",
    "\n",
    "# Save in array\n",
    "levels.append(['Nested Tuple', level_nested_tuple])"
   ]
  },
  {
   "cell_type": "code",
   "execution_count": 235,
   "metadata": {},
   "outputs": [
    {
     "name": "stdout",
     "output_type": "stream",
     "text": [
      "\n",
      "Level of 'Files -->  'open' call function' is: A2\n"
     ]
    }
   ],
   "source": [
    "\"\"\" Files -->  'open' call function. \"\"\"\n",
    "\n",
    "open_call = reader.iloc[:, 17].to_list()\n",
    "#print(open_call)\n",
    "\n",
    "# Calculating the most common\n",
    "level_open_call = Counter(open_call).most_common()[0][0]\n",
    "print(\"\\nLevel of 'Files -->  'open' call function' is: \" + level_open_call)\n",
    "\n",
    "# Save in array\n",
    "levels.append([\"Files -->  'open' call function\", level_open_call])"
   ]
  },
  {
   "cell_type": "code",
   "execution_count": 236,
   "metadata": {},
   "outputs": [
    {
     "name": "stdout",
     "output_type": "stream",
     "text": [
      "\n",
      "Level of 'Files -->  'write' call function' is: A2\n"
     ]
    }
   ],
   "source": [
    "\"\"\" Files →  ‘write’ call function. \"\"\"\n",
    "\n",
    "write_call = reader.iloc[:, 50].to_list()\n",
    "#print(write_call)\n",
    "\n",
    "# Calculating the most common\n",
    "level_write_call = Counter(write_call).most_common()[0][0]\n",
    "print(\"\\nLevel of 'Files -->  'write' call function' is: \" + level_write_call)\n",
    "\n",
    "# Save in array\n",
    "levels.append([\"Files -->  'write' call function\", level_write_call])"
   ]
  },
  {
   "cell_type": "code",
   "execution_count": 237,
   "metadata": {},
   "outputs": [
    {
     "name": "stdout",
     "output_type": "stream",
     "text": [
      "\n",
      "Level of 'Files -->  'writelines' call function' is: A2\n"
     ]
    }
   ],
   "source": [
    "\"\"\" Files → ‘writelines’ call function. \"\"\"\n",
    "\n",
    "writelines_call = reader.iloc[:, 81].to_list()\n",
    "#print(writelines_call)\n",
    "\n",
    "# Calculating the most common\n",
    "level_writelines_call = Counter(write_call).most_common()[0][0]\n",
    "print(\"\\nLevel of 'Files -->  'writelines' call function' is: \" + level_writelines_call)\n",
    "\n",
    "# Save in array\n",
    "levels.append([\"Files -->  'writelines' call function\", level_writelines_call])"
   ]
  },
  {
   "cell_type": "code",
   "execution_count": 238,
   "metadata": {},
   "outputs": [
    {
     "name": "stdout",
     "output_type": "stream",
     "text": [
      "\n",
      "Level of 'Files -->  'read' call function' is: A2\n"
     ]
    }
   ],
   "source": [
    "\"\"\" Files → ‘read’ call function. \"\"\"\n",
    "\n",
    "read_call = reader.iloc[:, 80].to_list()\n",
    "#print(read_call)\n",
    "\n",
    "# Calculating the most common\n",
    "level_read_call = Counter(read_call).most_common()[0][0]\n",
    "print(\"\\nLevel of 'Files -->  'read' call function' is: \" + level_read_call)\n",
    "\n",
    "# Save in array\n",
    "levels.append([\"Files -->  'read' call function\", level_read_call])"
   ]
  },
  {
   "cell_type": "code",
   "execution_count": 239,
   "metadata": {},
   "outputs": [
    {
     "name": "stdout",
     "output_type": "stream",
     "text": [
      "\n",
      "Level of 'Files -->  'readline' call function' is: A2\n"
     ]
    }
   ],
   "source": [
    "\"\"\" Files → ‘readline’ call function. \"\"\"\n",
    "\n",
    "readline_call = reader.iloc[:, 82].to_list()\n",
    "#print(readline_call)\n",
    "\n",
    "# Calculating the most common\n",
    "level_readline_call = Counter(readline_call).most_common()[0][0]\n",
    "print(\"\\nLevel of 'Files -->  'readline' call function' is: \" + level_readline_call)\n",
    "\n",
    "# Save in array\n",
    "levels.append([\"Files -->  'readline' call function\", level_readline_call])"
   ]
  },
  {
   "cell_type": "code",
   "execution_count": 240,
   "metadata": {},
   "outputs": [
    {
     "name": "stdout",
     "output_type": "stream",
     "text": [
      "\n",
      "Level of 'Print' is: A1\n"
     ]
    }
   ],
   "source": [
    "\"\"\" Print. \"\"\"\n",
    "\n",
    "print_call = reader.iloc[:, 51].to_list()\n",
    "#print(print_call)\n",
    "\n",
    "# Calculating the most common\n",
    "level_print_call = Counter(print_call).most_common()[0][0]\n",
    "print(\"\\nLevel of 'Print' is: \" + level_print_call)\n",
    "\n",
    "# Save in array\n",
    "levels.append([\"Print\", level_print_call])\n"
   ]
  },
  {
   "cell_type": "code",
   "execution_count": 241,
   "metadata": {},
   "outputs": [
    {
     "name": "stdout",
     "output_type": "stream",
     "text": [
      "\n",
      "Level of 'Simple Assignment' is: A1\n"
     ]
    }
   ],
   "source": [
    "\"\"\" Simple Assignment. \"\"\"\n",
    "\n",
    "simple_assig = reader.iloc[:, 52].to_list()\n",
    "#print(simple_assig)\n",
    "\n",
    "# Calculating the most common\n",
    "level_simple_assig = Counter(simple_assig).most_common()[0][0]\n",
    "print(\"\\nLevel of 'Simple Assignment' is: \" + level_simple_assig)\n",
    "\n",
    "# Save in array\n",
    "levels.append([\"Simple Assignment\", level_simple_assig])"
   ]
  },
  {
   "cell_type": "code",
   "execution_count": 242,
   "metadata": {},
   "outputs": [
    {
     "name": "stdout",
     "output_type": "stream",
     "text": [
      "\n",
      "Level of 'Assigment with sum (total = total + 1' is: A1\n"
     ]
    }
   ],
   "source": [
    "\"\"\" Assigment with sum (total = total + 1). \"\"\"\n",
    "\n",
    "assig_sum = reader.iloc[:, 83].to_list()\n",
    "#print(assig_sum)\n",
    "\n",
    "# Calculating the most common\n",
    "level_assig_sum = Counter(assig_sum).most_common()[0][0]\n",
    "print(\"\\nLevel of 'Assigment with sum (total = total + 1' is: \" + level_assig_sum)\n",
    "\n",
    "# Save in array\n",
    "levels.append([\"Assigment with sum (total = total + 1\", level_assig_sum])"
   ]
  },
  {
   "cell_type": "code",
   "execution_count": 243,
   "metadata": {},
   "outputs": [
    {
     "name": "stdout",
     "output_type": "stream",
     "text": [
      "\n",
      "Level of 'Simplified incremental Assignment (+=)' is: A2\n"
     ]
    }
   ],
   "source": [
    "\"\"\" Simplified incremental Assignment (+=). \"\"\"\n",
    "\n",
    "assig_inc = reader.iloc[:, 53].to_list()\n",
    "#print(assig_inc)\n",
    "\n",
    "# Calculating the most common\n",
    "level_assig_inc = Counter(assig_inc).most_common()[0][0]\n",
    "print(\"\\nLevel of 'Simplified incremental Assignment (+=)' is: \" + level_assig_inc)\n",
    "\n",
    "# Save in array\n",
    "levels.append([\"Simplified incremental Assignment (+=)\", level_assig_inc])"
   ]
  },
  {
   "cell_type": "code",
   "execution_count": 244,
   "metadata": {},
   "outputs": [
    {
     "name": "stdout",
     "output_type": "stream",
     "text": [
      "\n",
      "Level of 'Simple If statements' is: A1\n"
     ]
    }
   ],
   "source": [
    "\"\"\" Simple If statements. \"\"\"\n",
    "\n",
    "simple_if = reader.iloc[:, 18].to_list()\n",
    "#print(simple_if)\n",
    "\n",
    "# Calculating the most common\n",
    "level_simple_if = Counter(simple_if).most_common()[0][0]\n",
    "print(\"\\nLevel of 'Simple If statements' is: \" + level_simple_if)\n",
    "\n",
    "# Save in array\n",
    "levels.append([\"Simple If statements\", level_simple_if])"
   ]
  },
  {
   "cell_type": "code",
   "execution_count": 245,
   "metadata": {},
   "outputs": [
    {
     "name": "stdout",
     "output_type": "stream",
     "text": [
      "\n",
      "Level of 'If statements expresion (else)' is: A1\n"
     ]
    }
   ],
   "source": [
    "\"\"\" If statements expresion (else). \"\"\"\n",
    "\n",
    "if_expr = reader.iloc[:, 84].to_list()\n",
    "#print(if_expr)\n",
    "\n",
    "# Calculating the most common\n",
    "level_if_expr = Counter(if_expr).most_common()[0][0]\n",
    "print(\"\\nLevel of 'If statements expresion (else)' is: \" + level_if_expr)\n",
    "\n",
    "# Save in array\n",
    "levels.append([\"If statements expresion (else)\", level_if_expr])"
   ]
  },
  {
   "cell_type": "code",
   "execution_count": 246,
   "metadata": {},
   "outputs": [
    {
     "name": "stdout",
     "output_type": "stream",
     "text": [
      "\n",
      "Level of 'If statements using → __name__ == ‘__main__’' is: A2\n"
     ]
    }
   ],
   "source": [
    "\"\"\" If statements using → __name__ == ‘__main__’. \"\"\"\n",
    "\n",
    "if_name = reader.iloc[:, 54].to_list()\n",
    "#print(if_name)\n",
    "\n",
    "# Calculating the most common\n",
    "level_if_name = Counter(if_name).most_common()[0][0]\n",
    "print(\"\\nLevel of 'If statements using → __name__ == ‘__main__’' is: \" + level_if_name)\n",
    "\n",
    "# Save in array\n",
    "levels.append([\"If statements using → __name__ == ‘__main__’\", level_if_name])"
   ]
  },
  {
   "cell_type": "code",
   "execution_count": 247,
   "metadata": {},
   "outputs": [
    {
     "name": "stdout",
     "output_type": "stream",
     "text": [
      "\n",
      "Level of ''break' statement' is: A1\n"
     ]
    }
   ],
   "source": [
    "\"\"\" 'break' statement. \"\"\"\n",
    "\n",
    "break_stat = reader.iloc[:, 19].to_list()\n",
    "#print(break_stat)\n",
    "\n",
    "# Calculating the most common\n",
    "level_break_stat = Counter(break_stat).most_common()[0][0]\n",
    "print(\"\\nLevel of ''break' statement' is: \" + level_break_stat)\n",
    "\n",
    "# Save in array\n",
    "levels.append([\"'break' statement\", level_break_stat])"
   ]
  },
  {
   "cell_type": "code",
   "execution_count": 248,
   "metadata": {},
   "outputs": [
    {
     "name": "stdout",
     "output_type": "stream",
     "text": [
      "\n",
      "Level of ''continue statement' is: A1\n"
     ]
    }
   ],
   "source": [
    "\"\"\" 'continue' statement. \"\"\"\n",
    "\n",
    "continue_stat = reader.iloc[:, 55].to_list()\n",
    "#print(continue_stat)\n",
    "\n",
    "# Calculating the most common\n",
    "level_continue_stat = Counter(continue_stat).most_common()[0][0]\n",
    "print(\"\\nLevel of ''continue statement' is: \" + level_continue_stat)\n",
    "\n",
    "# Save in array\n",
    "levels.append([\"'continue' statement\", level_continue_stat])"
   ]
  },
  {
   "cell_type": "code",
   "execution_count": 249,
   "metadata": {},
   "outputs": [
    {
     "name": "stdout",
     "output_type": "stream",
     "text": [
      "\n",
      "Level of ''pass' statement' is: A2\n"
     ]
    }
   ],
   "source": [
    "\"\"\" 'pass' statement. \"\"\"\n",
    "\n",
    "pass_stat = reader.iloc[:, 56].to_list()\n",
    "#print(pass_stat)\n",
    "\n",
    "# Calculating the most common\n",
    "level_pass_stat = Counter(pass_stat).most_common()[0][0]\n",
    "print(\"\\nLevel of ''pass' statement' is: \" + level_pass_stat)\n",
    "\n",
    "# Save in array\n",
    "levels.append([\"'pass' statement\", level_pass_stat])"
   ]
  },
  {
   "cell_type": "code",
   "execution_count": 250,
   "metadata": {},
   "outputs": [
    {
     "name": "stdout",
     "output_type": "stream",
     "text": [
      "\n",
      "Level of 'Simple While Loop' is: A1\n"
     ]
    }
   ],
   "source": [
    "\"\"\" Simple While Loop. \"\"\"\n",
    "\n",
    "simple_while = reader.iloc[:, 20].to_list()\n",
    "#print(simple_while)\n",
    "\n",
    "# Calculating the most common\n",
    "level_simple_while = Counter(simple_while).most_common()[0][0]\n",
    "print(\"\\nLevel of 'Simple While Loop' is: \" + level_simple_while)\n",
    "\n",
    "# Save in array\n",
    "levels.append([\"Simple While Loop\", level_simple_while])"
   ]
  },
  {
   "cell_type": "code",
   "execution_count": 251,
   "metadata": {},
   "outputs": [
    {
     "name": "stdout",
     "output_type": "stream",
     "text": [
      "\n",
      "Level of 'While with Else Loop' is: B1\n"
     ]
    }
   ],
   "source": [
    "\"\"\" While with Else Loop. \"\"\"\n",
    "\n",
    "while_else = reader.iloc[:, 57].to_list()\n",
    "#print(while_else)\n",
    "\n",
    "# Calculating the most common\n",
    "level_while_else = Counter(while_else).most_common()[0][0]\n",
    "print(\"\\nLevel of 'While with Else Loop' is: \" + level_while_else)\n",
    "\n",
    "# Save in array\n",
    "levels.append([\"While with Else Loop\", level_while_else])"
   ]
  },
  {
   "cell_type": "code",
   "execution_count": 252,
   "metadata": {},
   "outputs": [
    {
     "name": "stdout",
     "output_type": "stream",
     "text": [
      "\n",
      "Level of 'Simple For Loop' is: A1\n"
     ]
    }
   ],
   "source": [
    "\"\"\" Simple For Loop. \"\"\"\n",
    "\n",
    "simple_for = reader.iloc[:, 21].to_list()\n",
    "#print(simple_for)\n",
    "\n",
    "# Calculating the most common\n",
    "level_simple_for = Counter(simple_for).most_common()[0][0]\n",
    "print(\"\\nLevel of 'Simple For Loop' is: \" + level_simple_for)\n",
    "\n",
    "# Save in array\n",
    "levels.append([\"Simple For Loop\", level_simple_for])"
   ]
  },
  {
   "cell_type": "code",
   "execution_count": 253,
   "metadata": {},
   "outputs": [
    {
     "name": "stdout",
     "output_type": "stream",
     "text": [
      "\n",
      "Level of ' Nested For Loop' is: A2\n"
     ]
    }
   ],
   "source": [
    "\"\"\" Nested For Loop. \"\"\"\n",
    "\n",
    "nested_for = reader.iloc[:, 58].to_list()\n",
    "#print(nested_for)\n",
    "\n",
    "# Calculating the most common\n",
    "level_nested_for = Counter(nested_for).most_common()[0][0]\n",
    "print(\"\\nLevel of ' Nested For Loop' is: \" + level_nested_for)\n",
    "\n",
    "# Save in array\n",
    "levels.append([\" Nested For Loop\", level_nested_for])"
   ]
  },
  {
   "cell_type": "code",
   "execution_count": 254,
   "metadata": {},
   "outputs": [
    {
     "name": "stdout",
     "output_type": "stream",
     "text": [
      "\n",
      "Level of 'For Loop with Tuple as name.: A2\n"
     ]
    }
   ],
   "source": [
    "\"\"\" For Loop with Tuple as name. \"\"\"\n",
    "\n",
    "for_tuple_name = reader.iloc[:, 85].to_list()\n",
    "#print(for_tuple_name )\n",
    "\n",
    "# Calculating the most common\n",
    "level_for_tuple_name  = Counter(for_tuple_name ).most_common()[0][0]\n",
    "print(\"\\nLevel of 'For Loop with Tuple as name.: \" + level_for_tuple_name )\n",
    "\n",
    "# Save in array\n",
    "levels.append([\"For Loop with Tuple as name.\", level_for_tuple_name ])"
   ]
  },
  {
   "cell_type": "code",
   "execution_count": 255,
   "metadata": {},
   "outputs": [
    {
     "name": "stdout",
     "output_type": "stream",
     "text": [
      "\n",
      "Level of 'For Loop with List to iterate: A1\n"
     ]
    }
   ],
   "source": [
    "\"\"\" For Loop with List to iterate. \"\"\"\n",
    "\n",
    "for_list_iter = reader.iloc[:, 86].to_list()\n",
    "#print(for_list_iter)\n",
    "\n",
    "# Calculating the most common\n",
    "level_for_list_iter  = Counter(for_list_iter).most_common()[0][0]\n",
    "print(\"\\nLevel of 'For Loop with List to iterate: \" + level_for_list_iter)\n",
    "\n",
    "# Save in array\n",
    "levels.append([\"For Loop with List to iterate.\", level_for_list_iter])"
   ]
  },
  {
   "cell_type": "code",
   "execution_count": 256,
   "metadata": {},
   "outputs": [
    {
     "name": "stdout",
     "output_type": "stream",
     "text": [
      "\n",
      "Level of 'For Loop with Tuple to iterate.: B1\n"
     ]
    }
   ],
   "source": [
    "\"\"\" For Loop with Tuple to iterate. \"\"\"\n",
    "\n",
    "for_tuple_iter = reader.iloc[:, 87].to_list()\n",
    "#print(for_tuple_iter)\n",
    "\n",
    "# Calculating the most common\n",
    "level_for_tuple_iter = Counter(for_tuple_iter).most_common()[0][0]\n",
    "print(\"\\nLevel of 'For Loop with Tuple to iterate.: \" + level_for_tuple_iter)\n",
    "\n",
    "# Save in array\n",
    "levels.append([\"For Loop with Tuple to iterate.\", level_for_tuple_iter])"
   ]
  },
  {
   "cell_type": "code",
   "execution_count": 257,
   "metadata": {},
   "outputs": [
    {
     "name": "stdout",
     "output_type": "stream",
     "text": [
      "\n",
      "Level of ''range' call function' is: A2\n"
     ]
    }
   ],
   "source": [
    "\"\"\" 'range' call function. \"\"\"\n",
    "\n",
    "range_call = reader.iloc[:, 22].to_list()\n",
    "#print(range_call)\n",
    "\n",
    "# Calculating the most common\n",
    "level_range_call = Counter(range_call).most_common()[0][0]\n",
    "print(\"\\nLevel of ''range' call function' is: \" + level_range_call)\n",
    "\n",
    "# Save in array\n",
    "levels.append([\"'range' call function\", level_range_call])"
   ]
  },
  {
   "cell_type": "code",
   "execution_count": 258,
   "metadata": {},
   "outputs": [
    {
     "name": "stdout",
     "output_type": "stream",
     "text": [
      "\n",
      "Level of ''zip' call function' is: B1\n"
     ]
    }
   ],
   "source": [
    "\"\"\" 'zip' call function. \"\"\"\n",
    "\n",
    "zip_call = reader.iloc[:, 23].to_list()\n",
    "#print(zip_call)\n",
    "\n",
    "# Calculating the most common\n",
    "level_zip_call = Counter(zip_call).most_common()[0][0]\n",
    "print(\"\\nLevel of ''zip' call function' is: \" + level_zip_call)\n",
    "\n",
    "# Save in array\n",
    "levels.append([\"'zip' call function\", level_zip_call])"
   ]
  },
  {
   "cell_type": "code",
   "execution_count": 259,
   "metadata": {},
   "outputs": [
    {
     "name": "stdout",
     "output_type": "stream",
     "text": [
      "\n",
      "Level of ''map' call function' is: B1\n"
     ]
    }
   ],
   "source": [
    "\"\"\" 'map' call function. \"\"\"\n",
    "\n",
    "map_call = reader.iloc[:, 88].to_list()\n",
    "#print(map_call)\n",
    "\n",
    "# Calculating the most common\n",
    "level_map_call = Counter(map_call).most_common()[0][0]\n",
    "print(\"\\nLevel of ''map' call function' is: \" + level_map_call)\n",
    "\n",
    "# Save in array\n",
    "levels.append([\"'map' call function\", level_map_call])"
   ]
  },
  {
   "cell_type": "code",
   "execution_count": 260,
   "metadata": {},
   "outputs": [
    {
     "name": "stdout",
     "output_type": "stream",
     "text": [
      "\n",
      "Level of ''enumerate' call function' is: B1\n"
     ]
    }
   ],
   "source": [
    "\"\"\" 'enumerate' call function. \"\"\"\n",
    "\n",
    "enumerate_call = reader.iloc[:, 59].to_list()\n",
    "#print(enumerate_call)\n",
    "\n",
    "# Calculating the most common\n",
    "level_enumerate_call = Counter(enumerate_call).most_common()[0][0]\n",
    "print(\"\\nLevel of ''enumerate' call function' is: \" + level_enumerate_call)\n",
    "\n",
    "# Save in array\n",
    "levels.append([\"'enumerate' call function\", level_enumerate_call])\n"
   ]
  },
  {
   "cell_type": "code",
   "execution_count": 261,
   "metadata": {},
   "outputs": [
    {
     "name": "stdout",
     "output_type": "stream",
     "text": [
      "\n",
      "Level of 'Function with simple argument(s)' is: A1\n"
     ]
    }
   ],
   "source": [
    "\"\"\" Function with simple argument(s). \"\"\"\n",
    "\n",
    "funct_simple_arg = reader.iloc[:, 24].to_list()\n",
    "#print(funct_simple_arg)\n",
    "\n",
    "# Calculating the most common\n",
    "level_funct_simple_arg = Counter(funct_simple_arg).most_common()[0][0]\n",
    "print(\"\\nLevel of 'Function with simple argument(s)' is: \" + level_funct_simple_arg)\n",
    "\n",
    "# Save in array\n",
    "levels.append([\"Function with simple argument(s)\", level_funct_simple_arg])"
   ]
  },
  {
   "cell_type": "code",
   "execution_count": 262,
   "metadata": {},
   "outputs": [
    {
     "name": "stdout",
     "output_type": "stream",
     "text": [
      "\n",
      "Level of 'Function with Default argument' is: B1\n"
     ]
    }
   ],
   "source": [
    "\"\"\" Function with Default argument. \"\"\"\n",
    "\n",
    "funct_default_arg = reader.iloc[:, 60].to_list()\n",
    "#print(funct_default_arg)\n",
    "\n",
    "# Calculating the most common\n",
    "level_funct_default_arg = Counter(funct_default_arg).most_common()[0][0]\n",
    "print(\"\\nLevel of 'Function with Default argument' is: \" + level_funct_default_arg)\n",
    "\n",
    "# Save in array\n",
    "levels.append([\"Function with Default argument\", level_funct_default_arg])"
   ]
  },
  {
   "cell_type": "code",
   "execution_count": 263,
   "metadata": {},
   "outputs": [
    {
     "name": "stdout",
     "output_type": "stream",
     "text": [
      "\n",
      "Level of 'Function with * argument' is: C1\n"
     ]
    }
   ],
   "source": [
    "\"\"\" Function with * argument. \"\"\"\n",
    "\n",
    "funct_ver_arg = reader.iloc[:, 25].to_list()\n",
    "#print(funct_ver_arg)\n",
    "\n",
    "# Calculating the most common\n",
    "level_funct_ver_arg = Counter(funct_ver_arg).most_common()[0][0]\n",
    "print(\"\\nLevel of 'Function with * argument' is: \" + level_funct_ver_arg)\n",
    "\n",
    "# Save in array\n",
    "levels.append([\"Function with * argument\", level_funct_ver_arg])"
   ]
  },
  {
   "cell_type": "code",
   "execution_count": 264,
   "metadata": {},
   "outputs": [
    {
     "name": "stdout",
     "output_type": "stream",
     "text": [
      "\n",
      "Level of 'Function with ** argument' is: B2\n"
     ]
    }
   ],
   "source": [
    "\"\"\" Function with ** argument. \"\"\"\n",
    "\n",
    "funct_2ver_arg = reader.iloc[:, 89].to_list()\n",
    "#print(funct_2ver_arg)\n",
    "\n",
    "# Calculating the most common\n",
    "level_funct_2ver_arg = Counter(funct_2ver_arg).most_common()[0][0]\n",
    "print(\"\\nLevel of 'Function with ** argument' is: \" + level_funct_2ver_arg)\n",
    "\n",
    "# Save in array\n",
    "levels.append([\"Function with ** argument\", level_funct_2ver_arg])"
   ]
  },
  {
   "cell_type": "code",
   "execution_count": 265,
   "metadata": {},
   "outputs": [
    {
     "name": "stdout",
     "output_type": "stream",
     "text": [
      "\n",
      "Level of 'Function with Keyword-Only argument' is: B1\n"
     ]
    }
   ],
   "source": [
    "\"\"\" Function with Keyword-Only argument. \"\"\"\n",
    "\n",
    "funct_key_arg = reader.iloc[:, 61].to_list()\n",
    "#print(funct_key_arg)\n",
    "\n",
    "# Calculating the most common\n",
    "level_funct_key_arg = Counter(funct_key_arg).most_common()[0][0]\n",
    "print(\"\\nLevel of 'Function with Keyword-Only argument' is: \" + level_funct_key_arg)\n",
    "\n",
    "# Save in array\n",
    "levels.append([\"Function with Keyword-Only argument\", level_funct_key_arg])"
   ]
  },
  {
   "cell_type": "code",
   "execution_count": 266,
   "metadata": {},
   "outputs": [
    {
     "name": "stdout",
     "output_type": "stream",
     "text": [
      "\n",
      "Level of 'Recursive Functions' is: B1\n"
     ]
    }
   ],
   "source": [
    "\"\"\" Recursive Functions. \"\"\"\n",
    "\n",
    "recur_funct = reader.iloc[:, 26].to_list()\n",
    "#print(recur_funct)\n",
    "\n",
    "# Calculating the most common\n",
    "level_recur_funct = Counter(recur_funct).most_common()[0][0]\n",
    "print(\"\\nLevel of 'Recursive Functions' is: \" + level_recur_funct)\n",
    "\n",
    "# Save in array\n",
    "levels.append([\"Recursive Functions\", level_recur_funct])"
   ]
  },
  {
   "cell_type": "code",
   "execution_count": 267,
   "metadata": {},
   "outputs": [
    {
     "name": "stdout",
     "output_type": "stream",
     "text": [
      "\n",
      "Level of 'Return' is: A1\n"
     ]
    }
   ],
   "source": [
    "\"\"\" Return. \"\"\"\n",
    "\n",
    "return_call = reader.iloc[:, 62].to_list()\n",
    "#print(return_call)\n",
    "\n",
    "# Calculating the most common\n",
    "level_return_call = Counter(return_call).most_common()[0][0]\n",
    "print(\"\\nLevel of 'Return' is: \" + level_return_call)\n",
    "\n",
    "# Save in array\n",
    "levels.append([\"Return\", level_return_call])"
   ]
  },
  {
   "cell_type": "code",
   "execution_count": 268,
   "metadata": {},
   "outputs": [
    {
     "name": "stdout",
     "output_type": "stream",
     "text": [
      "\n",
      "Level of 'Lambda' is: B2\n"
     ]
    }
   ],
   "source": [
    "\"\"\" Lambda. \"\"\"\n",
    "\n",
    "lambda_call = reader.iloc[:, 27].to_list()\n",
    "#print(lambda_call)\n",
    "\n",
    "# Calculating the most common\n",
    "level_lambda_call = Counter(lambda_call).most_common()[0][0]\n",
    "print(\"\\nLevel of 'Lambda' is: \" + level_lambda_call)\n",
    "\n",
    "# Save in array\n",
    "levels.append([\"Lambda\", level_lambda_call])"
   ]
  },
  {
   "cell_type": "code",
   "execution_count": 269,
   "metadata": {},
   "outputs": [
    {
     "name": "stdout",
     "output_type": "stream",
     "text": [
      "\n",
      "Level of 'Generator Functions (yield)' is: B1\n"
     ]
    }
   ],
   "source": [
    "\"\"\" Generator function (yield). \"\"\"\n",
    "\n",
    "gene_funct = reader.iloc[:, 28].to_list()\n",
    "#print(gene_funct)\n",
    "\n",
    "# Calculating the most common\n",
    "level_gene_funct = Counter(gene_funct).most_common()[0][0]\n",
    "print(\"\\nLevel of 'Generator Functions (yield)' is: \" + level_gene_funct)\n",
    "\n",
    "# Save in array\n",
    "levels.append([\"Generator Functions (yield)\", level_gene_funct])"
   ]
  },
  {
   "cell_type": "code",
   "execution_count": 270,
   "metadata": {},
   "outputs": [
    {
     "name": "stdout",
     "output_type": "stream",
     "text": [
      "\n",
      "Level of 'Generator Expressions' is: C1\n"
     ]
    }
   ],
   "source": [
    "\"\"\" Generator Expressions. \"\"\"\n",
    "\n",
    "gene_expr = reader.iloc[:, 29].to_list()\n",
    "#print(gene_expr)\n",
    "\n",
    "# Calculating the most common\n",
    "level_gene_expr = Counter(gene_expr).most_common()[0][0]\n",
    "print(\"\\nLevel of 'Generator Expressions' is: \" + level_gene_expr)\n",
    "\n",
    "# Save in array\n",
    "levels.append([\"Generator Expressions\", level_gene_expr])"
   ]
  },
  {
   "cell_type": "code",
   "execution_count": 271,
   "metadata": {},
   "outputs": [
    {
     "name": "stdout",
     "output_type": "stream",
     "text": [
      "\n",
      "Level of 'Import' is: A1\n"
     ]
    }
   ],
   "source": [
    "\"\"\" Import. \"\"\"\n",
    "\n",
    "import_stat = reader.iloc[:, 30].to_list()\n",
    "#print(import_stat)\n",
    "\n",
    "# Calculating the most common\n",
    "level_import_stat = Counter(import_stat).most_common()[0][0]\n",
    "print(\"\\nLevel of 'Import' is: \" + level_import_stat)\n",
    "\n",
    "# Save in array\n",
    "levels.append([\"Import\", level_import_stat])"
   ]
  },
  {
   "cell_type": "code",
   "execution_count": 272,
   "metadata": {},
   "outputs": [
    {
     "name": "stdout",
     "output_type": "stream",
     "text": [
      "\n",
      "Level of 'From' is: A1\n"
     ]
    }
   ],
   "source": [
    "\"\"\" From. \"\"\"\n",
    "\n",
    "from_stat = reader.iloc[:, 31].to_list()\n",
    "#print(from_stat)\n",
    "\n",
    "# Calculating the most common\n",
    "level_from_stat = Counter(from_stat).most_common()[0][0]\n",
    "print(\"\\nLevel of 'From' is: \" + level_from_stat)\n",
    "\n",
    "# Save in array\n",
    "levels.append([\"From\", level_from_stat])"
   ]
  },
  {
   "cell_type": "code",
   "execution_count": 273,
   "metadata": {},
   "outputs": [
    {
     "name": "stdout",
     "output_type": "stream",
     "text": [
      "\n",
      "Level of 'Relative From' is: B1\n"
     ]
    }
   ],
   "source": [
    "\"\"\" Relative From. \"\"\"\n",
    "\n",
    "from_rela = reader.iloc[:, 63].to_list()\n",
    "#print(from_rela)\n",
    "\n",
    "# Calculating the most common\n",
    "level_from_rela = Counter(from_rela).most_common()[0][0]\n",
    "print(\"\\nLevel of 'Relative From' is: \" + level_from_rela)\n",
    "\n",
    "# Save in array\n",
    "levels.append([\"Relative From\", level_from_rela])"
   ]
  },
  {
   "cell_type": "code",
   "execution_count": 274,
   "metadata": {},
   "outputs": [
    {
     "name": "stdout",
     "output_type": "stream",
     "text": [
      "\n",
      "Level of 'From with * statements' is: A2\n"
     ]
    }
   ],
   "source": [
    "\"\"\" From with * statements. \"\"\"\n",
    "\n",
    "from_ver = reader.iloc[:, 90].to_list()\n",
    "#print(from_ver)\n",
    "\n",
    "# Calculating the most common\n",
    "level_from_ver = Counter(from_ver).most_common()[0][0]\n",
    "print(\"\\nLevel of 'From with * statements' is: \" + level_from_ver)\n",
    "\n",
    "# Save in array\n",
    "levels.append([\"From with * statements\", level_from_ver])"
   ]
  },
  {
   "cell_type": "code",
   "execution_count": 275,
   "metadata": {},
   "outputs": [
    {
     "name": "stdout",
     "output_type": "stream",
     "text": [
      "\n",
      "Level of ''as' extension' is: A2\n"
     ]
    }
   ],
   "source": [
    "\"\"\" 'as' extension. \"\"\"\n",
    "\n",
    "as_ext = reader.iloc[:, 32].to_list()\n",
    "#print(as_ext)\n",
    "\n",
    "# Calculating the most common\n",
    "level_as_ext = Counter(as_ext).most_common()[0][0]\n",
    "print(\"\\nLevel of ''as' extension' is: \" + level_as_ext)\n",
    "\n",
    "# Save in array\n",
    "levels.append([\"'as' extension\", level_as_ext])"
   ]
  },
  {
   "cell_type": "code",
   "execution_count": 276,
   "metadata": {},
   "outputs": [
    {
     "name": "stdout",
     "output_type": "stream",
     "text": [
      "\n",
      "Level of 'Using the struct modulen' is: C1\n"
     ]
    }
   ],
   "source": [
    "\"\"\" Using the struct module. \"\"\"\n",
    "\n",
    "struct_mod = reader.iloc[:, 91].to_list()\n",
    "#print(struct_mod)\n",
    "\n",
    "# Calculating the most common\n",
    "level_struct_mod = Counter(struct_mod).most_common()[0][0]\n",
    "print(\"\\nLevel of 'Using the struct modulen' is: \" + level_struct_mod)\n",
    "\n",
    "# Save in array\n",
    "levels.append([\"Using the struct module\", level_struct_mod])"
   ]
  },
  {
   "cell_type": "code",
   "execution_count": 277,
   "metadata": {},
   "outputs": [
    {
     "name": "stdout",
     "output_type": "stream",
     "text": [
      "\n",
      "Level of 'Using the pickle module' is: B1\n"
     ]
    }
   ],
   "source": [
    "\"\"\" Using the pickle module. \"\"\"\n",
    "\n",
    "pickle_mod = reader.iloc[:, 92].to_list()\n",
    "#print(pickle_mod)\n",
    "\n",
    "# Calculating the most common\n",
    "level_pickle_mod = Counter(pickle_mod).most_common()[0][0]\n",
    "print(\"\\nLevel of 'Using the pickle module' is: \" + level_pickle_mod)\n",
    "\n",
    "# Save in array\n",
    "levels.append([\"Using the pickle module\", level_pickle_mod])"
   ]
  },
  {
   "cell_type": "code",
   "execution_count": 278,
   "metadata": {},
   "outputs": [
    {
     "name": "stdout",
     "output_type": "stream",
     "text": [
      "\n",
      "Level of 'Using the shelve module' is: Don't know\n"
     ]
    }
   ],
   "source": [
    "\"\"\" Using the shelve module. \"\"\"\n",
    "\n",
    "shelve_mod = reader.iloc[:, 93].to_list()\n",
    "#print(shelve_mod)\n",
    "\n",
    "# Calculating the most common\n",
    "level_shelve_mod = Counter(shelve_mod).most_common()[0][0]\n",
    "print(\"\\nLevel of 'Using the shelve module' is: \" + level_shelve_mod)\n",
    "\n",
    "# Save in array\n",
    "levels.append([\"Using the shelve module\", level_shelve_mod])"
   ]
  },
  {
   "cell_type": "code",
   "execution_count": 279,
   "metadata": {},
   "outputs": [
    {
     "name": "stdout",
     "output_type": "stream",
     "text": [
      "\n",
      "Level of 'Using the dbm module' is: Don't know\n"
     ]
    }
   ],
   "source": [
    "\"\"\" Using the dbm module. \"\"\"\n",
    "\n",
    "dbm_mod = reader.iloc[:, 94].to_list()\n",
    "#print(dbm_mod)\n",
    "\n",
    "# Calculating the most common\n",
    "level_dbm_mod = Counter(dbm_mod).most_common()[0][0]\n",
    "print(\"\\nLevel of 'Using the dbm module' is: \" + level_dbm_mod)\n",
    "\n",
    "# Save in array\n",
    "levels.append([\"Using the dbm module\", level_dbm_mod])"
   ]
  },
  {
   "cell_type": "code",
   "execution_count": 280,
   "metadata": {},
   "outputs": [
    {
     "name": "stdout",
     "output_type": "stream",
     "text": [
      "\n",
      "Level of 'Using the re module' is: C1\n"
     ]
    }
   ],
   "source": [
    "\"\"\" Using the re module. \"\"\"\n",
    "\n",
    "re_mod = reader.iloc[:, 95].to_list()\n",
    "#print(re_mod)\n",
    "\n",
    "# Calculating the most common\n",
    "level_re_mod = Counter(re_mod).most_common()[0][0]\n",
    "print(\"\\nLevel of 'Using the re module' is: \" + level_re_mod)\n",
    "\n",
    "# Save in array\n",
    "levels.append([\"Using the re module\", level_re_mod])"
   ]
  },
  {
   "cell_type": "code",
   "execution_count": 281,
   "metadata": {},
   "outputs": [
    {
     "name": "stdout",
     "output_type": "stream",
     "text": [
      "\n",
      "Level of 'Using the importlib module' is: C1\n"
     ]
    }
   ],
   "source": [
    "\"\"\" Using the importlib module. \"\"\"\n",
    "\n",
    "importlib_mod = reader.iloc[:, 96].to_list()\n",
    "#print(importlib_mod )\n",
    "\n",
    "# Calculating the most common\n",
    "level_importlib_mod  = Counter(importlib_mod ).most_common()[0][0]\n",
    "print(\"\\nLevel of 'Using the importlib module' is: \" + level_importlib_mod )\n",
    "\n",
    "# Save in array\n",
    "levels.append([\"Using the importlib module\", level_importlib_mod ])"
   ]
  },
  {
   "cell_type": "code",
   "execution_count": 282,
   "metadata": {},
   "outputs": [
    {
     "name": "stdout",
     "output_type": "stream",
     "text": [
      "\n",
      "Level of 'Simple Class' is: A1\n"
     ]
    }
   ],
   "source": [
    "\"\"\" Simple Class. \"\"\"\n",
    "\n",
    "simple_class = reader.iloc[:, 33].to_list()\n",
    "#print(simple_class)\n",
    "\n",
    "# Calculating the most common\n",
    "level_simple_class = Counter(simple_class).most_common()[0][0]\n",
    "print(\"\\nLevel of 'Simple Class' is: \" + level_simple_class)\n",
    "\n",
    "# Save in array\n",
    "levels.append([\"Simple Class\", level_simple_class])"
   ]
  },
  {
   "cell_type": "code",
   "execution_count": 283,
   "metadata": {},
   "outputs": [
    {
     "name": "stdout",
     "output_type": "stream",
     "text": [
      "\n",
      "Level of 'Inherited Class' is: B1\n"
     ]
    }
   ],
   "source": [
    "\"\"\" Inherited Class. \"\"\"\n",
    "\n",
    "inherited_class = reader.iloc[:, 64].to_list()\n",
    "#print(inherited_class)\n",
    "\n",
    "# Calculating the most common\n",
    "level_inherited_class = Counter(inherited_class).most_common()[0][0]\n",
    "print(\"\\nLevel of 'Inherited Class' is: \" + level_inherited_class)\n",
    "\n",
    "# Save in array\n",
    "levels.append([\"Inherited Class\", level_inherited_class])"
   ]
  },
  {
   "cell_type": "code",
   "execution_count": 284,
   "metadata": {},
   "outputs": [
    {
     "name": "stdout",
     "output_type": "stream",
     "text": [
      "\n",
      "Level of 'Using the constructor method --> __init__' is: B1\n"
     ]
    }
   ],
   "source": [
    "\"\"\" Using the constructor method --> __init__. \"\"\"\n",
    "\n",
    "const_method = reader.iloc[:, 34].to_list()\n",
    "#print(const_method)\n",
    "\n",
    "# Calculating the most common\n",
    "level_const_method = Counter(const_method).most_common()[0][0]\n",
    "print(\"\\nLevel of 'Using the constructor method --> __init__' is: \" + level_const_method)\n",
    "\n",
    "# Save in array\n",
    "levels.append([\"Using the constructor method --> __init__\", level_const_method])"
   ]
  },
  {
   "cell_type": "code",
   "execution_count": 285,
   "metadata": {},
   "outputs": [
    {
     "name": "stdout",
     "output_type": "stream",
     "text": [
      "\n",
      "Level of 'Descriptors' is: B1\n"
     ]
    }
   ],
   "source": [
    "\"\"\" Descriptors. \"\"\"\n",
    "\n",
    "descrip = reader.iloc[:, 35].to_list()\n",
    "#print(descrip)\n",
    "\n",
    "# Calculating the most common\n",
    "level_descrip = Counter(descrip).most_common()[0][0]\n",
    "print(\"\\nLevel of 'Descriptors' is: \" + level_descrip)\n",
    "\n",
    "# Save in array\n",
    "levels.append([\"Descriptors\", level_descrip])"
   ]
  },
  {
   "cell_type": "code",
   "execution_count": 286,
   "metadata": {},
   "outputs": [
    {
     "name": "stdout",
     "output_type": "stream",
     "text": [
      "\n",
      "Level of 'Class Properties' is: B1\n"
     ]
    }
   ],
   "source": [
    "\"\"\" Class Properties. \"\"\"\n",
    "\n",
    "proper = reader.iloc[:, 36].to_list()\n",
    "#print(proper)\n",
    "\n",
    "# Calculating the most common\n",
    "level_proper = Counter(proper).most_common()[0][0]\n",
    "print(\"\\nLevel of 'Class Properties' is: \" + level_proper)\n",
    "\n",
    "# Save in array\n",
    "levels.append([\"Class Properties\", level_proper])"
   ]
  },
  {
   "cell_type": "code",
   "execution_count": 287,
   "metadata": {},
   "outputs": [
    {
     "name": "stdout",
     "output_type": "stream",
     "text": [
      "\n",
      "Level of 'Private Methods or Attributes of the class' is: B1\n"
     ]
    }
   ],
   "source": [
    "\"\"\" Private Methods or Attributes of the class. \"\"\"\n",
    "\n",
    "private_class = reader.iloc[:, 37].to_list()\n",
    "#print(private_class)\n",
    "\n",
    "# Calculating the most common\n",
    "level_private_class = Counter(private_class).most_common()[0][0]\n",
    "print(\"\\nLevel of 'Private Methods or Attributes of the class' is: \" + level_private_class)\n",
    "\n",
    "# Save in array\n",
    "levels.append([\"Private Methods or Attributes of the class\", level_private_class])"
   ]
  },
  {
   "cell_type": "code",
   "execution_count": 288,
   "metadata": {},
   "outputs": [
    {
     "name": "stdout",
     "output_type": "stream",
     "text": [
      "\n",
      "Level of 'Class Method' is: B1\n"
     ]
    }
   ],
   "source": [
    "\"\"\" Class Method. \"\"\"\n",
    "\n",
    "class_method = reader.iloc[:, 65].to_list()\n",
    "#print(class_method)\n",
    "\n",
    "# Calculating the most common\n",
    "level_class_method = Counter(class_method).most_common()[0][0]\n",
    "print(\"\\nLevel of 'Class Method' is: \" + level_class_method)\n",
    "\n",
    "# Save in array\n",
    "levels.append([\"Class Method\", level_simple_class])"
   ]
  },
  {
   "cell_type": "code",
   "execution_count": 289,
   "metadata": {},
   "outputs": [
    {
     "name": "stdout",
     "output_type": "stream",
     "text": [
      "\n",
      "Level of 'Static Method' is: B1\n"
     ]
    }
   ],
   "source": [
    "\"\"\" Static Method. \"\"\"\n",
    "\n",
    "static_method = reader.iloc[:, 66].to_list()\n",
    "#print(static_method)\n",
    "\n",
    "# Calculating the most common\n",
    "level_static_method = Counter(static_method).most_common()[0][0]\n",
    "print(\"\\nLevel of 'Static Method' is: \" + level_static_method)\n",
    "\n",
    "# Save in array\n",
    "levels.append([\"Static Method\", level_static_method])"
   ]
  },
  {
   "cell_type": "code",
   "execution_count": 290,
   "metadata": {},
   "outputs": [
    {
     "name": "stdout",
     "output_type": "stream",
     "text": [
      "\n",
      "Level of 'Decorator Function' is: C1\n"
     ]
    }
   ],
   "source": [
    "\"\"\" Decorator Function. \"\"\"\n",
    "\n",
    "decora_funct = reader.iloc[:, 38].to_list()\n",
    "#print(decora_funct)\n",
    "\n",
    "# Calculating the most common\n",
    "level_decora_funct = Counter(decora_funct).most_common()[0][0]\n",
    "print(\"\\nLevel of 'Decorator Function' is: \" + level_decora_funct)\n",
    "\n",
    "# Save in array\n",
    "levels.append([\"Decorator Function\", level_decora_funct])"
   ]
  },
  {
   "cell_type": "code",
   "execution_count": 291,
   "metadata": {},
   "outputs": [
    {
     "name": "stdout",
     "output_type": "stream",
     "text": [
      "\n",
      "Level of 'Decorator Class' is: C1\n"
     ]
    }
   ],
   "source": [
    "\"\"\" Decorator Class. \"\"\"\n",
    "\n",
    "decora_class = reader.iloc[:, 39].to_list()\n",
    "#print(decora_class)\n",
    "\n",
    "# Calculating the most common\n",
    "level_decora_class = Counter(decora_class).most_common()[0][0]\n",
    "print(\"\\nLevel of 'Decorator Class' is: \" + level_decora_class)\n",
    "\n",
    "# Save in array\n",
    "levels.append([\"Decorator Class\", level_decora_class])"
   ]
  },
  {
   "cell_type": "code",
   "execution_count": 292,
   "metadata": {},
   "outputs": [
    {
     "name": "stdout",
     "output_type": "stream",
     "text": [
      "\n",
      "Level of 'Metaclass (3.X) created with --> __new__' is: Don't know\n"
     ]
    }
   ],
   "source": [
    "\"\"\" Metaclass (3.X) created with --> __new__. \"\"\"\n",
    "\n",
    "meta_new = reader.iloc[:, 40].to_list()\n",
    "#print(meta_new)\n",
    "\n",
    "# Calculating the most common\n",
    "level_meta_new = Counter(meta_new).most_common()[0][0]\n",
    "print(\"\\nLevel of 'Metaclass (3.X) created with --> __new__' is: \" + level_meta_new)\n",
    "\n",
    "# Save in array\n",
    "levels.append([\"Metaclass (3.X) created with --> __new__\", level_meta_new])"
   ]
  },
  {
   "cell_type": "code",
   "execution_count": 293,
   "metadata": {},
   "outputs": [
    {
     "name": "stdout",
     "output_type": "stream",
     "text": [
      "\n",
      "Level of 'Metaclass created in the class header --> 'metaclass = '' is: Don't know\n"
     ]
    }
   ],
   "source": [
    "\"\"\" Metaclass created in the class header --> 'metaclass = '. \"\"\"\n",
    "\n",
    "meta_header = reader.iloc[:, 67].to_list()\n",
    "#print(meta_header)\n",
    "\n",
    "# Calculating the most common\n",
    "level_meta_header = Counter(meta_header).most_common()[0][0]\n",
    "print(\"\\nLevel of 'Metaclass created in the class header --> 'metaclass = '' is: \" + level_meta_header)\n",
    "\n",
    "# Save in array\n",
    "levels.append([\"Metaclass created in the class header --> 'metaclass = '\", level_meta_header])"
   ]
  },
  {
   "cell_type": "code",
   "execution_count": 294,
   "metadata": {},
   "outputs": [
    {
     "name": "stdout",
     "output_type": "stream",
     "text": [
      "\n",
      "Level of 'Metaclass (2.X) created as attribute with --> __metaclass__' is: Don't know\n"
     ]
    }
   ],
   "source": [
    "\"\"\" Metaclass (2.X) created as attribute with --> __metaclass__. \"\"\"\n",
    "\n",
    "meta_attr = reader.iloc[:, 97].to_list()\n",
    "#print(meta_attr)\n",
    "\n",
    "# Calculating the most common\n",
    "level_meta_attr = Counter(meta_attr).most_common()[0][0]\n",
    "print(\"\\nLevel of 'Metaclass (2.X) created as attribute with --> __metaclass__' is: \" + level_meta_attr)\n",
    "\n",
    "# Save in array\n",
    "levels.append([\"Metaclass (2.X) created as attribute with --> __metaclass__\", level_meta_attr])"
   ]
  },
  {
   "cell_type": "code",
   "execution_count": 295,
   "metadata": {},
   "outputs": [
    {
     "name": "stdout",
     "output_type": "stream",
     "text": [
      "\n",
      "Level of 'Super function' is: B1\n"
     ]
    }
   ],
   "source": [
    "\"\"\" Super function. \"\"\"\n",
    "\n",
    "super_funct = reader.iloc[:, 68].to_list()\n",
    "#print(super_funct)\n",
    "\n",
    "# Calculating the most common\n",
    "level_super_funct = Counter(super_funct).most_common()[0][0]\n",
    "print(\"\\nLevel of 'Super function' is: \" + level_super_funct)\n",
    "\n",
    "# Save in array\n",
    "levels.append([\"Super function\", level_super_funct])"
   ]
  },
  {
   "cell_type": "code",
   "execution_count": 296,
   "metadata": {},
   "outputs": [
    {
     "name": "stdout",
     "output_type": "stream",
     "text": [
      "\n",
      "Level of 'Attribute  statements __slots__' is: Don't know\n"
     ]
    }
   ],
   "source": [
    "\"\"\" Attribute  statements __slots__. \"\"\"\n",
    "\n",
    "attr_slots = reader.iloc[:, 69].to_list()\n",
    "#print(attr_slots)\n",
    "\n",
    "# Calculating the most common\n",
    "level_attr_slots = Counter(attr_slots).most_common()[0][0]\n",
    "print(\"\\nLevel of 'Attribute  statements __slots__' is: \" + level_attr_slots)\n",
    "\n",
    "# Save in array\n",
    "levels.append([\"Attribute  statements __slots__\", level_attr_slots])"
   ]
  },
  {
   "cell_type": "code",
   "execution_count": 297,
   "metadata": {},
   "outputs": [
    {
     "name": "stdout",
     "output_type": "stream",
     "text": [
      "\n",
      "Level of 'Simple Attribute' is: A1\n"
     ]
    }
   ],
   "source": [
    "\"\"\" Simple Attribute. \"\"\"\n",
    "\n",
    "simple_attr = reader.iloc[:, 70].to_list()\n",
    "#print(simple_attr)\n",
    "\n",
    "# Calculating the most common\n",
    "level_simple_attr = Counter(simple_attr).most_common()[0][0]\n",
    "print(\"\\nLevel of 'Simple Attribute' is: \" + level_simple_attr)\n",
    "\n",
    "# Save in array\n",
    "levels.append([\"Simple Attribute\", level_simple_attr])"
   ]
  },
  {
   "cell_type": "code",
   "execution_count": 298,
   "metadata": {},
   "outputs": [
    {
     "name": "stdout",
     "output_type": "stream",
     "text": [
      "\n",
      "Level of 'Special Class Attribute __class__' is: B2\n"
     ]
    }
   ],
   "source": [
    "\"\"\" Special Class Attribute __class__. \"\"\"\n",
    "\n",
    "attr_class = reader.iloc[:, 71].to_list()\n",
    "#print(attr_class)\n",
    "\n",
    "# Calculating the most common\n",
    "level_attr_class= Counter(attr_class).most_common()[0][0]\n",
    "print(\"\\nLevel of 'Special Class Attribute __class__' is: \" + level_attr_class)\n",
    "\n",
    "# Save in array\n",
    "levels.append([\"Special Class Attribute __class__\", level_attr_class])"
   ]
  },
  {
   "cell_type": "code",
   "execution_count": 299,
   "metadata": {},
   "outputs": [
    {
     "name": "stdout",
     "output_type": "stream",
     "text": [
      "\n",
      "Level of 'Special Class Attribute __dict__' is: Don't know\n"
     ]
    }
   ],
   "source": [
    "\"\"\" Special Class Attribute __dict__. \"\"\"\n",
    "\n",
    "attr_dict = reader.iloc[:, 98].to_list()\n",
    "#print(attr_dict)\n",
    "\n",
    "# Calculating the most common\n",
    "level_attr_dict = Counter(attr_dict).most_common()[0][0]\n",
    "print(\"\\nLevel of 'Special Class Attribute __dict__' is: \" + level_attr_dict)\n",
    "\n",
    "# Save in array\n",
    "levels.append([\"Special Class Attribute __dict__\", level_attr_dict])"
   ]
  },
  {
   "cell_type": "code",
   "execution_count": 300,
   "metadata": {},
   "outputs": [
    {
     "name": "stdout",
     "output_type": "stream",
     "text": [
      "\n",
      "Level of ''try/except' exception' is: B1\n"
     ]
    }
   ],
   "source": [
    "\"\"\" 'try/except' exception. \"\"\"\n",
    "\n",
    "try_excep = reader.iloc[:, 41].to_list()\n",
    "#print(try_excep)\n",
    "\n",
    "# Calculating the most common\n",
    "level_try_excep = Counter(try_excep).most_common()[0][0]\n",
    "print(\"\\nLevel of ''try/except' exception' is: \" + level_try_excep)\n",
    "\n",
    "# Save in array\n",
    "levels.append([\"'try/except' exception\", level_try_excep])"
   ]
  },
  {
   "cell_type": "code",
   "execution_count": 301,
   "metadata": {},
   "outputs": [
    {
     "name": "stdout",
     "output_type": "stream",
     "text": [
      "\n",
      "Level of ''try/else/except' exception' is: B1\n"
     ]
    }
   ],
   "source": [
    "\"\"\" 'try/else/except' exception. \"\"\"\n",
    "\n",
    "try_else_excep = reader.iloc[:, 99].to_list()\n",
    "#print(try_else_excep)\n",
    "\n",
    "# Calculating the most common\n",
    "level_try_else_excep = Counter(try_else_excep).most_common()[0][0]\n",
    "print(\"\\nLevel of ''try/else/except' exception' is: \" + level_try_else_excep)\n",
    "\n",
    "# Save in array\n",
    "levels.append([\"'try/else/except' exception\", level_try_else_excep])"
   ]
  },
  {
   "cell_type": "code",
   "execution_count": 302,
   "metadata": {},
   "outputs": [
    {
     "name": "stdout",
     "output_type": "stream",
     "text": [
      "\n",
      "Level of ''try/try' exception' is: B1\n"
     ]
    }
   ],
   "source": [
    "\"\"\" 'try/try' exception. \"\"\"\n",
    "\n",
    "try_try_excep = reader.iloc[:, 100].to_list()\n",
    "#print(try_try_excep)\n",
    "\n",
    "# Calculating the most common\n",
    "level_try_try_excep = Counter(try_try_excep).most_common()[0][0]\n",
    "print(\"\\nLevel of ''try/try' exception' is: \" + level_try_try_excep)\n",
    "\n",
    "# Save in array\n",
    "levels.append([\"'try/try' exception\", level_try_try_excep])"
   ]
  },
  {
   "cell_type": "code",
   "execution_count": 303,
   "metadata": {},
   "outputs": [
    {
     "name": "stdout",
     "output_type": "stream",
     "text": [
      "\n",
      "Level of ''try/finally' exception' is: B1\n"
     ]
    }
   ],
   "source": [
    "\"\"\" 'try/finally' exception. \"\"\"\n",
    "\n",
    "try_fin = reader.iloc[:, 42].to_list()\n",
    "#print(try_fin)\n",
    "\n",
    "# Calculating the most common\n",
    "level_try_fin = Counter(try_fin).most_common()[0][0]\n",
    "print(\"\\nLevel of ''try/finally' exception' is: \" + level_try_fin)\n",
    "\n",
    "# Save in array\n",
    "levels.append([\"'try/finally' exception\", level_try_fin])"
   ]
  },
  {
   "cell_type": "code",
   "execution_count": 304,
   "metadata": {},
   "outputs": [
    {
     "name": "stdout",
     "output_type": "stream",
     "text": [
      "\n",
      "Level of ''try/except/finally' exception' is: B2\n"
     ]
    }
   ],
   "source": [
    "\"\"\" 'try/except/finally' exception. \"\"\"\n",
    "\n",
    "try_fin_excep = reader.iloc[:, 101].to_list()\n",
    "#print(try_fin_excep)\n",
    "\n",
    "# Calculating the most common\n",
    "level_try_fin_excep = Counter(try_fin_excep).most_common()[0][0]\n",
    "print(\"\\nLevel of ''try/except/finally' exception' is: \" + level_try_fin_excep)\n",
    "\n",
    "# Save in array\n",
    "levels.append([\"'try/except/finally' exception\", level_try_fin_excep])"
   ]
  },
  {
   "cell_type": "code",
   "execution_count": 305,
   "metadata": {},
   "outputs": [
    {
     "name": "stdout",
     "output_type": "stream",
     "text": [
      "\n",
      "Level of ''try/except/else/finally' exception' is: B1\n"
     ]
    }
   ],
   "source": [
    "\"\"\" 'try/except/else/finally' exception. \"\"\"\n",
    "\n",
    "try_excep_else_fin = reader.iloc[:, 102].to_list()\n",
    "#print(try_excep_else_fin)\n",
    "\n",
    "# Calculating the most common\n",
    "level_try_excep_else_fin= Counter(try_excep_else_fin).most_common()[0][0]\n",
    "print(\"\\nLevel of ''try/except/else/finally' exception' is: \" + level_try_excep_else_fin)\n",
    "\n",
    "# Save in array\n",
    "levels.append([\"'try/except/else/finally' exception\", level_try_excep_else_fin])"
   ]
  },
  {
   "cell_type": "code",
   "execution_count": 306,
   "metadata": {},
   "outputs": [
    {
     "name": "stdout",
     "output_type": "stream",
     "text": [
      "\n",
      "Level of ''raise' exception' is: B1\n"
     ]
    }
   ],
   "source": [
    "\"\"\" ‘raise’ exception. \"\"\"\n",
    "\n",
    "raise_excep = reader.iloc[:, 72].to_list()\n",
    "#print(raise_excep)\n",
    "\n",
    "# Calculating the most common\n",
    "level_raise_excep = Counter(raise_excep).most_common()[0][0]\n",
    "print(\"\\nLevel of ''raise' exception' is: \" + level_raise_excep)\n",
    "\n",
    "# Save in array\n",
    "levels.append([\"‘raise’ exception\", level_raise_excep])"
   ]
  },
  {
   "cell_type": "code",
   "execution_count": 307,
   "metadata": {},
   "outputs": [
    {
     "name": "stdout",
     "output_type": "stream",
     "text": [
      "\n",
      "Level of ''assert' exception' is: B1\n"
     ]
    }
   ],
   "source": [
    "\"\"\" ‘assert’ exception. \"\"\"\n",
    "\n",
    "assert_excep = reader.iloc[:, 73].to_list()\n",
    "#print(assert_excep)\n",
    "\n",
    "# Calculating the most common\n",
    "level_assert_excep = Counter(assert_excep).most_common()[0][0]\n",
    "print(\"\\nLevel of ''assert' exception' is: \" + level_assert_excep)\n",
    "\n",
    "# Save in array\n",
    "levels.append([\"'assert' exception\", level_assert_excep])"
   ]
  },
  {
   "cell_type": "code",
   "execution_count": 308,
   "metadata": {},
   "outputs": [
    {
     "name": "stdout",
     "output_type": "stream",
     "text": [
      "\n",
      "Level of ' With' is: A2\n"
     ]
    }
   ],
   "source": [
    "\"\"\" With. \"\"\"\n",
    "\n",
    "with_stat = reader.iloc[:, 43].to_list()\n",
    "#print(with_stat)\n",
    "\n",
    "# Calculating the most common\n",
    "level_with_stat = Counter(with_stat).most_common()[0][0]\n",
    "print(\"\\nLevel of ' With' is: \" + level_with_stat)\n",
    "\n",
    "# Save in array\n",
    "levels.append([\"With\", level_with_stat])"
   ]
  },
  {
   "cell_type": "code",
   "execution_count": 309,
   "metadata": {},
   "outputs": [
    {
     "name": "stdout",
     "output_type": "stream",
     "text": [
      "\n",
      "Level of 'Variadic generics' is: C2\n"
     ]
    }
   ],
   "source": [
    "\"\"\" Variadic generics. \"\"\"\n",
    "\n",
    "variadic_gen = reader.iloc[:, 108].to_list()\n",
    "# print(variadic_gen)\n",
    "\n",
    "# Remove 'nan' element of list\n",
    "variadic_gen = [x for x in variadic_gen if pd.isnull(x) == False]\n",
    "# print(variadic_gen)\n",
    "\n",
    "# Calculating the most common\n",
    "level_variadic_gen = Counter(variadic_gen).most_common()[0][0]\n",
    "print(\"\\nLevel of 'Variadic generics' is: \" + str(level_variadic_gen))\n",
    "\n",
    "# Save in array\n",
    "#levels.append([\"Variadic generics\", level_variadic_gen])"
   ]
  },
  {
   "cell_type": "code",
   "execution_count": 310,
   "metadata": {},
   "outputs": [
    {
     "name": "stdout",
     "output_type": "stream",
     "text": [
      "\n",
      "Level of 'Syntactic Macros' is: Don't know\n"
     ]
    }
   ],
   "source": [
    "\"\"\" Syntactic Macros. \"\"\"\n",
    "\n",
    "syntac_macros = reader.iloc[:, 109].to_list()\n",
    "#print(syntac_macros)\n",
    "\n",
    "# Remove 'nan' element of list\n",
    "syntac_macros = [x for x in syntac_macros if pd.isnull(x) == False]\n",
    "# print(syntac_macros)\n",
    "\n",
    "# Calculating the most common\n",
    "level_syntac_macros = Counter(syntac_macros).most_common()[0][0]\n",
    "print(\"\\nLevel of 'Syntactic Macros' is: \" + str(level_syntac_macros))\n",
    "\n",
    "# Save in array\n",
    "#levels.append([\"Syntactic Macros\", level_syntac_macros])"
   ]
  },
  {
   "cell_type": "code",
   "execution_count": 311,
   "metadata": {},
   "outputs": [
    {
     "name": "stdout",
     "output_type": "stream",
     "text": [
      "\n",
      "Level of 'Type hints' is: B1\n"
     ]
    }
   ],
   "source": [
    "\"\"\" Type hints. \"\"\"\n",
    "\n",
    "type_hints = reader.iloc[:, 110].to_list()\n",
    "#print(type_hints)\n",
    "\n",
    "# Remove 'nan' element of list\n",
    "type_hints = [x for x in type_hints if pd.isnull(x) == False]\n",
    "# print(type_hints)\n",
    "\n",
    "# Calculating the most common\n",
    "level_type_hints = Counter(type_hints).most_common()[0][0]\n",
    "print(\"\\nLevel of 'Type hints' is: \" + str(level_type_hints))\n",
    "\n",
    "# Save in array\n",
    "#levels.append([\"Type hints\", level_type_hints])"
   ]
  },
  {
   "cell_type": "code",
   "execution_count": 312,
   "metadata": {},
   "outputs": [],
   "source": [
    "\"\"\" Create csv file with summary. \"\"\"\n",
    "\n",
    "# convert array into dataframe\n",
    "levels_data = pd.DataFrame(levels)\n",
    "  \n",
    "# save the dataframe as a csv file\n",
    "levels_data.to_csv(\"Long_Evaluation/summary_levels_long.csv\")"
   ]
  },
  {
   "cell_type": "code",
   "execution_count": null,
   "metadata": {},
   "outputs": [],
   "source": []
  },
  {
   "cell_type": "code",
   "execution_count": null,
   "metadata": {},
   "outputs": [],
   "source": []
  }
 ],
 "metadata": {
  "kernelspec": {
   "display_name": "Python 3",
   "language": "python",
   "name": "python3"
  },
  "language_info": {
   "codemirror_mode": {
    "name": "ipython",
    "version": 3
   },
   "file_extension": ".py",
   "mimetype": "text/x-python",
   "name": "python",
   "nbconvert_exporter": "python",
   "pygments_lexer": "ipython3",
   "version": "3.8.5"
  }
 },
 "nbformat": 4,
 "nbformat_minor": 5
}
